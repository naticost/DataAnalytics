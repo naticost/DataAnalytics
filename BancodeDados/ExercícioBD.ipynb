{
  "nbformat": 4,
  "nbformat_minor": 0,
  "metadata": {
    "colab": {
      "provenance": []
    },
    "kernelspec": {
      "name": "python3",
      "display_name": "Python 3"
    },
    "language_info": {
      "name": "python"
    }
  },
  "cells": [
    {
      "cell_type": "code",
      "source": [
        "import sqlite3\n",
        "\n",
        "conn = sqlite3.connect('exercicios_bd.db')\n",
        "cursor = conn.cursor()\n",
        "\n",
        "# 1. Criação da tabela \"alunos\"\n",
        "cursor.execute('''\n",
        "CREATE TABLE IF NOT EXISTS alunos (\n",
        "    id INTEGER PRIMARY KEY,\n",
        "    nome TEXT,\n",
        "    idade INTEGER,\n",
        "    curso TEXT\n",
        ")\n",
        "''')"
      ],
      "metadata": {
        "colab": {
          "base_uri": "https://localhost:8080/"
        },
        "id": "eqxswq518lIW",
        "outputId": "5a9523e7-6f33-4ce9-8b7a-e44bf9a89504"
      },
      "execution_count": 4,
      "outputs": [
        {
          "output_type": "execute_result",
          "data": {
            "text/plain": [
              "<sqlite3.Cursor at 0x7e23f8303d40>"
            ]
          },
          "metadata": {},
          "execution_count": 4
        }
      ]
    },
    {
      "cell_type": "code",
      "source": [
        "# 2. Inserção de registros na tabela \"alunos\"\n",
        "cursor.executemany('''\n",
        "INSERT INTO alunos (nome, idade, curso) VALUES (?, ?, ?)\n",
        "''', [\n",
        "    ('Ana Silva', 22, 'Engenharia'),\n",
        "    ('Carlos Sousa', 19, 'Medicina'),\n",
        "    ('Maria Oliveira', 25, 'Direito'),\n",
        "    ('Pedro Martins', 20, 'Engenharia'),\n",
        "    ('Lucia Pereira', 21, 'Arquitetura')\n",
        "])"
      ],
      "metadata": {
        "colab": {
          "base_uri": "https://localhost:8080/"
        },
        "id": "bWWGnqlT8nKW",
        "outputId": "b2a83593-8d12-42aa-c39b-86135aeb4a25"
      },
      "execution_count": 5,
      "outputs": [
        {
          "output_type": "execute_result",
          "data": {
            "text/plain": [
              "<sqlite3.Cursor at 0x7e23f8303d40>"
            ]
          },
          "metadata": {},
          "execution_count": 5
        }
      ]
    },
    {
      "cell_type": "code",
      "source": [
        "# 3. Consultas Básicas\n",
        "\n",
        "# a) Selecionar todos os registros da tabela \"alunos\"\n",
        "cursor.execute('SELECT * FROM alunos')\n",
        "alunos = cursor.fetchall()\n",
        "print(\"a) Todos os registros:\", alunos)\n",
        "\n",
        "# b) Selecionar o nome e a idade dos alunos com mais de 20 anos\n",
        "cursor.execute('SELECT nome, idade FROM alunos WHERE idade > 20')\n",
        "alunos_maior_20 = cursor.fetchall()\n",
        "print(\"b) Nome e idade dos alunos com mais de 20 anos:\", alunos_maior_20)\n",
        "\n",
        "# c) Selecionar os alunos do curso de \"Engenharia\" em ordem alfabética\n",
        "cursor.execute('SELECT * FROM alunos WHERE curso = \"Engenharia\" ORDER BY nome ASC')\n",
        "alunos_engenharia = cursor.fetchall()\n",
        "print(\"c) Alunos de Engenharia em ordem alfabética:\", alunos_engenharia)\n",
        "\n",
        "# d) Contar o número total de alunos na tabela\n",
        "cursor.execute('SELECT COUNT(*) FROM alunos')\n",
        "total_alunos = cursor.fetchone()[0]\n",
        "print(\"d) Número total de alunos:\", total_alunos)"
      ],
      "metadata": {
        "colab": {
          "base_uri": "https://localhost:8080/"
        },
        "id": "icixJcAs86aA",
        "outputId": "ee947d33-e435-413a-a32c-bd1d24e31278"
      },
      "execution_count": 6,
      "outputs": [
        {
          "output_type": "stream",
          "name": "stdout",
          "text": [
            "a) Todos os registros: [(1, 'Ana Silva', 23, 'Engenharia'), (2, 'Carlos Sousa', 19, 'Medicina'), (4, 'Pedro Martins', 20, 'Engenharia'), (5, 'Lucia Pereira', 21, 'Arquitetura'), (6, 'Ana Silva', 22, 'Engenharia'), (7, 'Carlos Sousa', 19, 'Medicina'), (8, 'Maria Oliveira', 25, 'Direito'), (9, 'Pedro Martins', 20, 'Engenharia'), (10, 'Lucia Pereira', 21, 'Arquitetura')]\n",
            "b) Nome e idade dos alunos com mais de 20 anos: [('Ana Silva', 23), ('Lucia Pereira', 21), ('Ana Silva', 22), ('Maria Oliveira', 25), ('Lucia Pereira', 21)]\n",
            "c) Alunos de Engenharia em ordem alfabética: [(1, 'Ana Silva', 23, 'Engenharia'), (6, 'Ana Silva', 22, 'Engenharia'), (4, 'Pedro Martins', 20, 'Engenharia'), (9, 'Pedro Martins', 20, 'Engenharia')]\n",
            "d) Número total de alunos: 9\n"
          ]
        }
      ]
    },
    {
      "cell_type": "code",
      "source": [
        "# 4. Atualização e Remoção\n",
        "\n",
        "# a) Atualize a idade de um aluno específico na tabela\n",
        "cursor.execute('UPDATE alunos SET idade = 23 WHERE nome = \"Ana Silva\"')\n",
        "\n",
        "# b) Remova um aluno pelo seu ID\n",
        "cursor.execute('DELETE FROM alunos WHERE id = 3')"
      ],
      "metadata": {
        "colab": {
          "base_uri": "https://localhost:8080/"
        },
        "id": "gqGnZRU59GOP",
        "outputId": "07c4158b-6892-458c-b319-409a4b66da0c"
      },
      "execution_count": 7,
      "outputs": [
        {
          "output_type": "execute_result",
          "data": {
            "text/plain": [
              "<sqlite3.Cursor at 0x7e23f8303d40>"
            ]
          },
          "metadata": {},
          "execution_count": 7
        }
      ]
    },
    {
      "cell_type": "code",
      "source": [
        "# 5. Criar uma Tabela e Inserir Dados\n",
        "\n",
        "# Criação da tabela \"clientes\"\n",
        "cursor.execute('''\n",
        "CREATE TABLE IF NOT EXISTS clientes (\n",
        "    id INTEGER PRIMARY KEY,\n",
        "    nome TEXT,\n",
        "    idade INTEGER,\n",
        "    saldo REAL\n",
        ")\n",
        "''')\n",
        "\n",
        "# Inserção de registros na tabela \"clientes\"\n",
        "cursor.executemany('''\n",
        "INSERT INTO clientes (nome, idade, saldo) VALUES (?, ?, ?)\n",
        "''', [\n",
        "    ('João Paulo', 35, 1500.00),\n",
        "    ('Mariana Costa', 28, 800.00),\n",
        "    ('Rafael Lima', 42, 1200.00),\n",
        "    ('Beatriz Alves', 30, 950.00),\n",
        "    ('Carlos Menezes', 38, 2000.00)\n",
        "])\n"
      ],
      "metadata": {
        "colab": {
          "base_uri": "https://localhost:8080/"
        },
        "id": "hAmye1ua9CTY",
        "outputId": "0bd7d516-64ee-4ea9-c98d-71131dc1df2e"
      },
      "execution_count": 8,
      "outputs": [
        {
          "output_type": "execute_result",
          "data": {
            "text/plain": [
              "<sqlite3.Cursor at 0x7e23f8303d40>"
            ]
          },
          "metadata": {},
          "execution_count": 8
        }
      ]
    },
    {
      "cell_type": "code",
      "source": [
        "# 6. Consultas e Funções Agregadas\n",
        "\n",
        "# a) Selecione o nome e a idade dos clientes com idade superior a 30 anos\n",
        "cursor.execute('SELECT nome, idade FROM clientes WHERE idade > 30')\n",
        "clientes_mais_30 = cursor.fetchall()\n",
        "print(\"6a) Clientes com mais de 30 anos:\", clientes_mais_30)\n",
        "\n",
        "# b) Calcule o saldo médio dos clientes\n",
        "cursor.execute('SELECT AVG(saldo) FROM clientes')\n",
        "saldo_medio = cursor.fetchone()[0]\n",
        "print(\"6b) Saldo médio dos clientes:\", saldo_medio)\n",
        "\n",
        "# c) Encontre o cliente com o saldo máximo\n",
        "cursor.execute('SELECT nome, saldo FROM clientes ORDER BY saldo DESC LIMIT 1')\n",
        "cliente_max_saldo = cursor.fetchone()\n",
        "print(\"6c) Cliente com o saldo máximo:\", cliente_max_saldo)\n",
        "\n",
        "# d) Conte quantos clientes têm saldo acima de 1000\n",
        "cursor.execute('SELECT COUNT(*) FROM clientes WHERE saldo > 1000')\n",
        "clientes_saldo_1000 = cursor.fetchone()[0]\n",
        "print(\"6d) Número de clientes com saldo acima de 1000:\", clientes_saldo_1000)\n"
      ],
      "metadata": {
        "colab": {
          "base_uri": "https://localhost:8080/"
        },
        "id": "WoqEsmxj9Lx9",
        "outputId": "f852ae4a-ad88-4ba3-ef4c-334a266c257c"
      },
      "execution_count": 9,
      "outputs": [
        {
          "output_type": "stream",
          "name": "stdout",
          "text": [
            "6a) Clientes com mais de 30 anos: [('João Paulo', 35), ('Carlos Menezes', 38), ('João Paulo', 35), ('Rafael Lima', 42), ('Carlos Menezes', 38)]\n",
            "6b) Saldo médio dos clientes: 1411.111111111111\n",
            "6c) Cliente com o saldo máximo: ('Carlos Menezes', 2000.0)\n",
            "6d) Número de clientes com saldo acima de 1000: 6\n"
          ]
        }
      ]
    },
    {
      "cell_type": "code",
      "source": [
        "# 7. Atualização e Remoção com Condições\n",
        "\n",
        "# a) Atualize o saldo de um cliente específico\n",
        "cursor.execute('UPDATE clientes SET saldo = 1800.00 WHERE nome = \"Mariana Costa\"')\n",
        "\n",
        "# b) Remova um cliente pelo seu ID\n",
        "cursor.execute('DELETE FROM clientes WHERE id = 3')"
      ],
      "metadata": {
        "colab": {
          "base_uri": "https://localhost:8080/"
        },
        "id": "WW7oVuIS9QqL",
        "outputId": "cb897790-9bc2-40b0-a4b3-2ca17ffb0459"
      },
      "execution_count": 10,
      "outputs": [
        {
          "output_type": "execute_result",
          "data": {
            "text/plain": [
              "<sqlite3.Cursor at 0x7e23f8303d40>"
            ]
          },
          "metadata": {},
          "execution_count": 10
        }
      ]
    },
    {
      "cell_type": "code",
      "source": [
        "# 8. Junção de Tabelas\n",
        "\n",
        "# Criação da tabela \"compras\"\n",
        "cursor.execute('''\n",
        "CREATE TABLE IF NOT EXISTS compras (\n",
        "    id INTEGER PRIMARY KEY,\n",
        "    cliente_id INTEGER,\n",
        "    produto TEXT,\n",
        "    valor REAL,\n",
        "    FOREIGN KEY (cliente_id) REFERENCES clientes(id)\n",
        ")\n",
        "''')\n",
        "\n",
        "# Inserção de registros na tabela \"compras\"\n",
        "cursor.executemany('''\n",
        "INSERT INTO compras (cliente_id, produto, valor) VALUES (?, ?, ?)\n",
        "''', [\n",
        "    (1, 'Notebook', 2500.00),\n",
        "    (2, 'Smartphone', 1500.00),\n",
        "    (4, 'Tablet', 1200.00),\n",
        "    (5, 'Smart TV', 3000.00)\n",
        "])\n",
        "\n",
        "# Consulta para exibir o nome do cliente, o produto e o valor de cada compra\n",
        "cursor.execute('''\n",
        "SELECT clientes.nome, compras.produto, compras.valor\n",
        "FROM compras\n",
        "JOIN clientes ON compras.cliente_id = clientes.id\n",
        "''')\n",
        "compras_info = cursor.fetchall()\n",
        "print(\"8) Nome do cliente, produto e valor de cada compra:\", compras_info)\n",
        "\n",
        "# Salvando as alterações e fechando a conexão\n",
        "conn.commit()\n",
        "conn.close()\n"
      ],
      "metadata": {
        "colab": {
          "base_uri": "https://localhost:8080/"
        },
        "id": "89GIC8eS9Xkm",
        "outputId": "61ad2984-7637-4686-e133-99589a5d9b36"
      },
      "execution_count": 11,
      "outputs": [
        {
          "output_type": "stream",
          "name": "stdout",
          "text": [
            "8) Nome do cliente, produto e valor de cada compra: [('João Paulo', 'Notebook', 2500.0), ('Mariana Costa', 'Smartphone', 1500.0), ('Beatriz Alves', 'Tablet', 1200.0), ('Carlos Menezes', 'Smart TV', 3000.0), ('João Paulo', 'Notebook', 2500.0), ('Mariana Costa', 'Smartphone', 1500.0), ('Beatriz Alves', 'Tablet', 1200.0), ('Carlos Menezes', 'Smart TV', 3000.0)]\n"
          ]
        }
      ]
    }
  ]
}