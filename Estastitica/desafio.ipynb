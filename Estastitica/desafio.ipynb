{
 "cells": [
  {
   "cell_type": "code",
   "execution_count": 1,
   "metadata": {},
   "outputs": [],
   "source": [
    "import pandas as pd\n",
    "import numpy as np\n",
    "import seaborn as sns\n",
    "import matplotlib.pyplot as plt\n",
    "import scipy.stats as stat"
   ]
  },
  {
   "cell_type": "code",
   "execution_count": 2,
   "metadata": {},
   "outputs": [],
   "source": [
    "df = pd.read_json('\\\\Users\\\\Trocados\\\\DataAnalytics\\\\Estastitica\\\\enem_2023.json')"
   ]
  },
  {
   "cell_type": "code",
   "execution_count": 3,
   "metadata": {},
   "outputs": [
    {
     "data": {
      "text/html": [
       "<div>\n",
       "<style scoped>\n",
       "    .dataframe tbody tr th:only-of-type {\n",
       "        vertical-align: middle;\n",
       "    }\n",
       "\n",
       "    .dataframe tbody tr th {\n",
       "        vertical-align: top;\n",
       "    }\n",
       "\n",
       "    .dataframe thead th {\n",
       "        text-align: right;\n",
       "    }\n",
       "</style>\n",
       "<table border=\"1\" class=\"dataframe\">\n",
       "  <thead>\n",
       "    <tr style=\"text-align: right;\">\n",
       "      <th></th>\n",
       "      <th>Linguagens</th>\n",
       "      <th>Ciências humanas</th>\n",
       "      <th>Ciências da natureza</th>\n",
       "      <th>Matemática</th>\n",
       "      <th>Redação</th>\n",
       "      <th>Sexo</th>\n",
       "    </tr>\n",
       "  </thead>\n",
       "  <tbody>\n",
       "    <tr>\n",
       "      <th>0</th>\n",
       "      <td>585.669300</td>\n",
       "      <td>686.512178</td>\n",
       "      <td>390.482473</td>\n",
       "      <td>452.281333</td>\n",
       "      <td>546.371706</td>\n",
       "      <td>Homem</td>\n",
       "    </tr>\n",
       "    <tr>\n",
       "      <th>1</th>\n",
       "      <td>359.384608</td>\n",
       "      <td>642.084134</td>\n",
       "      <td>NaN</td>\n",
       "      <td>412.205207</td>\n",
       "      <td>741.825256</td>\n",
       "      <td>Mulher</td>\n",
       "    </tr>\n",
       "    <tr>\n",
       "      <th>2</th>\n",
       "      <td>622.732384</td>\n",
       "      <td>495.510719</td>\n",
       "      <td>443.183580</td>\n",
       "      <td>669.683401</td>\n",
       "      <td>684.515750</td>\n",
       "      <td>Homem</td>\n",
       "    </tr>\n",
       "    <tr>\n",
       "      <th>3</th>\n",
       "      <td>350.164605</td>\n",
       "      <td>602.041588</td>\n",
       "      <td>413.979810</td>\n",
       "      <td>676.608952</td>\n",
       "      <td>671.237114</td>\n",
       "      <td>Homem</td>\n",
       "    </tr>\n",
       "    <tr>\n",
       "      <th>4</th>\n",
       "      <td>384.093657</td>\n",
       "      <td>489.249140</td>\n",
       "      <td>609.758123</td>\n",
       "      <td>520.426698</td>\n",
       "      <td>744.375048</td>\n",
       "      <td>Homem</td>\n",
       "    </tr>\n",
       "  </tbody>\n",
       "</table>\n",
       "</div>"
      ],
      "text/plain": [
       "   Linguagens  Ciências humanas  Ciências da natureza  Matemática     Redação  \\\n",
       "0  585.669300        686.512178            390.482473  452.281333  546.371706   \n",
       "1  359.384608        642.084134                   NaN  412.205207  741.825256   \n",
       "2  622.732384        495.510719            443.183580  669.683401  684.515750   \n",
       "3  350.164605        602.041588            413.979810  676.608952  671.237114   \n",
       "4  384.093657        489.249140            609.758123  520.426698  744.375048   \n",
       "\n",
       "     Sexo  \n",
       "0   Homem  \n",
       "1  Mulher  \n",
       "2   Homem  \n",
       "3   Homem  \n",
       "4   Homem  "
      ]
     },
     "execution_count": 3,
     "metadata": {},
     "output_type": "execute_result"
    }
   ],
   "source": [
    "df.head()"
   ]
  },
  {
   "cell_type": "code",
   "execution_count": 4,
   "metadata": {},
   "outputs": [
    {
     "data": {
      "text/html": [
       "<div>\n",
       "<style scoped>\n",
       "    .dataframe tbody tr th:only-of-type {\n",
       "        vertical-align: middle;\n",
       "    }\n",
       "\n",
       "    .dataframe tbody tr th {\n",
       "        vertical-align: top;\n",
       "    }\n",
       "\n",
       "    .dataframe thead th {\n",
       "        text-align: right;\n",
       "    }\n",
       "</style>\n",
       "<table border=\"1\" class=\"dataframe\">\n",
       "  <thead>\n",
       "    <tr style=\"text-align: right;\">\n",
       "      <th></th>\n",
       "      <th>Linguagens</th>\n",
       "      <th>Ciências humanas</th>\n",
       "      <th>Ciências da natureza</th>\n",
       "      <th>Matemática</th>\n",
       "      <th>Redação</th>\n",
       "    </tr>\n",
       "  </thead>\n",
       "  <tbody>\n",
       "    <tr>\n",
       "      <th>0</th>\n",
       "      <td>585.669300</td>\n",
       "      <td>686.512178</td>\n",
       "      <td>390.482473</td>\n",
       "      <td>452.281333</td>\n",
       "      <td>546.371706</td>\n",
       "    </tr>\n",
       "    <tr>\n",
       "      <th>1</th>\n",
       "      <td>359.384608</td>\n",
       "      <td>642.084134</td>\n",
       "      <td>NaN</td>\n",
       "      <td>412.205207</td>\n",
       "      <td>741.825256</td>\n",
       "    </tr>\n",
       "    <tr>\n",
       "      <th>2</th>\n",
       "      <td>622.732384</td>\n",
       "      <td>495.510719</td>\n",
       "      <td>443.183580</td>\n",
       "      <td>669.683401</td>\n",
       "      <td>684.515750</td>\n",
       "    </tr>\n",
       "    <tr>\n",
       "      <th>3</th>\n",
       "      <td>350.164605</td>\n",
       "      <td>602.041588</td>\n",
       "      <td>413.979810</td>\n",
       "      <td>676.608952</td>\n",
       "      <td>671.237114</td>\n",
       "    </tr>\n",
       "    <tr>\n",
       "      <th>4</th>\n",
       "      <td>384.093657</td>\n",
       "      <td>489.249140</td>\n",
       "      <td>609.758123</td>\n",
       "      <td>520.426698</td>\n",
       "      <td>744.375048</td>\n",
       "    </tr>\n",
       "    <tr>\n",
       "      <th>...</th>\n",
       "      <td>...</td>\n",
       "      <td>...</td>\n",
       "      <td>...</td>\n",
       "      <td>...</td>\n",
       "      <td>...</td>\n",
       "    </tr>\n",
       "    <tr>\n",
       "      <th>995</th>\n",
       "      <td>455.479216</td>\n",
       "      <td>557.756326</td>\n",
       "      <td>511.347833</td>\n",
       "      <td>510.358766</td>\n",
       "      <td>NaN</td>\n",
       "    </tr>\n",
       "    <tr>\n",
       "      <th>996</th>\n",
       "      <td>457.755594</td>\n",
       "      <td>444.616952</td>\n",
       "      <td>542.028624</td>\n",
       "      <td>419.689692</td>\n",
       "      <td>715.984249</td>\n",
       "    </tr>\n",
       "    <tr>\n",
       "      <th>997</th>\n",
       "      <td>551.173161</td>\n",
       "      <td>568.769704</td>\n",
       "      <td>508.034658</td>\n",
       "      <td>NaN</td>\n",
       "      <td>798.408655</td>\n",
       "    </tr>\n",
       "    <tr>\n",
       "      <th>998</th>\n",
       "      <td>495.804002</td>\n",
       "      <td>522.125008</td>\n",
       "      <td>414.167228</td>\n",
       "      <td>451.696456</td>\n",
       "      <td>593.392939</td>\n",
       "    </tr>\n",
       "    <tr>\n",
       "      <th>999</th>\n",
       "      <td>435.332469</td>\n",
       "      <td>425.941701</td>\n",
       "      <td>NaN</td>\n",
       "      <td>466.003345</td>\n",
       "      <td>559.382918</td>\n",
       "    </tr>\n",
       "  </tbody>\n",
       "</table>\n",
       "<p>1000 rows × 5 columns</p>\n",
       "</div>"
      ],
      "text/plain": [
       "     Linguagens  Ciências humanas  Ciências da natureza  Matemática  \\\n",
       "0    585.669300        686.512178            390.482473  452.281333   \n",
       "1    359.384608        642.084134                   NaN  412.205207   \n",
       "2    622.732384        495.510719            443.183580  669.683401   \n",
       "3    350.164605        602.041588            413.979810  676.608952   \n",
       "4    384.093657        489.249140            609.758123  520.426698   \n",
       "..          ...               ...                   ...         ...   \n",
       "995  455.479216        557.756326            511.347833  510.358766   \n",
       "996  457.755594        444.616952            542.028624  419.689692   \n",
       "997  551.173161        568.769704            508.034658         NaN   \n",
       "998  495.804002        522.125008            414.167228  451.696456   \n",
       "999  435.332469        425.941701                   NaN  466.003345   \n",
       "\n",
       "        Redação  \n",
       "0    546.371706  \n",
       "1    741.825256  \n",
       "2    684.515750  \n",
       "3    671.237114  \n",
       "4    744.375048  \n",
       "..          ...  \n",
       "995         NaN  \n",
       "996  715.984249  \n",
       "997  798.408655  \n",
       "998  593.392939  \n",
       "999  559.382918  \n",
       "\n",
       "[1000 rows x 5 columns]"
      ]
     },
     "execution_count": 4,
     "metadata": {},
     "output_type": "execute_result"
    }
   ],
   "source": [
    "df.iloc[:, :5]"
   ]
  },
  {
   "cell_type": "markdown",
   "metadata": {},
   "source": [
    "## 1. Qual das disciplinas tem a maior amplitude de nota?\n"
   ]
  },
  {
   "cell_type": "code",
   "execution_count": 7,
   "metadata": {},
   "outputs": [
    {
     "data": {
      "text/html": [
       "<div>\n",
       "<style scoped>\n",
       "    .dataframe tbody tr th:only-of-type {\n",
       "        vertical-align: middle;\n",
       "    }\n",
       "\n",
       "    .dataframe tbody tr th {\n",
       "        vertical-align: top;\n",
       "    }\n",
       "\n",
       "    .dataframe thead th {\n",
       "        text-align: right;\n",
       "    }\n",
       "</style>\n",
       "<table border=\"1\" class=\"dataframe\">\n",
       "  <thead>\n",
       "    <tr style=\"text-align: right;\">\n",
       "      <th></th>\n",
       "      <th>Linguagens</th>\n",
       "      <th>Ciências humanas</th>\n",
       "      <th>Ciências da natureza</th>\n",
       "      <th>Matemática</th>\n",
       "      <th>Redação</th>\n",
       "    </tr>\n",
       "  </thead>\n",
       "  <tbody>\n",
       "    <tr>\n",
       "      <th>count</th>\n",
       "      <td>897.000000</td>\n",
       "      <td>936.000000</td>\n",
       "      <td>824.000000</td>\n",
       "      <td>924.000000</td>\n",
       "      <td>860.000000</td>\n",
       "    </tr>\n",
       "    <tr>\n",
       "      <th>mean</th>\n",
       "      <td>514.524809</td>\n",
       "      <td>527.042281</td>\n",
       "      <td>499.315583</td>\n",
       "      <td>535.965660</td>\n",
       "      <td>637.783532</td>\n",
       "    </tr>\n",
       "    <tr>\n",
       "      <th>std</th>\n",
       "      <td>84.009313</td>\n",
       "      <td>77.811519</td>\n",
       "      <td>78.760404</td>\n",
       "      <td>86.648100</td>\n",
       "      <td>115.339972</td>\n",
       "    </tr>\n",
       "    <tr>\n",
       "      <th>min</th>\n",
       "      <td>287.000000</td>\n",
       "      <td>289.900000</td>\n",
       "      <td>314.400000</td>\n",
       "      <td>319.800000</td>\n",
       "      <td>270.839965</td>\n",
       "    </tr>\n",
       "    <tr>\n",
       "      <th>25%</th>\n",
       "      <td>458.360558</td>\n",
       "      <td>475.424546</td>\n",
       "      <td>444.709076</td>\n",
       "      <td>479.172971</td>\n",
       "      <td>556.468366</td>\n",
       "    </tr>\n",
       "    <tr>\n",
       "      <th>50%</th>\n",
       "      <td>515.045250</td>\n",
       "      <td>524.519920</td>\n",
       "      <td>500.479263</td>\n",
       "      <td>533.247767</td>\n",
       "      <td>635.273973</td>\n",
       "    </tr>\n",
       "    <tr>\n",
       "      <th>75%</th>\n",
       "      <td>571.635876</td>\n",
       "      <td>581.401952</td>\n",
       "      <td>548.751678</td>\n",
       "      <td>592.912963</td>\n",
       "      <td>715.989868</td>\n",
       "    </tr>\n",
       "    <tr>\n",
       "      <th>max</th>\n",
       "      <td>804.456317</td>\n",
       "      <td>763.919695</td>\n",
       "      <td>802.004568</td>\n",
       "      <td>807.877902</td>\n",
       "      <td>1000.000000</td>\n",
       "    </tr>\n",
       "  </tbody>\n",
       "</table>\n",
       "</div>"
      ],
      "text/plain": [
       "       Linguagens  Ciências humanas  Ciências da natureza  Matemática  \\\n",
       "count  897.000000        936.000000            824.000000  924.000000   \n",
       "mean   514.524809        527.042281            499.315583  535.965660   \n",
       "std     84.009313         77.811519             78.760404   86.648100   \n",
       "min    287.000000        289.900000            314.400000  319.800000   \n",
       "25%    458.360558        475.424546            444.709076  479.172971   \n",
       "50%    515.045250        524.519920            500.479263  533.247767   \n",
       "75%    571.635876        581.401952            548.751678  592.912963   \n",
       "max    804.456317        763.919695            802.004568  807.877902   \n",
       "\n",
       "           Redação  \n",
       "count   860.000000  \n",
       "mean    637.783532  \n",
       "std     115.339972  \n",
       "min     270.839965  \n",
       "25%     556.468366  \n",
       "50%     635.273973  \n",
       "75%     715.989868  \n",
       "max    1000.000000  "
      ]
     },
     "execution_count": 7,
     "metadata": {},
     "output_type": "execute_result"
    }
   ],
   "source": [
    "df.describe()"
   ]
  },
  {
   "cell_type": "markdown",
   "metadata": {},
   "source": [
    "## 2. Qual é a média e a mediana para cada uma das disciplinas? (Lembre-sede remover todos os valores nulos quando considerar a mediana)\n"
   ]
  },
  {
   "cell_type": "code",
   "execution_count": 5,
   "metadata": {},
   "outputs": [
    {
     "data": {
      "text/plain": [
       "Linguagens              514.524809\n",
       "Ciências humanas        527.042281\n",
       "Ciências da natureza    499.315583\n",
       "Matemática              535.965660\n",
       "Redação                 637.783532\n",
       "dtype: float64"
      ]
     },
     "execution_count": 5,
     "metadata": {},
     "output_type": "execute_result"
    }
   ],
   "source": [
    "df[['Linguagens','Ciências humanas', 'Ciências da natureza', 'Matemática', 'Redação' ]].mean()"
   ]
  },
  {
   "cell_type": "code",
   "execution_count": 6,
   "metadata": {},
   "outputs": [
    {
     "data": {
      "text/plain": [
       "Linguagens              515.045250\n",
       "Ciências humanas        524.519920\n",
       "Ciências da natureza    500.479263\n",
       "Matemática              533.247767\n",
       "Redação                 635.273973\n",
       "dtype: float64"
      ]
     },
     "execution_count": 6,
     "metadata": {},
     "output_type": "execute_result"
    }
   ],
   "source": [
    "df[['Linguagens','Ciências humanas', 'Ciências da natureza', 'Matemática', 'Redação' ]].median()"
   ]
  },
  {
   "cell_type": "markdown",
   "metadata": {},
   "source": [
    "## 3. Considerando o curso de Ciência da Computação da UFPE, onde o peso cada uma das disciplinas ponderado:\n",
    "a. Redação - 2\n",
    "\n",
    "b. Matemática e suas Tecnologias - 4\n",
    "\n",
    "c. Linguagens, Códigos e suas Tecnologias - 2\n",
    "\n",
    "d. Ciências Humanas e suas Tecnologias - 1\n",
    "\n",
    "e. Ciências da Natureza e suas Tecnologias - 1\n",
    "\n",
    "Qual o desvio padrão e média das notas dos 500 estudantes mais bem colocados considerando esses pesos?\n"
   ]
  },
  {
   "cell_type": "code",
   "execution_count": 11,
   "metadata": {},
   "outputs": [
    {
     "name": "stdout",
     "output_type": "stream",
     "text": [
      "Média dos 500 melhores: 557.2896772018769\n",
      "Desvio padrão dos 500 melhores: 40.435866299464266\n"
     ]
    }
   ],
   "source": [
    "# Definindo os pesos\n",
    "pesos = {\n",
    "    \"Redação\": 2,\n",
    "    \"Matemática\": 4,\n",
    "    \"Linguagens\": 2,\n",
    "    \"Ciências humanas\": 1,\n",
    "    \"Ciências da natureza\": 1\n",
    "}\n",
    "\n",
    "# Calculando a média ponderada para cada estudante\n",
    "df['media_ponderada'] = (df['Redação'] * pesos['Redação'] +\n",
    "                         df['Matemática'] * pesos['Matemática'] +\n",
    "                         df['Linguagens'] * pesos['Linguagens'] +\n",
    "                         df['Ciências humanas'] * pesos['Ciências humanas'] +\n",
    "                         df['Ciências da natureza'] * pesos['Ciências da natureza']) / sum(pesos.values())\n",
    "\n",
    "# Selecionando os 500 melhores estudantes\n",
    "melhores_500 = df.nlargest(500, 'media_ponderada')\n",
    "\n",
    "# Calculando a média e o desvio padrão\n",
    "media_melhores_500 = melhores_500['media_ponderada'].mean()\n",
    "desvio_padrao_melhores_500 = melhores_500['media_ponderada'].std()\n",
    "\n",
    "print(f\"Média dos 500 melhores: {media_melhores_500}\")\n",
    "print(f\"Desvio padrão dos 500 melhores: {desvio_padrao_melhores_500}\")\n"
   ]
  },
  {
   "cell_type": "markdown",
   "metadata": {},
   "source": [
    "## 4. Se todos esses estudantes aplicassem para ciência da computação e existem apenas 40 vagas, qual seria a variância e média da nota dos estudantes que entraram no curso de ciência da computação?"
   ]
  },
  {
   "cell_type": "code",
   "execution_count": 12,
   "metadata": {},
   "outputs": [
    {
     "name": "stdout",
     "output_type": "stream",
     "text": [
      "Média dos 40 primeiros: 636.6827415075188\n",
      "Variância dos 40 primeiros: 295.7675036004101\n"
     ]
    }
   ],
   "source": [
    "# Selecionando os 40 primeiros estudantes\n",
    "primeiros_40 = df.nlargest(40, 'media_ponderada')\n",
    "\n",
    "# Calculando a variância e a média\n",
    "media_primeiros_40 = primeiros_40['media_ponderada'].mean()\n",
    "variancia_primeiros_40 = primeiros_40['media_ponderada'].var()\n",
    "\n",
    "print(f\"Média dos 40 primeiros: {media_primeiros_40}\")\n",
    "print(f\"Variância dos 40 primeiros: {variancia_primeiros_40}\")\n"
   ]
  },
  {
   "cell_type": "markdown",
   "metadata": {},
   "source": [
    "## 5. Qual o valor do teto do terceiro quartil para as disciplinas de matemática e linguagens?"
   ]
  },
  {
   "cell_type": "code",
   "execution_count": 17,
   "metadata": {},
   "outputs": [
    {
     "name": "stdout",
     "output_type": "stream",
     "text": [
      "Terceiro quartil - Matemática: 592.9129628887\n",
      "Terceiro quartil - Linguagens: 571.6358759278\n"
     ]
    }
   ],
   "source": [
    "# Calculando o terceiro quartil para Matemática e Linguagens\n",
    "terceiro_quartil_matematica = df['Matemática'].quantile(0.75)\n",
    "terceiro_quartil_linguagens = df['Linguagens'].quantile(0.75)\n",
    "\n",
    "print(f\"Terceiro quartil - Matemática: {terceiro_quartil_matematica}\")\n",
    "print(f\"Terceiro quartil - Linguagens: {terceiro_quartil_linguagens}\")\n"
   ]
  },
  {
   "cell_type": "markdown",
   "metadata": {},
   "source": [
    "## 6. Faça o histograma de Redação e Linguagens, de 20 em 20 pontos. Podemos dizer que são histogramas simétricos, justifique e classifique se não assimétricas?"
   ]
  },
  {
   "cell_type": "code",
   "execution_count": 13,
   "metadata": {},
   "outputs": [
    {
     "data": {
      "image/png": "[encoded data removed]",
      "text/plain": [
       "<Figure size 1200x600 with 2 Axes>"
      ]
     },
     "metadata": {},
     "output_type": "display_data"
    }
   ],
   "source": [
    "import matplotlib.pyplot as plt\n",
    "\n",
    "# Criando o histograma para Redação\n",
    "plt.figure(figsize=(12, 6))\n",
    "\n",
    "plt.subplot(1, 2, 1)  # Subplot para Redação\n",
    "plt.hist(df['Redação'].dropna(), bins=range(0, 1001, 20), edgecolor='black')\n",
    "plt.title('Histograma - Redação')\n",
    "plt.xlabel('Pontuação')\n",
    "plt.ylabel('Frequência')\n",
    "\n",
    "# Criando o histograma para Linguagens\n",
    "plt.subplot(1, 2, 2)  # Subplot para Linguagens\n",
    "plt.hist(df['Linguagens'].dropna(), bins=range(0, 1001, 20), edgecolor='black')\n",
    "plt.title('Histograma - Linguagens')\n",
    "plt.xlabel('Pontuação')\n",
    "plt.ylabel('Frequência')\n",
    "\n",
    "plt.tight_layout()\n",
    "plt.show()\n"
   ]
  },
  {
   "cell_type": "markdown",
   "metadata": {},
   "source": [
    "## 7. Agora coloque um range fixo de 0 até 1000, você ainda tem a mesma opinião quanto a simetria? [plt.hist(dado, bins=_, range=[0, 1000])"
   ]
  },
  {
   "cell_type": "code",
   "execution_count": 18,
   "metadata": {},
   "outputs": [
    {
     "data": {
      "image/png": "[encoded data removed]",
      "text/plain": [
       "<Figure size 1200x600 with 2 Axes>"
      ]
     },
     "metadata": {},
     "output_type": "display_data"
    }
   ],
   "source": [
    "# Criando o histograma para Redação com range fixo\n",
    "plt.figure(figsize=(12, 6))\n",
    "\n",
    "plt.subplot(1, 2, 1)  # Subplot para Redação\n",
    "plt.hist(df['Redação'].dropna(), bins=20, range=(0, 1000), edgecolor='black')\n",
    "plt.title('Histograma com Range Fixo - Redação')\n",
    "plt.xlabel('Pontuação')\n",
    "plt.ylabel('Frequência')\n",
    "\n",
    "# Criando o histograma para Linguagens com range fixo\n",
    "plt.subplot(1, 2, 2)  # Subplot para Linguagens\n",
    "plt.hist(df['Linguagens'].dropna(), bins=20, range=(0, 1000), edgecolor='black')\n",
    "plt.title('Histograma com Range Fixo - Linguagens')\n",
    "plt.xlabel('Pontuação')\n",
    "plt.ylabel('Frequência')\n",
    "\n",
    "plt.tight_layout()\n",
    "plt.show()\n"
   ]
  },
  {
   "cell_type": "markdown",
   "metadata": {},
   "source": [
    "## 8. Faça um boxplot do quartil de todas as disciplinas de ciências da natureza e redação. É possível enxergar outliers? Utilize o método IQR."
   ]
  },
  {
   "cell_type": "code",
   "execution_count": 20,
   "metadata": {},
   "outputs": [
    {
     "data": {
      "image/png": "[encoded data removed]",
      "text/plain": [
       "<Figure size 1000x600 with 1 Axes>"
      ]
     },
     "metadata": {},
     "output_type": "display_data"
    },
    {
     "name": "stdout",
     "output_type": "stream",
     "text": [
      "Outliers em Ciências da Natureza: 325    802.004568\n",
      "482    732.502964\n",
      "483    718.396061\n",
      "Name: Ciências da natureza, dtype: float64\n",
      "Outliers em Redação: 9       270.839965\n",
      "545     290.308608\n",
      "720    1000.000000\n",
      "870     981.016553\n",
      "Name: Redação, dtype: float64\n"
     ]
    }
   ],
   "source": [
    "# Criando boxplots para Ciências da Natureza e Redação\n",
    "plt.figure(figsize=(10, 6))\n",
    "df[['Ciências da natureza', 'Redação']].boxplot()\n",
    "plt.title('Boxplot - Ciências da Natureza e Redação')\n",
    "plt.ylabel('Pontuação')\n",
    "plt.show()\n",
    "\n",
    "# Calculando os outliers usando o método IQR\n",
    "def identificar_outliers_iqr(serie):\n",
    "    Q1 = serie.quantile(0.25)\n",
    "    Q3 = serie.quantile(0.75)\n",
    "    IQR = Q3 - Q1\n",
    "    lim_inferior = Q1 - 1.5 * IQR\n",
    "    lim_superior = Q3 + 1.5 * IQR\n",
    "    outliers = serie[(serie < lim_inferior) | (serie > lim_superior)]\n",
    "    return outliers\n",
    "\n",
    "outliers_ciencias = identificar_outliers_iqr(df['Ciências da natureza'])\n",
    "outliers_redacao = identificar_outliers_iqr(df['Redação'])\n",
    "\n",
    "print(f\"Outliers em Ciências da Natureza: {outliers_ciencias}\")\n",
    "print(f\"Outliers em Redação: {outliers_redacao}\")\n"
   ]
  },
  {
   "cell_type": "markdown",
   "metadata": {},
   "source": [
    "## 9. Remova todos os outliers e verifique se eles são passíveis de alterar a média nacional significativamente? (considere significativamente um valor acima de 5%)\n"
   ]
  },
  {
   "cell_type": "code",
   "execution_count": 23,
   "metadata": {},
   "outputs": [
    {
     "name": "stdout",
     "output_type": "stream",
     "text": [
      "Impacto na média nacional após remover outliers: \n",
      "Linguagens             -0.009990\n",
      "Ciências humanas       -0.035856\n",
      "Ciências da natureza   -0.229157\n",
      "Matemática              0.044125\n",
      "Redação                -0.023995\n",
      "media_ponderada         0.028974\n",
      "dtype: float64\n"
     ]
    }
   ],
   "source": [
    "# Filtrando apenas as colunas numéricas\n",
    "colunas_numericas = df.select_dtypes(include=['float64', 'int64']).columns\n",
    "\n",
    "# Recalculando a média nacional considerando apenas as colunas numéricas\n",
    "media_nacional_original = df[colunas_numericas].mean()\n",
    "media_nacional_sem_outliers = df_sem_outliers[colunas_numericas].mean()\n",
    "\n",
    "# Comparando as médias\n",
    "diferenca_media = (media_nacional_sem_outliers - media_nacional_original) / media_nacional_original * 100\n",
    "print(f\"Impacto na média nacional após remover outliers: \\n{diferenca_media}\")\n",
    "\n"
   ]
  },
  {
   "cell_type": "markdown",
   "metadata": {},
   "source": [
    "## 10. Considerando valores nulos, tente encontrar qual seria a melhor medida de tendência que pode substituir as notas nulas. Média, moda ou mediana? Substitua o valor por todos os três e diga qual delas altera menos a média geral e o desvio padrão."
   ]
  },
  {
   "cell_type": "code",
   "execution_count": 25,
   "metadata": {},
   "outputs": [
    {
     "name": "stdout",
     "output_type": "stream",
     "text": [
      "Impacto na média geral (Média, Moda, Mediana): {'média': 2.8421709430404007e-13, 'moda': 197.07188341939337, 'mediana': 1.8642212938365788}\n",
      "Impacto no desvio padrão (Média, Moda, Mediana): {'média': 38.004695548868234, 'moda': 152.1569866767843, 'mediana': 37.980002924119724}\n"
     ]
    }
   ],
   "source": [
    "# Filtrando as colunas numéricas\n",
    "colunas_numericas = df.select_dtypes(include=['float64', 'int64']).columns\n",
    "\n",
    "# Substituição dos valores nulos por média, moda e mediana nas colunas numéricas\n",
    "df_media = df.copy()\n",
    "df_media[colunas_numericas] = df[colunas_numericas].fillna(df[colunas_numericas].mean())\n",
    "\n",
    "df_moda = df.copy()\n",
    "df_moda[colunas_numericas] = df[colunas_numericas].fillna(df[colunas_numericas].mode().iloc[0])\n",
    "\n",
    "df_mediana = df.copy()\n",
    "df_mediana[colunas_numericas] = df[colunas_numericas].fillna(df[colunas_numericas].median())\n",
    "\n",
    "# Recalculando a média geral e desvio padrão para cada caso\n",
    "media_media = df_media[colunas_numericas].mean()\n",
    "media_moda = df_moda[colunas_numericas].mean()\n",
    "media_mediana = df_mediana[colunas_numericas].mean()\n",
    "\n",
    "desvio_media = df_media[colunas_numericas].std()\n",
    "desvio_moda = df_moda[colunas_numericas].std()\n",
    "desvio_mediana = df_mediana[colunas_numericas].std()\n",
    "\n",
    "# Comparando o impacto na média geral e desvio padrão\n",
    "impacto_media = {\n",
    "    'média': abs(media_media - df[colunas_numericas].mean()).sum(),\n",
    "    'moda': abs(media_moda - df[colunas_numericas].mean()).sum(),\n",
    "    'mediana': abs(media_mediana - df[colunas_numericas].mean()).sum()\n",
    "}\n",
    "\n",
    "impacto_desvio = {\n",
    "    'média': abs(desvio_media - df[colunas_numericas].std()).sum(),\n",
    "    'moda': abs(desvio_moda - df[colunas_numericas].std()).sum(),\n",
    "    'mediana': abs(desvio_mediana - df[colunas_numericas].std()).sum()\n",
    "}\n",
    "\n",
    "print(f\"Impacto na média geral (Média, Moda, Mediana): {impacto_media}\")\n",
    "print(f\"Impacto no desvio padrão (Média, Moda, Mediana): {impacto_desvio}\")\n"
   ]
  }
 ],
 "metadata": {
  "kernelspec": {
   "display_name": "Python 3",
   "language": "python",
   "name": "python3"
  },
  "language_info": {
   "codemirror_mode": {
    "name": "ipython",
    "version": 3
   },
   "file_extension": ".py",
   "mimetype": "text/x-python",
   "name": "python",
   "nbconvert_exporter": "python",
   "pygments_lexer": "ipython3",
   "version": "3.12.4"
  }
 },
 "nbformat": 4,
 "nbformat_minor": 2
}
