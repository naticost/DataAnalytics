{
  "nbformat": 4,
  "nbformat_minor": 0,
  "metadata": {
    "colab": {
      "provenance": []
    },
    "kernelspec": {
      "name": "python3",
      "display_name": "Python 3"
    },
    "language_info": {
      "name": "python"
    }
  },
  "cells": [
    {
      "cell_type": "code",
      "execution_count": 1,
      "metadata": {
        "id": "s-4cD4a2NazV"
      },
      "outputs": [],
      "source": [
        "import numpy as np"
      ]
    },
    {
      "cell_type": "markdown",
      "source": [
        "## Rascunho - Introdução ao Numpy"
      ],
      "metadata": {
        "id": "ImIu6U1tapvP"
      }
    },
    {
      "cell_type": "code",
      "source": [
        "l = [4, 8, 2, 12, 5, 8, 0]"
      ],
      "metadata": {
        "id": "Vqe9MVcRNeZR"
      },
      "execution_count": 2,
      "outputs": []
    },
    {
      "cell_type": "code",
      "source": [
        "arr = np.array(l)\n",
        "arr"
      ],
      "metadata": {
        "colab": {
          "base_uri": "https://localhost:8080/"
        },
        "id": "wAaR4l8iPeB9",
        "outputId": "143f84cc-0ac6-4650-c0ed-597aa4f33753"
      },
      "execution_count": 6,
      "outputs": [
        {
          "output_type": "execute_result",
          "data": {
            "text/plain": [
              "array([ 4,  8,  2, 12,  5,  8,  0])"
            ]
          },
          "metadata": {},
          "execution_count": 6
        }
      ]
    },
    {
      "cell_type": "markdown",
      "source": [],
      "metadata": {
        "id": "VRiILYp9ZuF_"
      }
    },
    {
      "cell_type": "code",
      "source": [
        "type(arr)"
      ],
      "metadata": {
        "colab": {
          "base_uri": "https://localhost:8080/"
        },
        "id": "DRsgDeOvPj2M",
        "outputId": "51e6589e-919f-4db7-81bf-604450eaf2b7"
      },
      "execution_count": 7,
      "outputs": [
        {
          "output_type": "execute_result",
          "data": {
            "text/plain": [
              "numpy.ndarray"
            ]
          },
          "metadata": {},
          "execution_count": 7
        }
      ]
    },
    {
      "cell_type": "code",
      "source": [
        "l2 = [[1, 2, 3],\n",
        "      [4, 5, 6]]\n",
        "\n",
        "np.array(l2)"
      ],
      "metadata": {
        "colab": {
          "base_uri": "https://localhost:8080/"
        },
        "id": "J0QdGt9fPlKi",
        "outputId": "27c148bc-3b26-4730-fc69-19073cf768f6"
      },
      "execution_count": null,
      "outputs": [
        {
          "output_type": "execute_result",
          "data": {
            "text/plain": [
              "array([[1, 2, 3],\n",
              "       [4, 5, 6]])"
            ]
          },
          "metadata": {},
          "execution_count": 8
        }
      ]
    },
    {
      "cell_type": "code",
      "source": [
        "np.zeros()\n",
        "np.arange()\n",
        "np.random.random()"
      ],
      "metadata": {
        "id": "UXc41fNPUPHk",
        "colab": {
          "base_uri": "https://localhost:8080/"
        },
        "outputId": "ef0b7ffe-7b26-409f-c68e-dc7146217392"
      },
      "execution_count": 12,
      "outputs": [
        {
          "output_type": "execute_result",
          "data": {
            "text/plain": [
              "0.7834364111617669"
            ]
          },
          "metadata": {},
          "execution_count": 12
        }
      ]
    },
    {
      "cell_type": "code",
      "source": [
        "l3 = [1, \"ss\", []]\n",
        "a = np.array(l3)"
      ],
      "metadata": {
        "id": "Zkq_q0cNP57z",
        "colab": {
          "base_uri": "https://localhost:8080/"
        },
        "outputId": "34fc9c7d-1c51-4684-be9e-ceab4e04986f"
      },
      "execution_count": null,
      "outputs": [
        {
          "output_type": "stream",
          "name": "stderr",
          "text": [
            "<ipython-input-12-84f5fad3fe04>:2: VisibleDeprecationWarning: Creating an ndarray from ragged nested sequences (which is a list-or-tuple of lists-or-tuples-or ndarrays with different lengths or shapes) is deprecated. If you meant to do this, you must specify 'dtype=object' when creating the ndarray.\n",
            "  a = np.array(l3)\n"
          ]
        }
      ]
    },
    {
      "cell_type": "code",
      "source": [
        "np.zeros((5, 3))"
      ],
      "metadata": {
        "colab": {
          "base_uri": "https://localhost:8080/"
        },
        "id": "o8Z1Z8idR7fj",
        "outputId": "c71e6781-f8b3-4426-c6d1-46812ad8cbff"
      },
      "execution_count": 13,
      "outputs": [
        {
          "output_type": "execute_result",
          "data": {
            "text/plain": [
              "array([[0., 0., 0.],\n",
              "       [0., 0., 0.],\n",
              "       [0., 0., 0.],\n",
              "       [0., 0., 0.],\n",
              "       [0., 0., 0.]])"
            ]
          },
          "metadata": {},
          "execution_count": 13
        }
      ]
    },
    {
      "cell_type": "code",
      "source": [
        "np.random.random((2,3))"
      ],
      "metadata": {
        "colab": {
          "base_uri": "https://localhost:8080/"
        },
        "id": "1OWHhsD_R9Wu",
        "outputId": "3a5c8303-4617-47b8-8c49-257409202f2c"
      },
      "execution_count": null,
      "outputs": [
        {
          "output_type": "execute_result",
          "data": {
            "text/plain": [
              "array([[0.35213731, 0.43131085, 0.1132482 ],\n",
              "       [0.86372949, 0.38807941, 0.64214068]])"
            ]
          },
          "metadata": {},
          "execution_count": 21
        }
      ]
    },
    {
      "cell_type": "code",
      "source": [
        "np.random"
      ],
      "metadata": {
        "colab": {
          "base_uri": "https://localhost:8080/"
        },
        "id": "vQdnroSJS8L-",
        "outputId": "a7cb5551-61d3-4968-a3c0-74dfe5d993ee"
      },
      "execution_count": null,
      "outputs": [
        {
          "output_type": "execute_result",
          "data": {
            "text/plain": [
              "<module 'numpy.random' from '/usr/local/lib/python3.10/dist-packages/numpy/random/__init__.py'>"
            ]
          },
          "metadata": {},
          "execution_count": 25
        }
      ]
    },
    {
      "cell_type": "code",
      "source": [
        "np.arange(-2, 5, 2)"
      ],
      "metadata": {
        "colab": {
          "base_uri": "https://localhost:8080/"
        },
        "id": "tvSvwbt2WDoW",
        "outputId": "5357bc28-9ff4-4c85-f3a7-8144db729710"
      },
      "execution_count": null,
      "outputs": [
        {
          "output_type": "execute_result",
          "data": {
            "text/plain": [
              "array([-2,  0,  2,  4])"
            ]
          },
          "metadata": {},
          "execution_count": 29
        }
      ]
    },
    {
      "cell_type": "code",
      "source": [
        "list(range(-2, 5, 2))"
      ],
      "metadata": {
        "colab": {
          "base_uri": "https://localhost:8080/"
        },
        "id": "Q5ugFgTxWHuN",
        "outputId": "f4b010f7-8c58-4717-91e8-6a07bb13fcc0"
      },
      "execution_count": null,
      "outputs": [
        {
          "output_type": "execute_result",
          "data": {
            "text/plain": [
              "[-2, 0, 2, 4]"
            ]
          },
          "metadata": {},
          "execution_count": 30
        }
      ]
    },
    {
      "cell_type": "code",
      "source": [
        "from matplotlib import pyplot as plt"
      ],
      "metadata": {
        "id": "sHo2Y7dGWKgG"
      },
      "execution_count": 15,
      "outputs": []
    },
    {
      "cell_type": "code",
      "source": [
        "plt.scatter(np.arange(0,12),\n",
        "            np.arange(-3,9))\n",
        "plt.show()"
      ],
      "metadata": {
        "colab": {
          "base_uri": "https://localhost:8080/",
          "height": 430
        },
        "id": "jGGAaAAyWeDr",
        "outputId": "1b6b2618-d1ad-453b-8c5c-7f581fe4e7d6"
      },
      "execution_count": 16,
      "outputs": [
        {
          "output_type": "display_data",
          "data": {
            "text/plain": [
              "<Figure size 640x480 with 1 Axes>"
            ],
            "image/png": "[encoded data removed]"
          },
          "metadata": {}
        }
      ]
    },
    {
      "cell_type": "code",
      "source": [],
      "metadata": {
        "id": "xJ1LV8DNWmQN"
      },
      "execution_count": null,
      "outputs": []
    },
    {
      "cell_type": "markdown",
      "source": [
        "## 1. Crie um array com 4 linhas e 3 colunas com valores aleatórios"
      ],
      "metadata": {
        "id": "8KGd6hxvXHbw"
      }
    },
    {
      "cell_type": "code",
      "source": [
        "np.random"
      ],
      "metadata": {
        "id": "amvVfwQI24JW",
        "colab": {
          "base_uri": "https://localhost:8080/"
        },
        "outputId": "ca69e448-fc80-48a2-c636-a4d737b74643"
      },
      "execution_count": 17,
      "outputs": [
        {
          "output_type": "execute_result",
          "data": {
            "text/plain": [
              "<module 'numpy.random' from '/usr/local/lib/python3.10/dist-packages/numpy/random/__init__.py'>"
            ]
          },
          "metadata": {},
          "execution_count": 17
        }
      ]
    },
    {
      "cell_type": "code",
      "source": [
        "np.random.random((4,3))"
      ],
      "metadata": {
        "colab": {
          "base_uri": "https://localhost:8080/"
        },
        "id": "IAHUdCm8OQFT",
        "outputId": "2f12f6f4-fe93-4350-c638-f3748ea4c7e1"
      },
      "execution_count": 18,
      "outputs": [
        {
          "output_type": "execute_result",
          "data": {
            "text/plain": [
              "array([[0.36095647, 0.63773987, 0.03790347],\n",
              "       [0.09268001, 0.13877517, 0.65135243],\n",
              "       [0.25168672, 0.81759248, 0.23015737],\n",
              "       [0.08109233, 0.47905533, 0.52308459]])"
            ]
          },
          "metadata": {},
          "execution_count": 18
        }
      ]
    },
    {
      "cell_type": "markdown",
      "source": [
        "## 2. Crie um array com valores inteiros 3 linhas e 5 colunas com valores aleatórios"
      ],
      "metadata": {
        "id": "XjvUczhmXZi-"
      }
    },
    {
      "cell_type": "code",
      "source": [
        "np.random.randint(10,30,size=(3,5))\n"
      ],
      "metadata": {
        "id": "y0pkI-C824nO",
        "colab": {
          "base_uri": "https://localhost:8080/"
        },
        "outputId": "b87a0132-4958-44f1-a290-e0a01c8d1d2f"
      },
      "execution_count": 22,
      "outputs": [
        {
          "output_type": "execute_result",
          "data": {
            "text/plain": [
              "array([[23, 23, 17, 19, 21],\n",
              "       [11, 10, 27, 13, 18],\n",
              "       [20, 28, 18, 12, 22]])"
            ]
          },
          "metadata": {},
          "execution_count": 22
        }
      ]
    },
    {
      "cell_type": "markdown",
      "source": [
        "## 3. Crie um array com 5 colunas e 10 linhas inicializados com zeros."
      ],
      "metadata": {
        "id": "6nnXiIr2ZyLZ"
      }
    },
    {
      "cell_type": "code",
      "source": [
        "np.zeros((10,5))"
      ],
      "metadata": {
        "id": "0tWf-9PK25DQ",
        "colab": {
          "base_uri": "https://localhost:8080/"
        },
        "outputId": "475366f2-d1c9-4a8f-b950-7179d835d1c5"
      },
      "execution_count": 20,
      "outputs": [
        {
          "output_type": "execute_result",
          "data": {
            "text/plain": [
              "array([[0., 0., 0., 0., 0.],\n",
              "       [0., 0., 0., 0., 0.],\n",
              "       [0., 0., 0., 0., 0.],\n",
              "       [0., 0., 0., 0., 0.],\n",
              "       [0., 0., 0., 0., 0.],\n",
              "       [0., 0., 0., 0., 0.],\n",
              "       [0., 0., 0., 0., 0.],\n",
              "       [0., 0., 0., 0., 0.],\n",
              "       [0., 0., 0., 0., 0.],\n",
              "       [0., 0., 0., 0., 0.]])"
            ]
          },
          "metadata": {},
          "execution_count": 20
        }
      ]
    },
    {
      "cell_type": "markdown",
      "source": [
        "## 4. Crie um array que vá entre 0 e 90 pulando de 4 em 4"
      ],
      "metadata": {
        "id": "mojhFJbIa3YL"
      }
    },
    {
      "cell_type": "code",
      "source": [
        "import numpy as np\n",
        "arr = np.arange(0,91,4)\n",
        "print(arr)"
      ],
      "metadata": {
        "id": "BcdjcvUC25qk",
        "colab": {
          "base_uri": "https://localhost:8080/"
        },
        "outputId": "5984b493-ddc5-447e-ad4e-f5a2fa9fbaa2"
      },
      "execution_count": 23,
      "outputs": [
        {
          "output_type": "stream",
          "name": "stdout",
          "text": [
            "[ 0  4  8 12 16 20 24 28 32 36 40 44 48 52 56 60 64 68 72 76 80 84 88]\n"
          ]
        }
      ]
    },
    {
      "cell_type": "markdown",
      "source": [
        "\n",
        "\n",
        "---\n",
        "## Rascunhos - Array com 3 dimensões\n"
      ],
      "metadata": {
        "id": "3P8kKI8fagz-"
      }
    },
    {
      "cell_type": "code",
      "source": [
        "arr1_2d = np.array([[1, 2], [3, 4]])\n",
        "arr2_2d = np.array([[5, 6], [7, 8]])\n",
        "arr3_2d = np.array([[9, 2], [3, 4]])\n",
        "\n",
        "arr_3d = np.array([arr1_2d, arr1_2d, arr3_2d])\n",
        "arr_3d\n"
      ],
      "metadata": {
        "id": "HHOMuU8WYljG",
        "colab": {
          "base_uri": "https://localhost:8080/"
        },
        "outputId": "f68e41e8-e7bc-4a11-d1dc-9ed2b0b1bc96"
      },
      "execution_count": 26,
      "outputs": [
        {
          "output_type": "execute_result",
          "data": {
            "text/plain": [
              "array([[[1, 2],\n",
              "        [3, 4]],\n",
              "\n",
              "       [[1, 2],\n",
              "        [3, 4]],\n",
              "\n",
              "       [[9, 2],\n",
              "        [3, 4]]])"
            ]
          },
          "metadata": {},
          "execution_count": 26
        }
      ]
    },
    {
      "cell_type": "code",
      "source": [
        "arr_4d = np.random.random((2, 2, 3, 2))\n",
        "arr_4d"
      ],
      "metadata": {
        "colab": {
          "base_uri": "https://localhost:8080/"
        },
        "id": "YzpkKUOebm5t",
        "outputId": "fcc7963c-1cb4-4fa8-8e0f-5e3a76f3dc4f"
      },
      "execution_count": null,
      "outputs": [
        {
          "output_type": "execute_result",
          "data": {
            "text/plain": [
              "array([[[[0.953281  , 0.22771597],\n",
              "         [0.54227433, 0.97680826],\n",
              "         [0.17372674, 0.51363999]],\n",
              "\n",
              "        [[0.11569002, 0.73550935],\n",
              "         [0.61142573, 0.78148574],\n",
              "         [0.36119715, 0.30681021]]],\n",
              "\n",
              "\n",
              "       [[[0.65858347, 0.20332485],\n",
              "         [0.34322354, 0.69196893],\n",
              "         [0.82172891, 0.92326065]],\n",
              "\n",
              "        [[0.8850374 , 0.92557848],\n",
              "         [0.21043341, 0.08361193],\n",
              "         [0.10593606, 0.00489527]]]])"
            ]
          },
          "metadata": {},
          "execution_count": 57
        }
      ]
    },
    {
      "cell_type": "code",
      "source": [
        "np.array([arr_3d, arr_3d])"
      ],
      "metadata": {
        "colab": {
          "base_uri": "https://localhost:8080/"
        },
        "id": "QA5bPlE5bnXu",
        "outputId": "e206a92d-8bdb-4930-8994-db0b21680747"
      },
      "execution_count": null,
      "outputs": [
        {
          "output_type": "execute_result",
          "data": {
            "text/plain": [
              "array([[[[1, 2],\n",
              "         [3, 4]],\n",
              "\n",
              "        [[1, 2],\n",
              "         [3, 4]],\n",
              "\n",
              "        [[9, 2],\n",
              "         [3, 4]]],\n",
              "\n",
              "\n",
              "       [[[1, 2],\n",
              "         [3, 4]],\n",
              "\n",
              "        [[1, 2],\n",
              "         [3, 4]],\n",
              "\n",
              "        [[9, 2],\n",
              "         [3, 4]]]])"
            ]
          },
          "metadata": {},
          "execution_count": 58
        }
      ]
    },
    {
      "cell_type": "code",
      "source": [
        "arr = np.zeros((2, 4))\n",
        "arr"
      ],
      "metadata": {
        "colab": {
          "base_uri": "https://localhost:8080/"
        },
        "id": "iuUyqGhaj64h",
        "outputId": "c4d1a222-8f66-4d63-8ec3-e51b36bb3204"
      },
      "execution_count": null,
      "outputs": [
        {
          "output_type": "execute_result",
          "data": {
            "text/plain": [
              "array([[0., 0., 0., 0.],\n",
              "       [0., 0., 0., 0.]])"
            ]
          },
          "metadata": {},
          "execution_count": 62
        }
      ]
    },
    {
      "cell_type": "code",
      "source": [
        "arr.shape"
      ],
      "metadata": {
        "colab": {
          "base_uri": "https://localhost:8080/"
        },
        "id": "PdQLoHSLj_tg",
        "outputId": "93b39ad0-ba43-40bd-d87d-cd0200589724"
      },
      "execution_count": null,
      "outputs": [
        {
          "output_type": "execute_result",
          "data": {
            "text/plain": [
              "(2, 4)"
            ]
          },
          "metadata": {},
          "execution_count": 63
        }
      ]
    },
    {
      "cell_type": "code",
      "source": [
        "arr = np.array([[3, 4], [8, 11], [9, 9]])\n",
        "arr.flatten()\n"
      ],
      "metadata": {
        "colab": {
          "base_uri": "https://localhost:8080/"
        },
        "id": "6zrSz-caeh1Y",
        "outputId": "8265c80f-6a2e-4631-8dc8-1831ddbec30c"
      },
      "execution_count": null,
      "outputs": [
        {
          "output_type": "execute_result",
          "data": {
            "text/plain": [
              "array([ 3,  4,  8, 11,  9,  9])"
            ]
          },
          "metadata": {},
          "execution_count": 59
        }
      ]
    },
    {
      "cell_type": "code",
      "source": [
        "arr = np.array([[3, 4, 2], [8, 11, 5]])\n",
        "arr.reshape((3, 2))\n"
      ],
      "metadata": {
        "colab": {
          "base_uri": "https://localhost:8080/"
        },
        "id": "4Am1WW6xkKSJ",
        "outputId": "133b6564-3d71-4700-cc23-9b7c92e1afff"
      },
      "execution_count": null,
      "outputs": [
        {
          "output_type": "execute_result",
          "data": {
            "text/plain": [
              "array([[ 3,  4],\n",
              "       [ 2,  8],\n",
              "       [11,  5]])"
            ]
          },
          "metadata": {},
          "execution_count": 64
        }
      ]
    },
    {
      "cell_type": "code",
      "source": [
        "arr.reshape((3, 3))\n",
        "#dar erro, pois a só tenho 2 arrays na declaração de arr."
      ],
      "metadata": {
        "colab": {
          "base_uri": "https://localhost:8080/",
          "height": 147
        },
        "id": "Ohfi34OZkNyk",
        "outputId": "f225cce1-0bf6-4416-efaf-b3107772059d"
      },
      "execution_count": 34,
      "outputs": [
        {
          "output_type": "error",
          "ename": "ValueError",
          "evalue": "cannot reshape array of size 23 into shape (3,3)",
          "traceback": [
            "\u001b[0;31m---------------------------------------------------------------------------\u001b[0m",
            "\u001b[0;31mValueError\u001b[0m                                Traceback (most recent call last)",
            "\u001b[0;32m<ipython-input-34-a5ab0f3d8792>\u001b[0m in \u001b[0;36m<cell line: 1>\u001b[0;34m()\u001b[0m\n\u001b[0;32m----> 1\u001b[0;31m \u001b[0marr\u001b[0m\u001b[0;34m.\u001b[0m\u001b[0mreshape\u001b[0m\u001b[0;34m(\u001b[0m\u001b[0;34m(\u001b[0m\u001b[0;36m3\u001b[0m\u001b[0;34m,\u001b[0m \u001b[0;36m3\u001b[0m\u001b[0;34m)\u001b[0m\u001b[0;34m)\u001b[0m\u001b[0;34m\u001b[0m\u001b[0;34m\u001b[0m\u001b[0m\n\u001b[0m",
            "\u001b[0;31mValueError\u001b[0m: cannot reshape array of size 23 into shape (3,3)"
          ]
        }
      ]
    },
    {
      "cell_type": "markdown",
      "source": [
        "## 1. Reduza o array (5,7) a apenas uma dimensão"
      ],
      "metadata": {
        "id": "3c2qHtxhsN77"
      }
    },
    {
      "cell_type": "code",
      "source": [
        "a57 = np.random.random((5,7))\n",
        "a57= a57.flatten()\n",
        "a57"
      ],
      "metadata": {
        "id": "05mvXbPciElu",
        "colab": {
          "base_uri": "https://localhost:8080/"
        },
        "outputId": "c7014e1f-8129-4575-dafa-87859a978025"
      },
      "execution_count": 31,
      "outputs": [
        {
          "output_type": "execute_result",
          "data": {
            "text/plain": [
              "array([0.70769751, 0.67869319, 0.75260619, 0.1135648 , 0.49374976,\n",
              "       0.54470767, 0.46684765, 0.46471658, 0.83389084, 0.62108463,\n",
              "       0.80417937, 0.67045185, 0.43541347, 0.22546488, 0.65957203,\n",
              "       0.70216479, 0.79950131, 0.37767067, 0.43187948, 0.71101792,\n",
              "       0.26184382, 0.35931409, 0.50650582, 0.1163812 , 0.12949184,\n",
              "       0.35628034, 0.21691194, 0.30572097, 0.30267254, 0.17402894,\n",
              "       0.63413262, 0.43899076, 0.57056347, 0.2632248 , 0.01222485])"
            ]
          },
          "metadata": {},
          "execution_count": 31
        }
      ]
    },
    {
      "cell_type": "markdown",
      "source": [
        "## 2. Considerando que você é uma organizadora de um jogo de bingo. Crie um array que irá representar a cartilha desses jogos de bingo. os números da suas cartelas variam entre 1 e 30, e você terá 10 participantes. Cada cartela terá 12 números (4, 3).\n",
        "## Crie um array que represente esse jogo"
      ],
      "metadata": {
        "id": "6mh-aOcQqy0S"
      }
    },
    {
      "cell_type": "code",
      "source": [
        "bingo = np.random.randint(1,31, size=(10,4,3))\n",
        "bingo"
      ],
      "metadata": {
        "id": "2LWkIt6I2OGo",
        "colab": {
          "base_uri": "https://localhost:8080/"
        },
        "outputId": "6000db3f-6c09-4f68-adbf-d2b90651f2ec"
      },
      "execution_count": 32,
      "outputs": [
        {
          "output_type": "execute_result",
          "data": {
            "text/plain": [
              "array([[[16,  7, 22],\n",
              "        [19,  7, 14],\n",
              "        [ 4,  5, 30],\n",
              "        [ 9, 24, 21]],\n",
              "\n",
              "       [[10, 19, 10],\n",
              "        [ 2, 18, 10],\n",
              "        [ 2, 28, 30],\n",
              "        [ 7,  2, 30]],\n",
              "\n",
              "       [[17, 12, 15],\n",
              "        [ 4, 11, 30],\n",
              "        [18,  7, 29],\n",
              "        [ 3, 14, 12]],\n",
              "\n",
              "       [[10, 19, 12],\n",
              "        [12, 29, 29],\n",
              "        [ 7, 15, 13],\n",
              "        [26, 28, 15]],\n",
              "\n",
              "       [[11, 18, 20],\n",
              "        [26, 16, 22],\n",
              "        [25, 10,  6],\n",
              "        [11,  8, 24]],\n",
              "\n",
              "       [[ 3, 20, 20],\n",
              "        [21, 28, 14],\n",
              "        [11, 18,  4],\n",
              "        [30, 13, 27]],\n",
              "\n",
              "       [[22, 18, 24],\n",
              "        [12, 16,  3],\n",
              "        [ 1, 24, 22],\n",
              "        [12,  7, 25]],\n",
              "\n",
              "       [[23,  6, 21],\n",
              "        [21,  1,  4],\n",
              "        [18,  3, 22],\n",
              "        [13, 28, 14]],\n",
              "\n",
              "       [[20, 18,  6],\n",
              "        [16, 24, 28],\n",
              "        [21, 16,  6],\n",
              "        [26,  2,  8]],\n",
              "\n",
              "       [[30, 29, 26],\n",
              "        [ 8,  3,  3],\n",
              "        [10, 30,  7],\n",
              "        [27, 24, 14]]])"
            ]
          },
          "metadata": {},
          "execution_count": 32
        }
      ]
    },
    {
      "cell_type": "markdown",
      "source": [
        "## 3. Faça o reshape das suas cartelas para que haja 5 cartelas de 4 linhas e 6 colunas"
      ],
      "metadata": {
        "id": "vopTx8gjtiMn"
      }
    },
    {
      "cell_type": "code",
      "source": [
        "bingo.reshape((5,4,6))"
      ],
      "metadata": {
        "id": "LVHYKk0ys5JA",
        "colab": {
          "base_uri": "https://localhost:8080/"
        },
        "outputId": "78232091-1aa1-4fe3-c359-fc0b3007bac0"
      },
      "execution_count": 33,
      "outputs": [
        {
          "output_type": "execute_result",
          "data": {
            "text/plain": [
              "array([[[16,  7, 22, 19,  7, 14],\n",
              "        [ 4,  5, 30,  9, 24, 21],\n",
              "        [10, 19, 10,  2, 18, 10],\n",
              "        [ 2, 28, 30,  7,  2, 30]],\n",
              "\n",
              "       [[17, 12, 15,  4, 11, 30],\n",
              "        [18,  7, 29,  3, 14, 12],\n",
              "        [10, 19, 12, 12, 29, 29],\n",
              "        [ 7, 15, 13, 26, 28, 15]],\n",
              "\n",
              "       [[11, 18, 20, 26, 16, 22],\n",
              "        [25, 10,  6, 11,  8, 24],\n",
              "        [ 3, 20, 20, 21, 28, 14],\n",
              "        [11, 18,  4, 30, 13, 27]],\n",
              "\n",
              "       [[22, 18, 24, 12, 16,  3],\n",
              "        [ 1, 24, 22, 12,  7, 25],\n",
              "        [23,  6, 21, 21,  1,  4],\n",
              "        [18,  3, 22, 13, 28, 14]],\n",
              "\n",
              "       [[20, 18,  6, 16, 24, 28],\n",
              "        [21, 16,  6, 26,  2,  8],\n",
              "        [30, 29, 26,  8,  3,  3],\n",
              "        [10, 30,  7, 27, 24, 14]]])"
            ]
          },
          "metadata": {},
          "execution_count": 33
        }
      ]
    },
    {
      "cell_type": "markdown",
      "source": [
        "# Tipo de dados em um numpy array\n"
      ],
      "metadata": {
        "id": "8f6qpfC3_2mk"
      }
    },
    {
      "cell_type": "code",
      "source": [
        "np.array([2.14, 6.25, 160.87, 8.4]).dtype"
      ],
      "metadata": {
        "colab": {
          "base_uri": "https://localhost:8080/"
        },
        "id": "Zw9N5oXN_7WV",
        "outputId": "447baf5b-5bc2-41ee-bdec-d79119bc4630"
      },
      "execution_count": 44,
      "outputs": [
        {
          "output_type": "execute_result",
          "data": {
            "text/plain": [
              "dtype('float64')"
            ]
          },
          "metadata": {},
          "execution_count": 44
        }
      ]
    },
    {
      "cell_type": "code",
      "source": [
        "np.array([2, 6, 160, 8]).dtype"
      ],
      "metadata": {
        "colab": {
          "base_uri": "https://localhost:8080/"
        },
        "id": "xKPsZ4pAACOz",
        "outputId": "4efb9f3e-f26f-4d7f-d27c-699f4384bfe6"
      },
      "execution_count": 43,
      "outputs": [
        {
          "output_type": "execute_result",
          "data": {
            "text/plain": [
              "dtype('int64')"
            ]
          },
          "metadata": {},
          "execution_count": 43
        }
      ]
    },
    {
      "cell_type": "code",
      "source": [
        "np.array([\"Hello\", \"Coder\", \"Girls\"]).dtype"
      ],
      "metadata": {
        "colab": {
          "base_uri": "https://localhost:8080/"
        },
        "id": "--fFIEgvAtKF",
        "outputId": "225a7e8d-7087-4c5e-c7ce-b181ac81d0ea"
      },
      "execution_count": 42,
      "outputs": [
        {
          "output_type": "execute_result",
          "data": {
            "text/plain": [
              "dtype('<U5')"
            ]
          },
          "metadata": {},
          "execution_count": 42
        }
      ]
    },
    {
      "cell_type": "code",
      "source": [
        "arr_flaot32 = np.array([2.14, 6.25, 160.87], dtype=np.float32)\n",
        "arr_flaot32"
      ],
      "metadata": {
        "colab": {
          "base_uri": "https://localhost:8080/"
        },
        "id": "lgYPwwpFA2AR",
        "outputId": "1f15489c-3c8c-4cf2-d1b1-252e568273a7"
      },
      "execution_count": 41,
      "outputs": [
        {
          "output_type": "execute_result",
          "data": {
            "text/plain": [
              "array([  2.14,   6.25, 160.87], dtype=float32)"
            ]
          },
          "metadata": {},
          "execution_count": 41
        }
      ]
    },
    {
      "cell_type": "code",
      "source": [
        "arr_vf = np.array([[True, False], [True, True]], dtype=np.bool8)\n",
        "arr_vf.astype(np.int32)"
      ],
      "metadata": {
        "colab": {
          "base_uri": "https://localhost:8080/"
        },
        "id": "XpBTC041BtpR",
        "outputId": "2f23b54c-48db-45c1-cd86-8fc4b56f9cab"
      },
      "execution_count": 40,
      "outputs": [
        {
          "output_type": "stream",
          "name": "stderr",
          "text": [
            "<ipython-input-40-a1615ceddfc6>:1: DeprecationWarning: `np.bool8` is a deprecated alias for `np.bool_`.  (Deprecated NumPy 1.24)\n",
            "  arr_vf = np.array([[True, False], [True, True]], dtype=np.bool8)\n"
          ]
        },
        {
          "output_type": "execute_result",
          "data": {
            "text/plain": [
              "array([[1, 0],\n",
              "       [1, 1]], dtype=int32)"
            ]
          },
          "metadata": {},
          "execution_count": 40
        }
      ]
    },
    {
      "cell_type": "code",
      "source": [
        "np.array([\"pedra\", False , 42, 42.42])"
      ],
      "metadata": {
        "colab": {
          "base_uri": "https://localhost:8080/"
        },
        "id": "6tE5yQ60CbsL",
        "outputId": "c6b7d171-daab-45c5-86dd-e181a10c9f57"
      },
      "execution_count": 39,
      "outputs": [
        {
          "output_type": "execute_result",
          "data": {
            "text/plain": [
              "array(['pedra', 'False', '42', '42.42'], dtype='<U32')"
            ]
          },
          "metadata": {},
          "execution_count": 39
        }
      ]
    },
    {
      "cell_type": "code",
      "source": [
        "np.array([0, 10]).dtype"
      ],
      "metadata": {
        "colab": {
          "base_uri": "https://localhost:8080/"
        },
        "id": "K2Rq5Mb2DbPq",
        "outputId": "20ad42dd-3afe-4403-bd3b-0c5e3c402182"
      },
      "execution_count": 38,
      "outputs": [
        {
          "output_type": "execute_result",
          "data": {
            "text/plain": [
              "dtype('int64')"
            ]
          },
          "metadata": {},
          "execution_count": 38
        }
      ]
    },
    {
      "cell_type": "code",
      "source": [
        "np.array([0, 10, 1.]).dtype"
      ],
      "metadata": {
        "colab": {
          "base_uri": "https://localhost:8080/"
        },
        "id": "q_gjB8HGDbTE",
        "outputId": "5ce6acca-2469-4466-a251-e98ce30bc1f4"
      },
      "execution_count": 37,
      "outputs": [
        {
          "output_type": "execute_result",
          "data": {
            "text/plain": [
              "dtype('float64')"
            ]
          },
          "metadata": {},
          "execution_count": 37
        }
      ]
    },
    {
      "cell_type": "code",
      "source": [
        "np.array([True, False]).dtype"
      ],
      "metadata": {
        "colab": {
          "base_uri": "https://localhost:8080/"
        },
        "id": "hAKlEJtjDUH7",
        "outputId": "25621a4b-87c2-4213-8eff-08390176d066"
      },
      "execution_count": 36,
      "outputs": [
        {
          "output_type": "execute_result",
          "data": {
            "text/plain": [
              "dtype('bool')"
            ]
          },
          "metadata": {},
          "execution_count": 36
        }
      ]
    },
    {
      "cell_type": "code",
      "source": [
        "np.array([True, False, 12]).dtype"
      ],
      "metadata": {
        "colab": {
          "base_uri": "https://localhost:8080/"
        },
        "id": "kR-8fpMjCi8f",
        "outputId": "0c8becb5-cb02-45e1-fd07-9d2c1a04d06a"
      },
      "execution_count": 35,
      "outputs": [
        {
          "output_type": "execute_result",
          "data": {
            "text/plain": [
              "dtype('int64')"
            ]
          },
          "metadata": {},
          "execution_count": 35
        }
      ]
    }
  ]
}