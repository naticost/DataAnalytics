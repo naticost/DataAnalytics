{
 "cells": [
  {
   "cell_type": "markdown",
   "metadata": {},
   "source": [
    "# Importação e Criação de Arrays \n",
    "\n",
    "### Importe a biblioteca Numpy.\n",
    "### Crie um array de zeros com a forma (5, 5).\n",
    "### Crie um array de uns com a forma (3, 2).\n",
    "### Crie um array a partir de uma lista: [10, 20, 30, 40, 50].\n"
   ]
  },
  {
   "cell_type": "code",
   "execution_count": 13,
   "metadata": {},
   "outputs": [],
   "source": [
    "import numpy as np"
   ]
  },
  {
   "cell_type": "code",
   "execution_count": 28,
   "metadata": {},
   "outputs": [
    {
     "data": {
      "text/plain": [
       "array([[0., 0., 0., 0., 0.],\n",
       "       [0., 0., 0., 0., 0.],\n",
       "       [0., 0., 0., 0., 0.],\n",
       "       [0., 0., 0., 0., 0.],\n",
       "       [0., 0., 0., 0., 0.]])"
      ]
     },
     "execution_count": 28,
     "metadata": {},
     "output_type": "execute_result"
    }
   ],
   "source": [
    "arry = np.zeros ((5,5))\n",
    "arry"
   ]
  },
  {
   "cell_type": "code",
   "execution_count": 15,
   "metadata": {},
   "outputs": [
    {
     "data": {
      "text/plain": [
       "array([[1., 1.],\n",
       "       [1., 1.],\n",
       "       [1., 1.]])"
      ]
     },
     "execution_count": 15,
     "metadata": {},
     "output_type": "execute_result"
    }
   ],
   "source": [
    "arry = np.ones((3,2))\n",
    "arry"
   ]
  },
  {
   "cell_type": "code",
   "execution_count": 22,
   "metadata": {},
   "outputs": [
    {
     "data": {
      "text/plain": [
       "array([10, 20, 30, 40, 50])"
      ]
     },
     "execution_count": 22,
     "metadata": {},
     "output_type": "execute_result"
    }
   ],
   "source": [
    "lista = [10, 20, 30, 40, 50]\n",
    "\n",
    "array = np.array(lista)\n",
    "array"
   ]
  },
  {
   "cell_type": "markdown",
   "metadata": {},
   "source": [
    "# Manipulação de Arrays\n",
    "\n",
    "### Crie um array 2D de números inteiros de 1 a 9 com a forma (3, 3).\n",
    "\n",
    "### Acesse o elemento na segunda linha e terceira coluna.\n",
    "### Extraia a primeira coluna do array.\n",
    "### Modifique o valor do elemento na terceira linha e segunda coluna para 100."
   ]
  },
  {
   "cell_type": "code",
   "execution_count": 32,
   "metadata": {},
   "outputs": [
    {
     "name": "stdout",
     "output_type": "stream",
     "text": [
      "[[1 2 3]\n",
      " [4 5 6]\n",
      " [7 8 9]]\n"
     ]
    }
   ],
   "source": [
    "arry = np.arange(1,10)\n",
    "arry2d = arry.reshape((3,3))\n",
    "\n",
    "print(arry2d)"
   ]
  },
  {
   "cell_type": "code",
   "execution_count": 35,
   "metadata": {},
   "outputs": [
    {
     "name": "stdout",
     "output_type": "stream",
     "text": [
      "6\n"
     ]
    }
   ],
   "source": [
    "acessandoValor=arry2d[1,2]\n",
    "print(acessandoValor)"
   ]
  },
  {
   "cell_type": "code",
   "execution_count": 38,
   "metadata": {},
   "outputs": [
    {
     "name": "stdout",
     "output_type": "stream",
     "text": [
      "[1 4 7]\n"
     ]
    }
   ],
   "source": [
    "extraindo = arry2d[:,0]\n",
    "print(extraindo)"
   ]
  },
  {
   "cell_type": "code",
   "execution_count": 44,
   "metadata": {},
   "outputs": [
    {
     "data": {
      "text/plain": [
       "array([[  1,   2,   3],\n",
       "       [  4,   5,   6],\n",
       "       [  7, 100,   9]])"
      ]
     },
     "execution_count": 44,
     "metadata": {},
     "output_type": "execute_result"
    }
   ],
   "source": [
    "modificando = arry2d[2,1]=100\n",
    "arry2d"
   ]
  },
  {
   "cell_type": "markdown",
   "metadata": {},
   "source": [
    "# Atributos e Métodos\n",
    "\n",
    "### Crie um array de números de 0 a 15 com a forma (4, 4).\n",
    "\n",
    "\n",
    "### Use o método .shape para obter as dimensões do array.\n",
    "\n",
    "### Utilize o método .flatten() para converter o array em uma dimensão.\n",
    "\n",
    "### Utilize o método .reshape() para mudar a forma do array para (2, 8).\n"
   ]
  },
  {
   "cell_type": "markdown",
   "metadata": {},
   "source": [
    "# Indexação e Slicing\n",
    "\n",
    "\n",
    "### Crie um array 1D de números de 10 a 50.\n",
    "\n",
    "### Acesse o elemento no índice 5.\n",
    "\n",
    "### Extraia os elementos do índice 3 ao 7.\n",
    "\n",
    "### Crie um array 2D de números de 1 a 16 com a forma (4, 4).\n",
    "\n",
    "### Extraia os elementos da segunda linha.\n",
    "\n",
    "### Extraia a terceira coluna."
   ]
  },
  {
   "cell_type": "markdown",
   "metadata": {},
   "source": [
    "# Concatenando Arrays\n",
    "\n",
    "\n",
    "### Crie dois arrays 2D: array1 com a forma (2, 2) e array2 com a forma (2, 2) e valores à sua escolha.\n",
    "\n",
    "### Concatenar array1 e array2 ao longo do eixo 0.\n",
    "\n",
    "### Crie dois arrays 2D: array3 com a forma (2, 2) e array4 com a forma (2, 1).\n",
    "\n",
    "### Concatenar array3 e array4 ao longo do eixo 1."
   ]
  }
 ],
 "metadata": {
  "kernelspec": {
   "display_name": "Python 3",
   "language": "python",
   "name": "python3"
  },
  "language_info": {
   "codemirror_mode": {
    "name": "ipython",
    "version": 3
   },
   "file_extension": ".py",
   "mimetype": "text/x-python",
   "name": "python",
   "nbconvert_exporter": "python",
   "pygments_lexer": "ipython3",
   "version": "3.12.4"
  }
 },
 "nbformat": 4,
 "nbformat_minor": 2
}
