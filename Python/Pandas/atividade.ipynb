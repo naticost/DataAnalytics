{
 "cells": [
  {
   "cell_type": "markdown",
   "metadata": {},
   "source": [
    "# Você é uma pesquisadora que está tentando entender melhor qual o impacto do estilo de vida de uma pessoa na sua qualidade de sono, por isso fez a coleta dos dados de sobre 373 pessoas, onde foram recolhidas 12 características para cada uma delas. Por competência a sua pesquisa foi bem controlada e você não tem dados faltosos na sua base. Chegou o momento de você fazer sua análise e responder algumas perguntas."
   ]
  },
  {
   "cell_type": "code",
   "execution_count": 17,
   "metadata": {},
   "outputs": [
    {
     "data": {
      "text/html": [
       "<div>\n",
       "<style scoped>\n",
       "    .dataframe tbody tr th:only-of-type {\n",
       "        vertical-align: middle;\n",
       "    }\n",
       "\n",
       "    .dataframe tbody tr th {\n",
       "        vertical-align: top;\n",
       "    }\n",
       "\n",
       "    .dataframe thead th {\n",
       "        text-align: right;\n",
       "    }\n",
       "</style>\n",
       "<table border=\"1\" class=\"dataframe\">\n",
       "  <thead>\n",
       "    <tr style=\"text-align: right;\">\n",
       "      <th></th>\n",
       "      <th>ID</th>\n",
       "      <th>Gênero</th>\n",
       "      <th>Idade</th>\n",
       "      <th>Ocupação</th>\n",
       "      <th>Duração do sono</th>\n",
       "      <th>Qualidade do sono</th>\n",
       "      <th>Nível de atividade física</th>\n",
       "      <th>Nível de estresse</th>\n",
       "      <th>Categoria BMI</th>\n",
       "      <th>Pressão sanguíneaaaa</th>\n",
       "      <th>Frequência cardíaca</th>\n",
       "      <th>Passos diários</th>\n",
       "      <th>Distúrbio do sono</th>\n",
       "    </tr>\n",
       "  </thead>\n",
       "  <tbody>\n",
       "    <tr>\n",
       "      <th>0</th>\n",
       "      <td>1</td>\n",
       "      <td>Homem</td>\n",
       "      <td>27</td>\n",
       "      <td>Eng. de Software</td>\n",
       "      <td>6.1</td>\n",
       "      <td>6</td>\n",
       "      <td>42</td>\n",
       "      <td>6</td>\n",
       "      <td>Sobrepeso</td>\n",
       "      <td>126/83</td>\n",
       "      <td>77</td>\n",
       "      <td>4200</td>\n",
       "      <td>Nenhuma</td>\n",
       "    </tr>\n",
       "    <tr>\n",
       "      <th>1</th>\n",
       "      <td>2</td>\n",
       "      <td>Homem</td>\n",
       "      <td>28</td>\n",
       "      <td>Médico(a)</td>\n",
       "      <td>6.2</td>\n",
       "      <td>6</td>\n",
       "      <td>60</td>\n",
       "      <td>8</td>\n",
       "      <td>Normal</td>\n",
       "      <td>125/80</td>\n",
       "      <td>75</td>\n",
       "      <td>10000</td>\n",
       "      <td>Nenhuma</td>\n",
       "    </tr>\n",
       "    <tr>\n",
       "      <th>2</th>\n",
       "      <td>3</td>\n",
       "      <td>Homem</td>\n",
       "      <td>28</td>\n",
       "      <td>Médico(a)</td>\n",
       "      <td>6.2</td>\n",
       "      <td>6</td>\n",
       "      <td>60</td>\n",
       "      <td>8</td>\n",
       "      <td>Normal</td>\n",
       "      <td>125/80</td>\n",
       "      <td>75</td>\n",
       "      <td>10000</td>\n",
       "      <td>Nenhuma</td>\n",
       "    </tr>\n",
       "    <tr>\n",
       "      <th>3</th>\n",
       "      <td>4</td>\n",
       "      <td>Homem</td>\n",
       "      <td>28</td>\n",
       "      <td>Representante de Vendas</td>\n",
       "      <td>5.9</td>\n",
       "      <td>4</td>\n",
       "      <td>30</td>\n",
       "      <td>8</td>\n",
       "      <td>Obesidade</td>\n",
       "      <td>140/90</td>\n",
       "      <td>85</td>\n",
       "      <td>3000</td>\n",
       "      <td>Apneia do sono</td>\n",
       "    </tr>\n",
       "    <tr>\n",
       "      <th>4</th>\n",
       "      <td>5</td>\n",
       "      <td>Homem</td>\n",
       "      <td>28</td>\n",
       "      <td>Representante de Vendas</td>\n",
       "      <td>5.9</td>\n",
       "      <td>4</td>\n",
       "      <td>30</td>\n",
       "      <td>8</td>\n",
       "      <td>Obesidade</td>\n",
       "      <td>140/90</td>\n",
       "      <td>85</td>\n",
       "      <td>3000</td>\n",
       "      <td>Apneia do sono</td>\n",
       "    </tr>\n",
       "  </tbody>\n",
       "</table>\n",
       "</div>"
      ],
      "text/plain": [
       "   ID Gênero  Idade                 Ocupação  Duração do sono  \\\n",
       "0   1  Homem     27         Eng. de Software              6.1   \n",
       "1   2  Homem     28                Médico(a)              6.2   \n",
       "2   3  Homem     28                Médico(a)              6.2   \n",
       "3   4  Homem     28  Representante de Vendas              5.9   \n",
       "4   5  Homem     28  Representante de Vendas              5.9   \n",
       "\n",
       "   Qualidade do sono  Nível de atividade física  Nível de estresse  \\\n",
       "0                  6                         42                  6   \n",
       "1                  6                         60                  8   \n",
       "2                  6                         60                  8   \n",
       "3                  4                         30                  8   \n",
       "4                  4                         30                  8   \n",
       "\n",
       "  Categoria BMI Pressão sanguíneaaaa  Frequência cardíaca  Passos diários  \\\n",
       "0     Sobrepeso               126/83                   77            4200   \n",
       "1        Normal               125/80                   75           10000   \n",
       "2        Normal               125/80                   75           10000   \n",
       "3     Obesidade               140/90                   85            3000   \n",
       "4     Obesidade               140/90                   85            3000   \n",
       "\n",
       "  Distúrbio do sono  \n",
       "0           Nenhuma  \n",
       "1           Nenhuma  \n",
       "2           Nenhuma  \n",
       "3    Apneia do sono  \n",
       "4    Apneia do sono  "
      ]
     },
     "execution_count": 17,
     "metadata": {},
     "output_type": "execute_result"
    }
   ],
   "source": [
    "import pandas as pd\n",
    "import numpy as np\n",
    "\n",
    "# Carregar a base de dados\n",
    "df = pd.read_csv('saude_do_sono_estilo_vida.csv')\n",
    "df.head()\n",
    "\n"
   ]
  },
  {
   "cell_type": "markdown",
   "metadata": {},
   "source": [
    "### 1. Ao visualizar a base você percebeu que seria melhor alterar o nome de algumas colunas. Mude o ‘ID’ para ‘Identificador’, corrija o nome da coluna que indica a pressão sanguínea, mude a coluna ‘Ocupação’ para ‘Profissão’, a coluna ‘Categoria BMI’ está em parte em inglês, substitua para ‘Categoria IMC’."
   ]
  },
  {
   "cell_type": "code",
   "execution_count": 34,
   "metadata": {},
   "outputs": [
    {
     "data": {
      "text/html": [
       "<div>\n",
       "<style scoped>\n",
       "    .dataframe tbody tr th:only-of-type {\n",
       "        vertical-align: middle;\n",
       "    }\n",
       "\n",
       "    .dataframe tbody tr th {\n",
       "        vertical-align: top;\n",
       "    }\n",
       "\n",
       "    .dataframe thead th {\n",
       "        text-align: right;\n",
       "    }\n",
       "</style>\n",
       "<table border=\"1\" class=\"dataframe\">\n",
       "  <thead>\n",
       "    <tr style=\"text-align: right;\">\n",
       "      <th></th>\n",
       "      <th>Identificador</th>\n",
       "      <th>Gênero</th>\n",
       "      <th>Idade</th>\n",
       "      <th>Ocupação</th>\n",
       "      <th>Duração do sono</th>\n",
       "      <th>Qualidade do sono</th>\n",
       "      <th>Nível de atividade física</th>\n",
       "      <th>Nível de estresse</th>\n",
       "      <th>Categoria BMI</th>\n",
       "      <th>Pressão sanguíneaaaa</th>\n",
       "      <th>Frequência cardíaca</th>\n",
       "      <th>Passos diários</th>\n",
       "      <th>Distúrbio do sono</th>\n",
       "    </tr>\n",
       "  </thead>\n",
       "  <tbody>\n",
       "    <tr>\n",
       "      <th>0</th>\n",
       "      <td>1</td>\n",
       "      <td>Homem</td>\n",
       "      <td>27</td>\n",
       "      <td>Eng. de Software</td>\n",
       "      <td>6.1</td>\n",
       "      <td>6</td>\n",
       "      <td>42</td>\n",
       "      <td>6</td>\n",
       "      <td>Sobrepeso</td>\n",
       "      <td>126/83</td>\n",
       "      <td>77</td>\n",
       "      <td>4200</td>\n",
       "      <td>Nenhuma</td>\n",
       "    </tr>\n",
       "    <tr>\n",
       "      <th>1</th>\n",
       "      <td>2</td>\n",
       "      <td>Homem</td>\n",
       "      <td>28</td>\n",
       "      <td>Médico(a)</td>\n",
       "      <td>6.2</td>\n",
       "      <td>6</td>\n",
       "      <td>60</td>\n",
       "      <td>8</td>\n",
       "      <td>Normal</td>\n",
       "      <td>125/80</td>\n",
       "      <td>75</td>\n",
       "      <td>10000</td>\n",
       "      <td>Nenhuma</td>\n",
       "    </tr>\n",
       "    <tr>\n",
       "      <th>2</th>\n",
       "      <td>3</td>\n",
       "      <td>Homem</td>\n",
       "      <td>28</td>\n",
       "      <td>Médico(a)</td>\n",
       "      <td>6.2</td>\n",
       "      <td>6</td>\n",
       "      <td>60</td>\n",
       "      <td>8</td>\n",
       "      <td>Normal</td>\n",
       "      <td>125/80</td>\n",
       "      <td>75</td>\n",
       "      <td>10000</td>\n",
       "      <td>Nenhuma</td>\n",
       "    </tr>\n",
       "    <tr>\n",
       "      <th>3</th>\n",
       "      <td>4</td>\n",
       "      <td>Homem</td>\n",
       "      <td>28</td>\n",
       "      <td>Representante de Vendas</td>\n",
       "      <td>5.9</td>\n",
       "      <td>4</td>\n",
       "      <td>30</td>\n",
       "      <td>8</td>\n",
       "      <td>Obesidade</td>\n",
       "      <td>140/90</td>\n",
       "      <td>85</td>\n",
       "      <td>3000</td>\n",
       "      <td>Apneia do sono</td>\n",
       "    </tr>\n",
       "    <tr>\n",
       "      <th>4</th>\n",
       "      <td>5</td>\n",
       "      <td>Homem</td>\n",
       "      <td>28</td>\n",
       "      <td>Representante de Vendas</td>\n",
       "      <td>5.9</td>\n",
       "      <td>4</td>\n",
       "      <td>30</td>\n",
       "      <td>8</td>\n",
       "      <td>Obesidade</td>\n",
       "      <td>140/90</td>\n",
       "      <td>85</td>\n",
       "      <td>3000</td>\n",
       "      <td>Apneia do sono</td>\n",
       "    </tr>\n",
       "  </tbody>\n",
       "</table>\n",
       "</div>"
      ],
      "text/plain": [
       "   Identificador Gênero  Idade                 Ocupação  Duração do sono  \\\n",
       "0              1  Homem     27         Eng. de Software              6.1   \n",
       "1              2  Homem     28                Médico(a)              6.2   \n",
       "2              3  Homem     28                Médico(a)              6.2   \n",
       "3              4  Homem     28  Representante de Vendas              5.9   \n",
       "4              5  Homem     28  Representante de Vendas              5.9   \n",
       "\n",
       "   Qualidade do sono  Nível de atividade física  Nível de estresse  \\\n",
       "0                  6                         42                  6   \n",
       "1                  6                         60                  8   \n",
       "2                  6                         60                  8   \n",
       "3                  4                         30                  8   \n",
       "4                  4                         30                  8   \n",
       "\n",
       "  Categoria BMI Pressão sanguíneaaaa  Frequência cardíaca  Passos diários  \\\n",
       "0     Sobrepeso               126/83                   77            4200   \n",
       "1        Normal               125/80                   75           10000   \n",
       "2        Normal               125/80                   75           10000   \n",
       "3     Obesidade               140/90                   85            3000   \n",
       "4     Obesidade               140/90                   85            3000   \n",
       "\n",
       "  Distúrbio do sono  \n",
       "0           Nenhuma  \n",
       "1           Nenhuma  \n",
       "2           Nenhuma  \n",
       "3    Apneia do sono  \n",
       "4    Apneia do sono  "
      ]
     },
     "execution_count": 34,
     "metadata": {},
     "output_type": "execute_result"
    }
   ],
   "source": [
    "# Renomear colunas\n",
    "df.rename(columns={\n",
    "    'ID': 'Identificador',\n",
    "    'Pressure': 'Pressão sanguínea',\n",
    "    'Occupation': 'Profissão',\n",
    "    'BMI Category': 'Categoria IMC'\n",
    "}, inplace=True)\n",
    "\n",
    "# para verificar as mudanças\n",
    "df.head()"
   ]
  },
  {
   "cell_type": "markdown",
   "metadata": {},
   "source": [
    "### 2. Qual é a média, a moda e a mediana de horas de sono para cada uma das profissões? [‘mean’, np.median, pd.Series.mod]\n"
   ]
  },
  {
   "cell_type": "code",
   "execution_count": 19,
   "metadata": {},
   "outputs": [
    {
     "name": "stdout",
     "output_type": "stream",
     "text": [
      "                             mean  median  mode\n",
      "Ocupação                                       \n",
      "Advogado(a)              7.410638     7.3   7.2\n",
      "Cientista                6.000000     6.0   5.8\n",
      "Contador(a)              7.113514     7.2   7.2\n",
      "Enfermeiro(a)            7.048611     6.5   6.1\n",
      "Eng. de Software         6.750000     6.8   7.5\n",
      "Engenheiro(a)            7.987302     8.3   8.4\n",
      "Gerente                  6.900000     6.9   6.9\n",
      "Médico(a)                6.970423     7.6   6.0\n",
      "Pessoa Vendendora        6.403125     6.4   6.5\n",
      "Professor(a)             6.690000     6.6   6.6\n",
      "Representante de Vendas  5.900000     5.9   5.9\n"
     ]
    },
    {
     "name": "stderr",
     "output_type": "stream",
     "text": [
      "C:\\Users\\Trocados\\AppData\\Local\\Temp\\ipykernel_10400\\584352977.py:2: FutureWarning: The provided callable <function median at 0x000001F5216B8040> is currently using SeriesGroupBy.median. In a future version of pandas, the provided callable will be used directly. To keep current behavior pass the string \"median\" instead.\n",
      "  status_sono = df.groupby('Ocupação')['Duração do sono'].agg(['mean', np.median, lambda x: x.mode().iloc[0]])\n"
     ]
    }
   ],
   "source": [
    "# Calcular média, mediana e moda de horas de sono para cada ocupação\n",
    "status_sono = df.groupby('Ocupação')['Duração do sono'].agg(['mean', np.median, lambda x: x.mode().iloc[0]])\n",
    "status_sono.rename(columns={'<lambda_0>': 'mode'}, inplace=True)\n",
    "\n",
    "# Exibir resultados\n",
    "print(status_sono)"
   ]
  },
  {
   "cell_type": "markdown",
   "metadata": {},
   "source": [
    "###  3. Das pessoas que atuam com engenharia de software qual a porcentagem de obesos?\n"
   ]
  },
  {
   "cell_type": "code",
   "execution_count": 25,
   "metadata": {},
   "outputs": [
    {
     "name": "stdout",
     "output_type": "stream",
     "text": [
      "Porcentagem de obesos entre engenheiros de software: 25.00%\n"
     ]
    }
   ],
   "source": [
    "# Filtrar pessoas que atuam com engenharia de software\n",
    "eng_software = df[df['Ocupação'] == 'Eng. de Software']\n",
    "\n",
    "# Calcular a porcentagem de obesos\n",
    "num_obesos = eng_software[eng_software['Categoria BMI'] == 'Obesidade'].shape[0]\n",
    "total_eng_software = eng_software.shape[0]\n",
    "\n",
    "percent_obesos = (num_obesos / total_eng_software) * 100\n",
    "\n",
    "print(f\"Porcentagem de obesos entre engenheiros de software: {percent_obesos:.2f}%\")\n"
   ]
  },
  {
   "cell_type": "markdown",
   "metadata": {},
   "source": [
    "### 4. De acordo com os dados, advogar ou ser representante de vendas faz você dormir menos? (Use o método ‘isin’, considere a média)"
   ]
  },
  {
   "cell_type": "code",
   "execution_count": 26,
   "metadata": {},
   "outputs": [
    {
     "name": "stdout",
     "output_type": "stream",
     "text": [
      "Ocupação\n",
      "Advogado(a)                7.410638\n",
      "Representante de Vendas    5.900000\n",
      "Name: Duração do sono, dtype: float64\n",
      "Ser representante de vendas está associado a menos horas de sono.\n"
     ]
    }
   ],
   "source": [
    "# Filtrar os dados para advogados e representantes de vendas\n",
    "adv_representantes = df[df['Ocupação'].isin(['Advogado(a)', 'Representante de Vendas'])]\n",
    "\n",
    "# Calcular a média de horas de sono para advogados e representantes de vendas\n",
    "mean_sleep_adv_representantes = adv_representantes.groupby('Ocupação')['Duração do sono'].mean()\n",
    "\n",
    "print(mean_sleep_adv_representantes)\n",
    "\n",
    "# Comparar as médias\n",
    "if mean_sleep_adv_representantes['Advogado(a)'] < mean_sleep_adv_representantes['Representante de Vendas']:\n",
    "    print(\"Advogar está associado a menos horas de sono.\")\n",
    "else:\n",
    "    print(\"Ser representante de vendas está associado a menos horas de sono.\")\n"
   ]
  },
  {
   "cell_type": "markdown",
   "metadata": {},
   "source": [
    "### 5. Entre quem fez enfermagem e quem fez medicina, quem tem menos horas de sono? (Use o método ‘isin’, considere a média)\n"
   ]
  },
  {
   "cell_type": "code",
   "execution_count": 32,
   "metadata": {},
   "outputs": [
    {
     "name": "stdout",
     "output_type": "stream",
     "text": [
      "Média de horas de sono para quem fez Enfermagem: nan\n",
      "Média de horas de sono para quem fez Medicina: nan\n",
      "Quem fez Medicina tem menos horas de sono.\n"
     ]
    }
   ],
   "source": [
    "\n",
    "# Filtrar o DataFrame para pessoas que fizeram enfermagem\n",
    "enfermeiros = df[df['Ocupação'].isin(['Enfermagem'])]['Duração do sono'].mean()\n",
    "\n",
    "# Filtrar o DataFrame para pessoas que fizeram medicina\n",
    "medicos = df[df['Ocupação'].isin(['Medicina'])]['Duração do sono'].mean()\n",
    "\n",
    "# Comparar as médias\n",
    "print(f\"Média de horas de sono para quem fez Enfermagem: {enfermeiros}\")\n",
    "print(f\"Média de horas de sono para quem fez Medicina: {medicos}\")\n",
    "\n",
    "# Identificar quem tem menos horas de sono\n",
    "if enfermeiros < medicos:\n",
    "    print(\"Quem fez Enfermagem tem menos horas de sono.\")\n",
    "else:\n",
    "    print(\"Quem fez Medicina tem menos horas de sono.\")\n"
   ]
  },
  {
   "cell_type": "markdown",
   "metadata": {},
   "source": [
    "### 6. Faça um subconjunto com as colunas Identificador, Gênero, Idade, Pressão sanguínea e Frequência cardíaca.\n"
   ]
  },
  {
   "cell_type": "code",
   "execution_count": 35,
   "metadata": {},
   "outputs": [
    {
     "name": "stdout",
     "output_type": "stream",
     "text": [
      "     Identificador  Gênero  Idade Pressão sanguíneaaaa  Frequência cardíaca\n",
      "0                1   Homem     27               126/83                   77\n",
      "1                2   Homem     28               125/80                   75\n",
      "2                3   Homem     28               125/80                   75\n",
      "3                4   Homem     28               140/90                   85\n",
      "4                5   Homem     28               140/90                   85\n",
      "..             ...     ...    ...                  ...                  ...\n",
      "368            369  Mulher     59               140/95                   68\n",
      "369            370  Mulher     59               140/95                   68\n",
      "370            371  Mulher     59               140/95                   68\n",
      "371            372  Mulher     59               140/95                   68\n",
      "372            373  Mulher     59               140/95                   68\n",
      "\n",
      "[373 rows x 5 columns]\n"
     ]
    }
   ],
   "source": [
    "# Criar um subconjunto com as colunas desejadas\n",
    "subconjunto = df[['Identificador', 'Gênero', 'Idade', 'Pressão sanguíneaaaa', 'Frequência cardíaca']]\n",
    "\n",
    "# Exibir o subconjunto\n",
    "print(subconjunto)\n"
   ]
  },
  {
   "cell_type": "markdown",
   "metadata": {},
   "source": [
    "### 7. Descubra qual a profissão menos frequente no conjunto. (Use value_counts)\n"
   ]
  },
  {
   "cell_type": "code",
   "execution_count": 36,
   "metadata": {},
   "outputs": [
    {
     "data": {
      "text/plain": [
       "'Gerente'"
      ]
     },
     "execution_count": 36,
     "metadata": {},
     "output_type": "execute_result"
    }
   ],
   "source": [
    "# Conta a frequência de cada profissão\n",
    "frequencias = df['Ocupação'].value_counts()\n",
    "\n",
    "# Encontra a profissão menos frequente\n",
    "menos_frequente = frequencias.idxmin()\n",
    "menos_frequente\n"
   ]
  },
  {
   "cell_type": "markdown",
   "metadata": {},
   "source": [
    "### 8. Quem tem maior pressão sanguínea média, homens ou mulheres? (Considere a média)\n"
   ]
  },
  {
   "cell_type": "markdown",
   "metadata": {},
   "source": [
    "### 9. É predominante entre os participantes dormir 8 horas por dia (considere usar Moda como medida)?"
   ]
  },
  {
   "cell_type": "code",
   "execution_count": 41,
   "metadata": {},
   "outputs": [
    {
     "name": "stdout",
     "output_type": "stream",
     "text": [
      "A moda da duração do sono é: 7.2 horas\n"
     ]
    }
   ],
   "source": [
    "# Calcular a moda da duração do sono\n",
    "moda_duracao_sono = df['Duração do sono'].mode()\n",
    "\n",
    "print(f'A moda da duração do sono é: {moda_duracao_sono.iloc[0]} horas')\n"
   ]
  },
  {
   "cell_type": "code",
   "execution_count": 42,
   "metadata": {},
   "outputs": [
    {
     "name": "stdout",
     "output_type": "stream",
     "text": [
      "Não, não é predominante dormir 8 horas por dia.\n"
     ]
    }
   ],
   "source": [
    "# Verificar se a moda é 8 horas\n",
    "predominante = moda_duracao_sono.iloc[0] == 8\n",
    "\n",
    "if predominante:\n",
    "    print(\"Sim, é predominante dormir 8 horas por dia.\")\n",
    "else:\n",
    "    print(\"Não, não é predominante dormir 8 horas por dia.\")\n"
   ]
  },
  {
   "cell_type": "markdown",
   "metadata": {},
   "source": [
    "### 10. Pessoas com frequências cardíacas acima de 70 dão mais passos que pessoas com frequência cardíaca menor ou igual a 70? (Use a média)"
   ]
  },
  {
   "cell_type": "code",
   "execution_count": 43,
   "metadata": {},
   "outputs": [
    {
     "name": "stdout",
     "output_type": "stream",
     "text": [
      "Média de passos diários para pessoas com frequência cardíaca acima de 70: 6472.932330827068\n",
      "Média de passos diários para pessoas com frequência cardíaca menor ou igual a 70: 7006.666666666667\n"
     ]
    }
   ],
   "source": [
    "# Separar em dois grupos com base na frequência cardíaca\n",
    "grupo_acima_70 = df[df['Frequência cardíaca'] > 70]\n",
    "grupo_igual_ou_menor_70 = df[df['Frequência cardíaca'] <= 70]\n",
    "\n",
    "# Calcular a média dos passos diários para cada grupo\n",
    "media_passos_acima_70 = grupo_acima_70['Passos diários'].mean()\n",
    "media_passos_igual_ou_menor_70 = grupo_igual_ou_menor_70['Passos diários'].mean()\n",
    "\n",
    "print(f'Média de passos diários para pessoas com frequência cardíaca acima de 70: {media_passos_acima_70}')\n",
    "print(f'Média de passos diários para pessoas com frequência cardíaca menor ou igual a 70: {media_passos_igual_ou_menor_70}')\n"
   ]
  },
  {
   "cell_type": "code",
   "execution_count": 44,
   "metadata": {},
   "outputs": [
    {
     "name": "stdout",
     "output_type": "stream",
     "text": [
      "Pessoas com frequências cardíacas menores ou iguais a 70 dão mais passos ou há empate.\n"
     ]
    }
   ],
   "source": [
    "if media_passos_acima_70 > media_passos_igual_ou_menor_70:\n",
    "    print(\"Pessoas com frequências cardíacas acima de 70 dão mais passos.\")\n",
    "else:\n",
    "    print(\"Pessoas com frequências cardíacas menores ou iguais a 70 dão mais passos ou há empate.\")\n"
   ]
  }
 ],
 "metadata": {
  "kernelspec": {
   "display_name": "Python 3",
   "language": "python",
   "name": "python3"
  },
  "language_info": {
   "codemirror_mode": {
    "name": "ipython",
    "version": 3
   },
   "file_extension": ".py",
   "mimetype": "text/x-python",
   "name": "python",
   "nbconvert_exporter": "python",
   "pygments_lexer": "ipython3",
   "version": "3.11.9"
  }
 },
 "nbformat": 4,
 "nbformat_minor": 2
}
