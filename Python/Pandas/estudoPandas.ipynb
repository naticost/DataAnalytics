{
 "cells": [
  {
   "cell_type": "markdown",
   "metadata": {},
   "source": [
    "Você pode imaginar uma Series do Pandas como uma versão especializada de um dicionário do Python. Enquanto um dicionário mapeia chaves arbitrárias para valores arbitrários, uma Series mapeia chaves e valores com tipos específicos. Essa tipagem é crucial: assim como os arrays do NumPy são mais eficientes que listas do Python devido à tipagem, a Series do Pandas é muito mais eficiente que dicionários do Python para certas operações devido às suas informações de tipo."
   ]
  },
  {
   "cell_type": "markdown",
   "metadata": {},
   "source": [
    "###   pd . Série ( dados ,  índice = índice )"
   ]
  },
  {
   "cell_type": "markdown",
   "metadata": {},
   "source": [
    "### O objeto Pandas DataFrame \n",
    "DataFrame pode ser pensado como uma generalização de um array NumPy ou como uma especialização de um dicionário Python."
   ]
  },
  {
   "cell_type": "markdown",
   "metadata": {},
   "source": [
    "### Alinhamento de Índice no DataFrame\n",
    "\n",
    "Um tipo semelhante de alinhamento ocorre para colunas e índices ao realizar operações em DataFrames:"
   ]
  },
  {
   "cell_type": "code",
   "execution_count": 5,
   "metadata": {},
   "outputs": [
    {
     "name": "stdout",
     "output_type": "stream",
     "text": [
      "DataFrame A:\n",
      "    A  B\n",
      "0   8  6\n",
      "1  11  0\n",
      "\n",
      "DataFrame B:\n",
      "   B  A  C\n",
      "0  2  4  3\n",
      "1  8  2  3\n",
      "2  6  3  8\n"
     ]
    }
   ],
   "source": [
    "import numpy as np\n",
    "import pandas as pd\n",
    "\n",
    "# Gerando dados aleatórios para os DataFrames\n",
    "rng = np.random.default_rng()\n",
    "A = pd.DataFrame(rng.integers(0, 20, (2, 2)), columns=list('AB'))\n",
    "B = pd.DataFrame(rng.integers(0, 10, (3, 3)), columns=list('BAC'))\n",
    "\n",
    "print(\"DataFrame A:\")\n",
    "print(A)\n",
    "\n",
    "print(\"\\nDataFrame B:\")\n",
    "print(B)\n"
   ]
  },
  {
   "cell_type": "code",
   "execution_count": 6,
   "metadata": {},
   "outputs": [
    {
     "name": "stdout",
     "output_type": "stream",
     "text": [
      "\n",
      "Resultado de A + B:\n",
      "      A    B   C\n",
      "0  12.0  8.0 NaN\n",
      "1  13.0  8.0 NaN\n",
      "2   NaN  NaN NaN\n"
     ]
    }
   ],
   "source": [
    "result = A + B\n",
    "print(\"\\nResultado de A + B:\")\n",
    "print(result)\n"
   ]
  },
  {
   "cell_type": "markdown",
   "metadata": {},
   "source": [
    "### Alinhamento de Índices\n",
    "Os índices e colunas são alinhados automaticamente. Se um índice ou coluna não existe em ambos os DataFrames, o resultado será NaN."
   ]
  },
  {
   "cell_type": "markdown",
   "metadata": {},
   "source": [
    "### Preenchendo Valores Faltantes\n",
    "Se não quisermos NaN para valores faltantes, podemos usar o método add e especificar um valor de preenchimento (fill_value):"
   ]
  },
  {
   "cell_type": "code",
   "execution_count": 7,
   "metadata": {},
   "outputs": [
    {
     "name": "stdout",
     "output_type": "stream",
     "text": [
      "\n",
      "Resultado de A.add(B, fill_value=fill_value):\n",
      "       A      B      C\n",
      "0  12.00   8.00   9.25\n",
      "1  13.00   8.00   9.25\n",
      "2   9.25  12.25  14.25\n"
     ]
    }
   ],
   "source": [
    "fill_value = A.stack().mean()  # Calculando a média dos valores em A\n",
    "result_fill = A.add(B, fill_value=fill_value)\n",
    "print(\"\\nResultado de A.add(B, fill_value=fill_value):\")\n",
    "print(result_fill)\n"
   ]
  },
  {
   "cell_type": "markdown",
   "metadata": {},
   "source": [
    "### O Pandas facilita operações entre DataFrames, alinhando automaticamente os índices e colunas. Podemos evitar NaNs resultantes de alinhamentos usando o método add com fill_value."
   ]
  }
 ],
 "metadata": {
  "kernelspec": {
   "display_name": "Python 3",
   "language": "python",
   "name": "python3"
  },
  "language_info": {
   "codemirror_mode": {
    "name": "ipython",
    "version": 3
   },
   "file_extension": ".py",
   "mimetype": "text/x-python",
   "name": "python",
   "nbconvert_exporter": "python",
   "pygments_lexer": "ipython3",
   "version": "3.11.9"
  }
 },
 "nbformat": 4,
 "nbformat_minor": 2
}
