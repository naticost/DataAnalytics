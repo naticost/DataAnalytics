{
 "cells": [
  {
   "cell_type": "markdown",
   "metadata": {},
   "source": [
    "Você pode imaginar uma Series do Pandas como uma versão especializada de um dicionário do Python. Enquanto um dicionário mapeia chaves arbitrárias para valores arbitrários, uma Series mapeia chaves e valores com tipos específicos. Essa tipagem é crucial: assim como os arrays do NumPy são mais eficientes que listas do Python devido à tipagem, a Series do Pandas é muito mais eficiente que dicionários do Python para certas operações devido às suas informações de tipo."
   ]
  },
  {
   "cell_type": "markdown",
   "metadata": {},
   "source": [
    "###   pd . Série ( dados ,  índice = índice )"
   ]
  },
  {
   "cell_type": "markdown",
   "metadata": {},
   "source": [
    "### O objeto Pandas DataFrame \n",
    "DataFrame pode ser pensado como uma generalização de um array NumPy ou como uma especialização de um dicionário Python.\n",
    "\n",
    "![Operador Pandas](https://raw.githubusercontent.com/naticost/DataAnalytics/main/Python/img/operatormet.png)"
   ]
  },
  {
   "cell_type": "markdown",
   "metadata": {},
   "source": [
    "### Alinhamento de Índice no DataFrame\n",
    "\n",
    "Um tipo semelhante de alinhamento ocorre para colunas e índices ao realizar operações em DataFrames:"
   ]
  },
  {
   "cell_type": "code",
   "execution_count": 5,
   "metadata": {},
   "outputs": [
    {
     "name": "stdout",
     "output_type": "stream",
     "text": [
      "DataFrame A:\n",
      "    A  B\n",
      "0   8  6\n",
      "1  11  0\n",
      "\n",
      "DataFrame B:\n",
      "   B  A  C\n",
      "0  2  4  3\n",
      "1  8  2  3\n",
      "2  6  3  8\n"
     ]
    }
   ],
   "source": [
    "import numpy as np\n",
    "import pandas as pd\n",
    "\n",
    "# Gerando dados aleatórios para os DataFrames\n",
    "rng = np.random.default_rng()\n",
    "A = pd.DataFrame(rng.integers(0, 20, (2, 2)), columns=list('AB'))\n",
    "B = pd.DataFrame(rng.integers(0, 10, (3, 3)), columns=list('BAC'))\n",
    "\n",
    "print(\"DataFrame A:\")\n",
    "print(A)\n",
    "\n",
    "print(\"\\nDataFrame B:\")\n",
    "print(B)\n"
   ]
  },
  {
   "cell_type": "code",
   "execution_count": 6,
   "metadata": {},
   "outputs": [
    {
     "name": "stdout",
     "output_type": "stream",
     "text": [
      "\n",
      "Resultado de A + B:\n",
      "      A    B   C\n",
      "0  12.0  8.0 NaN\n",
      "1  13.0  8.0 NaN\n",
      "2   NaN  NaN NaN\n"
     ]
    }
   ],
   "source": [
    "result = A + B\n",
    "print(\"\\nResultado de A + B:\")\n",
    "print(result)\n"
   ]
  },
  {
   "cell_type": "markdown",
   "metadata": {},
   "source": [
    "### Alinhamento de Índices\n",
    "Os índices e colunas são alinhados automaticamente. Se um índice ou coluna não existe em ambos os DataFrames, o resultado será NaN."
   ]
  },
  {
   "cell_type": "markdown",
   "metadata": {},
   "source": [
    "### Preenchendo Valores Faltantes\n",
    "Se não quisermos NaN para valores faltantes, podemos usar o método add e especificar um valor de preenchimento (fill_value):"
   ]
  },
  {
   "cell_type": "code",
   "execution_count": 7,
   "metadata": {},
   "outputs": [
    {
     "name": "stdout",
     "output_type": "stream",
     "text": [
      "\n",
      "Resultado de A.add(B, fill_value=fill_value):\n",
      "       A      B      C\n",
      "0  12.00   8.00   9.25\n",
      "1  13.00   8.00   9.25\n",
      "2   9.25  12.25  14.25\n"
     ]
    }
   ],
   "source": [
    "fill_value = A.stack().mean()  # Calculando a média dos valores em A\n",
    "result_fill = A.add(B, fill_value=fill_value)\n",
    "print(\"\\nResultado de A.add(B, fill_value=fill_value):\")\n",
    "print(result_fill)\n"
   ]
  },
  {
   "cell_type": "markdown",
   "metadata": {},
   "source": [
    "### O Pandas facilita operações entre DataFrames, alinhando automaticamente os índices e colunas. Podemos evitar NaNs resultantes de alinhamentos usando o método add com fill_value."
   ]
  },
  {
   "cell_type": "markdown",
   "metadata": {},
   "source": [
    "### None: Dados Ausentes no Pandas\n",
    "O Pandas usa None, um objeto do Python, para representar dados ausentes. No entanto, None só pode ser usado em arrays de objetos (dtype=object). Vamos ver como isso funciona na prática e entender suas implicações.\n",
    "\n",
    "Exemplo com None\n",
    "Vamos criar um array do NumPy contendo None e observar o comportamento:"
   ]
  },
  {
   "cell_type": "code",
   "execution_count": 8,
   "metadata": {},
   "outputs": [
    {
     "name": "stdout",
     "output_type": "stream",
     "text": [
      "[1 None 3 4]\n"
     ]
    }
   ],
   "source": [
    "import numpy as np\n",
    "\n",
    "# Criando um array do NumPy com valores ausentes (None)\n",
    "vals1 = np.array([1, None, 3, 4])\n",
    "print(vals1)\n"
   ]
  },
  {
   "cell_type": "markdown",
   "metadata": {},
   "source": [
    "O dtype=object significa que o NumPy identificou que os elementos do array são objetos Python (como None), e não números comuns como inteiros ou floats.\n",
    "\n",
    "O que significa dtype=object?\n",
    "Representação de Objetos Python:\n",
    "\n",
    "dtype=object indica que o array pode conter qualquer tipo de objeto Python, como números, strings, ou até mesmo None.\n",
    "Isso é útil quando você precisa misturar diferentes tipos de dados em um array.\n",
    "Desempenho mais lento:\n",
    "\n",
    "Arrays de objetos (dtype=object) são mais lentos do que arrays de tipos nativos do NumPy (como int ou float), porque as operações são realizadas no nível do Python, o que envolve mais processamento.\n",
    "Veja a comparação de desempenho abaixo:"
   ]
  },
  {
   "cell_type": "code",
   "execution_count": 9,
   "metadata": {},
   "outputs": [
    {
     "name": "stdout",
     "output_type": "stream",
     "text": [
      "dtype=object\n",
      "63.6 ms ± 3.45 ms per loop (mean ± std. dev. of 7 runs, 10 loops each)\n",
      "\n",
      "dtype=int\n",
      "2.7 ms ± 370 μs per loop (mean ± std. dev. of 7 runs, 100 loops each)\n",
      "\n"
     ]
    }
   ],
   "source": [
    "# Comparação de desempenho entre arrays de objetos e arrays de inteiros\n",
    "for dtype in ['object', 'int']:\n",
    "    print(f\"dtype={dtype}\")\n",
    "    %timeit np.arange(1E6, dtype=dtype).sum()\n",
    "    print()\n"
   ]
  },
  {
   "cell_type": "markdown",
   "metadata": {},
   "source": [
    "# Resumo das Diferenças\n",
    "### Dados Ausentes:\n",
    "Refere-se à falta de dados onde eles deveriam estar, representados geralmente por NaN em contextos numéricos e por None em contextos gerais.\n",
    "\n",
    "### Dados Nulos: \n",
    "É um conceito mais amplo que pode incluir a ausência de valor ou dados desconhecidos. Em bancos de dados, é representado como NULL. Em Python/Pandas, None é frequentemente usado para representar dados nulos e é convertido para NaN em operações numéricas."
   ]
  },
  {
   "cell_type": "markdown",
   "metadata": {},
   "source": [
    "### NaN: Representação de Dados Ausentes Numéricos\n",
    "O NaN (Not a Number) é uma forma comum de representar dados ausentes em contextos numéricos. É um valor especial de ponto flutuante reconhecido por sistemas que utilizam a representação de ponto flutuante padrão IEEE.\n",
    "\n",
    "Exemplo com NaN\n",
    "Vamos criar um array do NumPy com NaN e ver como ele é tratado:"
   ]
  },
  {
   "cell_type": "code",
   "execution_count": 10,
   "metadata": {},
   "outputs": [
    {
     "name": "stdout",
     "output_type": "stream",
     "text": [
      "[ 1. nan  3.  4.]\n",
      "Tipo de dados: float64\n"
     ]
    }
   ],
   "source": [
    "import numpy as np\n",
    "\n",
    "# Criando um array do NumPy com NaN\n",
    "vals2 = np.array([1, np.nan, 3, 4])\n",
    "print(vals2)\n",
    "print(\"Tipo de dados:\", vals2.dtype)\n"
   ]
  },
  {
   "cell_type": "markdown",
   "metadata": {},
   "source": [
    "### Comportamento do NaN\n",
    "Operações com NaN: Quando você realiza operações com NaN, o resultado geralmente será NaN. Isso pode ser problemático, pois NaN se comporta como um \"vírus de dados\" que se propaga:"
   ]
  },
  {
   "cell_type": "code",
   "execution_count": 11,
   "metadata": {},
   "outputs": [
    {
     "name": "stdout",
     "output_type": "stream",
     "text": [
      "nan\n",
      "nan\n"
     ]
    }
   ],
   "source": [
    "print(1 + np.nan)  # Resulta em NaN\n",
    "print(0 * np.nan)  # Resulta em NaN\n"
   ]
  },
  {
   "cell_type": "markdown",
   "metadata": {},
   "source": [
    "Agregações com NaN: As funções padrão de agregação, como soma, mínimo e máximo, também retornam NaN se o array contiver NaN:"
   ]
  },
  {
   "cell_type": "code",
   "execution_count": 12,
   "metadata": {},
   "outputs": [
    {
     "name": "stdout",
     "output_type": "stream",
     "text": [
      "nan\n",
      "nan\n",
      "nan\n"
     ]
    }
   ],
   "source": [
    "print(vals2.sum())  # Resulta em NaN\n",
    "print(vals2.min())  # Resulta em NaN\n",
    "print(vals2.max())  # Resulta em NaN\n"
   ]
  },
  {
   "cell_type": "markdown",
   "metadata": {},
   "source": [
    "Funções específicas para NaN: O NumPy oferece funções que ignoram NaN ao realizar agregações:"
   ]
  },
  {
   "cell_type": "code",
   "execution_count": null,
   "metadata": {},
   "outputs": [],
   "source": [
    "print(np.nansum(vals2))  # Soma ignorando NaN: 8.0\n",
    "print(np.nanmin(vals2))  # Mínimo ignorando NaN: 1.0\n",
    "print(np.nanmax(vals2))  # Máximo ignorando NaN: 4.0\n"
   ]
  },
  {
   "cell_type": "markdown",
   "metadata": {},
   "source": [
    "### O Pandas é projetado para lidar com NaN e None, tratando-os de maneira semelhante:"
   ]
  },
  {
   "cell_type": "code",
   "execution_count": 13,
   "metadata": {},
   "outputs": [
    {
     "name": "stdout",
     "output_type": "stream",
     "text": [
      "0    1.0\n",
      "1    NaN\n",
      "2    2.0\n",
      "3    NaN\n",
      "dtype: float64\n"
     ]
    }
   ],
   "source": [
    "import pandas as pd\n",
    "\n",
    "# Criando uma Série do Pandas com NaN e None\n",
    "s = pd.Series([1, np.nan, 2, None])\n",
    "print(s)\n"
   ]
  },
  {
   "cell_type": "markdown",
   "metadata": {},
   "source": [
    " Conversão de Tipo: Quando um valor NaN é inserido em uma Série de inteiros, o Pandas converte automaticamente o tipo para float64:\n",
    "\n",
    "\n",
    " Isso ocorre porque o None é convertido para NaN, que é um tipo de ponto flutuante."
   ]
  },
  {
   "cell_type": "code",
   "execution_count": 14,
   "metadata": {},
   "outputs": [
    {
     "name": "stdout",
     "output_type": "stream",
     "text": [
      "0    0\n",
      "1    1\n",
      "dtype: int32\n",
      "0    NaN\n",
      "1    1.0\n",
      "dtype: float64\n"
     ]
    }
   ],
   "source": [
    "x = pd.Series(range(2), dtype=int)\n",
    "print(x)\n",
    "\n",
    "x[0] = None\n",
    "print(x)\n"
   ]
  },
  {
   "cell_type": "markdown",
   "metadata": {},
   "source": [
    "![Valores em NA](https://raw.githubusercontent.com/naticost/DataAnalytics/main/Python/img/valoresNAN.png)"
   ]
  },
  {
   "cell_type": "markdown",
   "metadata": {},
   "source": [
    "\n",
    "### Trabalhando com Valores Nulos\n",
    "\n",
    "No Pandas, `None` e `NaN` são tratados de forma intercambiável para representar valores ausentes. Para gerenciar esses valores nulos, o Pandas oferece vários métodos úteis:\n",
    "\n",
    "- **`isnull()`**: Cria uma máscara booleana que indica onde os valores estão ausentes.\n",
    "- **`notnull()`**: Faz o oposto de `isnull()`, mostrando onde os valores não estão ausentes.\n",
    "- **`dropna()`**: Retorna uma versão dos dados onde os valores ausentes foram removidos.\n",
    "- **`fillna()`**: Retorna uma cópia dos dados onde os valores ausentes foram preenchidos com um valor especificado.\n",
    "\n",
    "Esses métodos ajudam a identificar, limpar e substituir valores nulos em seus DataFrames e Series."
   ]
  },
  {
   "cell_type": "code",
   "execution_count": 15,
   "metadata": {},
   "outputs": [
    {
     "name": "stdout",
     "output_type": "stream",
     "text": [
      "0    False\n",
      "1     True\n",
      "2    False\n",
      "3     True\n",
      "dtype: bool\n",
      "0     True\n",
      "1    False\n",
      "2     True\n",
      "3    False\n",
      "dtype: bool\n"
     ]
    }
   ],
   "source": [
    "import pandas as pd\n",
    "import numpy as np\n",
    "\n",
    "dados = pd.Series([1, np.nan, 'hello', None])\n",
    "print(dados.isnull())  # Indica onde os valores são nulos\n",
    "print(dados.notnull())  # Indica onde os valores não são nulos\n"
   ]
  },
  {
   "cell_type": "code",
   "execution_count": 21,
   "metadata": {},
   "outputs": [
    {
     "name": "stdout",
     "output_type": "stream",
     "text": [
      "Data Frame Exemplo\n",
      "     0    1  2\n",
      "0  1.0  NaN  2\n",
      "1  2.0  3.0  5\n",
      "2  NaN  4.0  6\n",
      "-----------------------------\n",
      "     0    1  2\n",
      "1  2.0  3.0  5\n",
      "-----------------------------\n",
      "   2\n",
      "0  2\n",
      "1  5\n",
      "2  6\n",
      "-----------------------------\n",
      "     0    1  2\n",
      "0  1.0  NaN  2\n",
      "1  2.0  3.0  5\n",
      "2  NaN  4.0  6\n",
      "-----------------------------\n",
      "     0    1  2   3\n",
      "1  2.0  3.0  5 NaN\n"
     ]
    }
   ],
   "source": [
    "df = pd.DataFrame([[1, np.nan, 2], [2, 3, 5], [np.nan, 4, 6]])\n",
    "print(\"Data Frame Exemplo\")\n",
    "print(df)\n",
    "print(\"-----------------------------\")\n",
    "\n",
    "# Remove linhas com qualquer valor nulo\n",
    "print(df.dropna())\n",
    "print(\"-----------------------------\")\n",
    "\n",
    "# Remove colunas com qualquer valor nulo\n",
    "print(df.dropna(axis='columns'))\n",
    "print(\"-----------------------------\")\n",
    "\n",
    "# Remove linhas onde todos os valores são nulos\n",
    "df[3] = np.nan\n",
    "print(df.dropna(axis='columns', how='all'))\n",
    "print(\"-----------------------------\")\n",
    "\n",
    "# Remove linhas com menos de 3 valores não nulos\n",
    "print(df.dropna(axis='rows', thresh=3))\n"
   ]
  },
  {
   "cell_type": "markdown",
   "metadata": {},
   "source": [
    "### Preenchendo Valores Nulos\n",
    "Em vez de remover valores nulos, você pode optar por substituí-los por valores válidos. Isso pode ser feito substituindo por um único número, como zero, ou utilizando métodos de imputação ou interpolação. O Pandas facilita esse processo com o método fillna(), que cria uma cópia dos dados com os valores nulos substituídos."
   ]
  },
  {
   "cell_type": "code",
   "execution_count": 22,
   "metadata": {},
   "outputs": [
    {
     "name": "stdout",
     "output_type": "stream",
     "text": [
      "a    1.0\n",
      "b    NaN\n",
      "c    2.0\n",
      "d    NaN\n",
      "e    3.0\n",
      "dtype: float64\n"
     ]
    }
   ],
   "source": [
    "import pandas as pd\n",
    "import numpy as np\n",
    "\n",
    "dados = pd.Series([1, np.nan, 2, None, 3], index=list('abcde'))\n",
    "print(dados)\n"
   ]
  },
  {
   "cell_type": "code",
   "execution_count": 23,
   "metadata": {},
   "outputs": [
    {
     "data": {
      "text/plain": [
       "a    1.0\n",
       "b    0.0\n",
       "c    2.0\n",
       "d    0.0\n",
       "e    3.0\n",
       "dtype: float64"
      ]
     },
     "execution_count": 23,
     "metadata": {},
     "output_type": "execute_result"
    }
   ],
   "source": [
    "dados.fillna(0)\n"
   ]
  },
  {
   "cell_type": "code",
   "execution_count": 24,
   "metadata": {},
   "outputs": [
    {
     "name": "stderr",
     "output_type": "stream",
     "text": [
      "C:\\Users\\Trocados\\AppData\\Local\\Temp\\ipykernel_11476\\2068584607.py:1: FutureWarning: Series.fillna with 'method' is deprecated and will raise in a future version. Use obj.ffill() or obj.bfill() instead.\n",
      "  dados.fillna(method='ffill')\n"
     ]
    },
    {
     "data": {
      "text/plain": [
       "a    1.0\n",
       "b    1.0\n",
       "c    2.0\n",
       "d    2.0\n",
       "e    3.0\n",
       "dtype: float64"
      ]
     },
     "execution_count": 24,
     "metadata": {},
     "output_type": "execute_result"
    }
   ],
   "source": [
    "dados.fillna(method='ffill')\n"
   ]
  },
  {
   "cell_type": "markdown",
   "metadata": {},
   "source": [
    "Para DataFrames, as opções são semelhantes e você também pode especificar o eixo ao longo do qual o preenchimento ocorre:"
   ]
  },
  {
   "cell_type": "code",
   "execution_count": 25,
   "metadata": {},
   "outputs": [
    {
     "name": "stdout",
     "output_type": "stream",
     "text": [
      "     0    1  2   3\n",
      "0  1.0  NaN  2 NaN\n",
      "1  2.0  3.0  5 NaN\n",
      "2  NaN  4.0  6 NaN\n"
     ]
    }
   ],
   "source": [
    "df = pd.DataFrame([[1, np.nan, 2, np.nan], [2, 3, 5, np.nan], [np.nan, 4, 6, np.nan]])\n",
    "print(df)\n"
   ]
  },
  {
   "cell_type": "code",
   "execution_count": 26,
   "metadata": {},
   "outputs": [
    {
     "name": "stderr",
     "output_type": "stream",
     "text": [
      "C:\\Users\\Trocados\\AppData\\Local\\Temp\\ipykernel_11476\\4240272785.py:1: FutureWarning: DataFrame.fillna with 'method' is deprecated and will raise in a future version. Use obj.ffill() or obj.bfill() instead.\n",
      "  df.fillna(method='ffill', axis=1)\n"
     ]
    },
    {
     "data": {
      "text/html": [
       "<div>\n",
       "<style scoped>\n",
       "    .dataframe tbody tr th:only-of-type {\n",
       "        vertical-align: middle;\n",
       "    }\n",
       "\n",
       "    .dataframe tbody tr th {\n",
       "        vertical-align: top;\n",
       "    }\n",
       "\n",
       "    .dataframe thead th {\n",
       "        text-align: right;\n",
       "    }\n",
       "</style>\n",
       "<table border=\"1\" class=\"dataframe\">\n",
       "  <thead>\n",
       "    <tr style=\"text-align: right;\">\n",
       "      <th></th>\n",
       "      <th>0</th>\n",
       "      <th>1</th>\n",
       "      <th>2</th>\n",
       "      <th>3</th>\n",
       "    </tr>\n",
       "  </thead>\n",
       "  <tbody>\n",
       "    <tr>\n",
       "      <th>0</th>\n",
       "      <td>1.0</td>\n",
       "      <td>1.0</td>\n",
       "      <td>2.0</td>\n",
       "      <td>2.0</td>\n",
       "    </tr>\n",
       "    <tr>\n",
       "      <th>1</th>\n",
       "      <td>2.0</td>\n",
       "      <td>3.0</td>\n",
       "      <td>5.0</td>\n",
       "      <td>5.0</td>\n",
       "    </tr>\n",
       "    <tr>\n",
       "      <th>2</th>\n",
       "      <td>NaN</td>\n",
       "      <td>4.0</td>\n",
       "      <td>6.0</td>\n",
       "      <td>6.0</td>\n",
       "    </tr>\n",
       "  </tbody>\n",
       "</table>\n",
       "</div>"
      ],
      "text/plain": [
       "     0    1    2    3\n",
       "0  1.0  1.0  2.0  2.0\n",
       "1  2.0  3.0  5.0  5.0\n",
       "2  NaN  4.0  6.0  6.0"
      ]
     },
     "execution_count": 26,
     "metadata": {},
     "output_type": "execute_result"
    }
   ],
   "source": [
    "df.fillna(method='ffill', axis=1)\n"
   ]
  },
  {
   "cell_type": "markdown",
   "metadata": {},
   "source": [
    "### Resumo e Exemplos sobre MultiIndex no Pandas\n",
    "\n",
    "**Conceitos Principais:**\n",
    "\n",
    "1. **Criação de MultiIndex:**\n",
    "   - **Listas de Tuplas:** Você pode criar um `MultiIndex` a partir de uma lista de tuplas, onde cada tupla representa um ponto de dados para cada nível do índice.\n",
    "   - **Listas de Arrays:** Também é possível construir um `MultiIndex` utilizando listas de arrays, onde cada array contém os valores para cada nível de índice.\n",
    "   - **Produto Cartesiano:** O `MultiIndex` pode ser gerado usando o produto cartesiano dos índices individuais, o que cria uma combinação de todos os valores possíveis entre os níveis.\n",
    "   - **Nomes de Nível:** Atribuir nomes aos níveis do `MultiIndex` ajuda na clareza e na organização dos dados.\n",
    "\n",
    "**Exemplo Prático:**\n",
    "\n",
    "1. **Series Multiplicada:**\n",
    "   - Um exemplo de uma `Series` com dois níveis de índices, como `estado` e `ano`, demonstra como acessar e manipular dados hierarquicamente.\n",
    "\n",
    "2. **DataFrame Multiplicado:**\n",
    "   - Um `DataFrame` com índices e colunas hierárquicas (por exemplo, dados médicos por `ano` e `visita`) ilustra a aplicação prática do `MultiIndex`.\n",
    "\n",
    "**Operações Comuns:**\n",
    "\n",
    "1. **Indexação e Fatiamento:** Você pode indexar e fatiar dados em um `MultiIndex` de maneira intuitiva, utilizando múltiplos níveis de índices.\n",
    "2. **Conversão:** Converta entre `Series` e `DataFrames` usando métodos como `unstack()` e `stack()`.\n",
    "3. **Seleção Parcial:** Selecione dados com base em um nível específico do índice usando sintaxe simplificada.\n",
    "\n",
    "**Métodos de Criação:**\n",
    "\n",
    "1. **Construtores Diretos:** Utilize métodos como `pd.MultiIndex.from_tuples()` ou `pd.MultiIndex.from_arrays()` para criar um `MultiIndex`.\n",
    "2. **Construção Explícita:** Crie o `MultiIndex` diretamente com níveis e rótulos definidos.\n",
    "\n",
    "\n"
   ]
  },
  {
   "cell_type": "markdown",
   "metadata": {},
   "source": [
    "### Lista de Tuplas"
   ]
  },
  {
   "cell_type": "code",
   "execution_count": 27,
   "metadata": {},
   "outputs": [
    {
     "name": "stdout",
     "output_type": "stream",
     "text": [
      "MultiIndex([('Brasil', 2023),\n",
      "            ('Brasil', 2024),\n",
      "            (   'EUA', 2023),\n",
      "            (   'EUA', 2024)],\n",
      "           names=['País', 'Ano'])\n"
     ]
    }
   ],
   "source": [
    "import pandas as pd\n",
    "\n",
    "# Criação de MultiIndex com listas de tuplas\n",
    "tuples = [('Brasil', 2023), ('Brasil', 2024), ('EUA', 2023), ('EUA', 2024)]\n",
    "multi_index = pd.MultiIndex.from_tuples(tuples, names=['País', 'Ano'])\n",
    "print(multi_index)\n"
   ]
  },
  {
   "cell_type": "markdown",
   "metadata": {},
   "source": [
    "### Listas de Arrays"
   ]
  },
  {
   "cell_type": "code",
   "execution_count": 28,
   "metadata": {},
   "outputs": [
    {
     "name": "stdout",
     "output_type": "stream",
     "text": [
      "MultiIndex([('Brasil', 2023),\n",
      "            ('Brasil', 2024),\n",
      "            (   'EUA', 2023),\n",
      "            (   'EUA', 2024)],\n",
      "           names=['País', 'Ano'])\n"
     ]
    }
   ],
   "source": [
    "import pandas as pd\n",
    "\n",
    "# Criação de MultiIndex com listas de arrays\n",
    "arrays = [['Brasil', 'Brasil', 'EUA', 'EUA'], [2023, 2024, 2023, 2024]]\n",
    "multi_index = pd.MultiIndex.from_arrays(arrays, names=['País', 'Ano'])\n",
    "print(multi_index)\n"
   ]
  },
  {
   "cell_type": "markdown",
   "metadata": {},
   "source": [
    "### Produto Cartesiano"
   ]
  },
  {
   "cell_type": "code",
   "execution_count": 29,
   "metadata": {},
   "outputs": [
    {
     "name": "stdout",
     "output_type": "stream",
     "text": [
      "MultiIndex([('Brasil', 2023),\n",
      "            ('Brasil', 2024),\n",
      "            (   'EUA', 2023),\n",
      "            (   'EUA', 2024)],\n",
      "           names=['País', 'Ano'])\n"
     ]
    }
   ],
   "source": [
    "import pandas as pd\n",
    "import itertools\n",
    "\n",
    "# Criação de MultiIndex usando o produto cartesiano\n",
    "levels = [['Brasil', 'EUA'], [2023, 2024]]\n",
    "multi_index = pd.MultiIndex.from_product(levels, names=['País', 'Ano'])\n",
    "print(multi_index)\n"
   ]
  },
  {
   "cell_type": "markdown",
   "metadata": {},
   "source": [
    "### Nomes de Nível "
   ]
  },
  {
   "cell_type": "code",
   "execution_count": 30,
   "metadata": {},
   "outputs": [
    {
     "name": "stdout",
     "output_type": "stream",
     "text": [
      "MultiIndex([('Brasil', 2023),\n",
      "            (   'EUA', 2024)],\n",
      "           names=['País', 'Ano'])\n"
     ]
    }
   ],
   "source": [
    "import pandas as pd\n",
    "\n",
    "# Criação de MultiIndex com nomes de nível\n",
    "tuples = [('Brasil', 2023), ('EUA', 2024)]\n",
    "multi_index = pd.MultiIndex.from_tuples(tuples, names=['País', 'Ano'])\n",
    "print(multi_index)\n"
   ]
  },
  {
   "cell_type": "markdown",
   "metadata": {},
   "source": [
    "### Series Multiplicada"
   ]
  },
  {
   "cell_type": "code",
   "execution_count": 31,
   "metadata": {},
   "outputs": [
    {
     "name": "stdout",
     "output_type": "stream",
     "text": [
      "Estado  Ano \n",
      "SP      2023    100\n",
      "        2024    150\n",
      "RJ      2023    200\n",
      "        2024    250\n",
      "dtype: int64\n",
      "Ano\n",
      "2023    100\n",
      "2024    150\n",
      "dtype: int64\n"
     ]
    }
   ],
   "source": [
    "import pandas as pd\n",
    "\n",
    "# Criação de uma Series com MultiIndex\n",
    "index = pd.MultiIndex.from_tuples([('SP', 2023), ('SP', 2024), ('RJ', 2023), ('RJ', 2024)], names=['Estado', 'Ano'])\n",
    "data = pd.Series([100, 150, 200, 250], index=index)\n",
    "print(data)\n",
    "print(data.loc['SP'])\n"
   ]
  },
  {
   "cell_type": "markdown",
   "metadata": {},
   "source": [
    "### DataFrame Mulplicado"
   ]
  },
  {
   "cell_type": "code",
   "execution_count": 32,
   "metadata": {},
   "outputs": [
    {
     "name": "stdout",
     "output_type": "stream",
     "text": [
      "                      Exame       Resultado\n",
      "                  Sanguíneo Urina     Valor\n",
      "Paciente  Visita                           \n",
      "Paciente1 Visita1        10     5         1\n",
      "          Visita2        12     4         2\n",
      "Paciente2 Visita1        15     6         3\n"
     ]
    }
   ],
   "source": [
    "import pandas as pd\n",
    "\n",
    "# Criação de um DataFrame com MultiIndex\n",
    "index = pd.MultiIndex.from_tuples([('Paciente1', 'Visita1'), ('Paciente1', 'Visita2'), ('Paciente2', 'Visita1')], names=['Paciente', 'Visita'])\n",
    "columns = pd.MultiIndex.from_tuples([('Exame', 'Sanguíneo'), ('Exame', 'Urina'), ('Resultado', 'Valor')])\n",
    "data = pd.DataFrame([[10, 5, 1], [12, 4, 2], [15, 6, 3]], index=index, columns=columns)\n",
    "print(data)\n"
   ]
  },
  {
   "cell_type": "markdown",
   "metadata": {},
   "source": [
    "### Indexação e Fatiamento"
   ]
  },
  {
   "cell_type": "code",
   "execution_count": 33,
   "metadata": {},
   "outputs": [
    {
     "name": "stdout",
     "output_type": "stream",
     "text": [
      "      Valor\n",
      "Ano        \n",
      "2023     10\n",
      "2024     20\n"
     ]
    }
   ],
   "source": [
    "import pandas as pd\n",
    "\n",
    "# Criação de MultiIndex e DataFrame\n",
    "index = pd.MultiIndex.from_tuples([('SP', 2023), ('SP', 2024), ('RJ', 2023), ('RJ', 2024)], names=['Estado', 'Ano'])\n",
    "data = pd.DataFrame([10, 20, 30, 40], index=index, columns=['Valor'])\n",
    "print(data.loc['SP'])\n"
   ]
  },
  {
   "cell_type": "markdown",
   "metadata": {},
   "source": [
    "### Conversão"
   ]
  },
  {
   "cell_type": "code",
   "execution_count": 34,
   "metadata": {},
   "outputs": [
    {
     "name": "stdout",
     "output_type": "stream",
     "text": [
      "   x  y\n",
      "A  1  2\n",
      "B  3  4\n",
      "A  x    1\n",
      "   y    2\n",
      "B  x    3\n",
      "   y    4\n",
      "dtype: int64\n"
     ]
    }
   ],
   "source": [
    "import pandas as pd\n",
    "\n",
    "# Criação de uma Series com MultiIndex\n",
    "index = pd.MultiIndex.from_tuples([('A', 'x'), ('A', 'y'), ('B', 'x'), ('B', 'y')])\n",
    "data = pd.Series([1, 2, 3, 4], index=index)\n",
    "\n",
    "# Conversão para DataFrame\n",
    "df = data.unstack()\n",
    "print(df)\n",
    "\n",
    "# Conversão de volta para Series\n",
    "series = df.stack()\n",
    "print(series)\n"
   ]
  },
  {
   "cell_type": "markdown",
   "metadata": {},
   "source": [
    "### Seleção Parcial"
   ]
  },
  {
   "cell_type": "code",
   "execution_count": 35,
   "metadata": {},
   "outputs": [
    {
     "name": "stdout",
     "output_type": "stream",
     "text": [
      "Ano\n",
      "2023    10\n",
      "2024    20\n",
      "dtype: int64\n"
     ]
    }
   ],
   "source": [
    "import pandas as pd\n",
    "\n",
    "# Criação de uma Series com MultiIndex\n",
    "index = pd.MultiIndex.from_tuples([('SP', 2023), ('SP', 2024), ('RJ', 2023), ('RJ', 2024)], names=['Estado', 'Ano'])\n",
    "data = pd.Series([10, 20, 30, 40], index=index)\n",
    "\n",
    "# Seleção parcial\n",
    "print(data.xs('SP', level='Estado'))\n"
   ]
  },
  {
   "cell_type": "markdown",
   "metadata": {},
   "source": [
    "### Construtores Diretos"
   ]
  },
  {
   "cell_type": "code",
   "execution_count": 36,
   "metadata": {},
   "outputs": [
    {
     "name": "stdout",
     "output_type": "stream",
     "text": [
      "MultiIndex([('A', 1),\n",
      "            ('B', 2)],\n",
      "           names=['Letra', 'Número'])\n",
      "MultiIndex([('A', 1),\n",
      "            ('B', 2)],\n",
      "           names=['Letra', 'Número'])\n"
     ]
    }
   ],
   "source": [
    "import pandas as pd\n",
    "\n",
    "# Criar MultiIndex diretamente a partir de tuplas\n",
    "multi_index = pd.MultiIndex.from_tuples([('A', 1), ('B', 2)], names=['Letra', 'Número'])\n",
    "print(multi_index)\n",
    "\n",
    "# Criar MultiIndex diretamente a partir de arrays\n",
    "arrays = [['A', 'B'], [1, 2]]\n",
    "multi_index = pd.MultiIndex.from_arrays(arrays, names=['Letra', 'Número'])\n",
    "print(multi_index)\n"
   ]
  },
  {
   "cell_type": "markdown",
   "metadata": {},
   "source": [
    "### Construção Explícita "
   ]
  },
  {
   "cell_type": "code",
   "execution_count": 37,
   "metadata": {},
   "outputs": [
    {
     "name": "stdout",
     "output_type": "stream",
     "text": [
      "MultiIndex([('A', 1),\n",
      "            ('A', 2),\n",
      "            ('B', 1),\n",
      "            ('B', 2)],\n",
      "           names=['Letra', 'Número'])\n"
     ]
    }
   ],
   "source": [
    "import pandas as pd\n",
    "\n",
    "# Construção explícita de um MultiIndex\n",
    "multi_index = pd.MultiIndex(levels=[['A', 'B'], [1, 2]], codes=[[0, 0, 1, 1], [0, 1, 0, 1]], names=['Letra', 'Número'])\n",
    "print(multi_index)\n"
   ]
  }
 ],
 "metadata": {
  "kernelspec": {
   "display_name": "Python 3",
   "language": "python",
   "name": "python3"
  },
  "language_info": {
   "codemirror_mode": {
    "name": "ipython",
    "version": 3
   },
   "file_extension": ".py",
   "mimetype": "text/x-python",
   "name": "python",
   "nbconvert_exporter": "python",
   "pygments_lexer": "ipython3",
   "version": "3.11.9"
  }
 },
 "nbformat": 4,
 "nbformat_minor": 2
}
