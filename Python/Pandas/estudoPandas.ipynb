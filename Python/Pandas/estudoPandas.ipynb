{
 "cells": [
  {
   "cell_type": "markdown",
   "metadata": {},
   "source": [
    "Você pode imaginar uma Series do Pandas como uma versão especializada de um dicionário do Python. Enquanto um dicionário mapeia chaves arbitrárias para valores arbitrários, uma Series mapeia chaves e valores com tipos específicos. Essa tipagem é crucial: assim como os arrays do NumPy são mais eficientes que listas do Python devido à tipagem, a Series do Pandas é muito mais eficiente que dicionários do Python para certas operações devido às suas informações de tipo."
   ]
  },
  {
   "cell_type": "markdown",
   "metadata": {},
   "source": [
    "###   pd . Série ( dados ,  índice = índice )"
   ]
  },
  {
   "cell_type": "markdown",
   "metadata": {},
   "source": [
    "### O objeto Pandas DataFrame \n",
    "DataFrame pode ser pensado como uma generalização de um array NumPy ou como uma especialização de um dicionário Python.\n",
    "\n",
    "![Operador Pandas](https://raw.githubusercontent.com/naticost/DataAnalytics/main/Python/img/operatormet.png)"
   ]
  },
  {
   "cell_type": "markdown",
   "metadata": {},
   "source": [
    "### Alinhamento de Índice no DataFrame\n",
    "\n",
    "Um tipo semelhante de alinhamento ocorre para colunas e índices ao realizar operações em DataFrames:"
   ]
  },
  {
   "cell_type": "code",
   "execution_count": 5,
   "metadata": {},
   "outputs": [
    {
     "name": "stdout",
     "output_type": "stream",
     "text": [
      "DataFrame A:\n",
      "    A  B\n",
      "0   8  6\n",
      "1  11  0\n",
      "\n",
      "DataFrame B:\n",
      "   B  A  C\n",
      "0  2  4  3\n",
      "1  8  2  3\n",
      "2  6  3  8\n"
     ]
    }
   ],
   "source": [
    "import numpy as np\n",
    "import pandas as pd\n",
    "\n",
    "# Gerando dados aleatórios para os DataFrames\n",
    "rng = np.random.default_rng()\n",
    "A = pd.DataFrame(rng.integers(0, 20, (2, 2)), columns=list('AB'))\n",
    "B = pd.DataFrame(rng.integers(0, 10, (3, 3)), columns=list('BAC'))\n",
    "\n",
    "print(\"DataFrame A:\")\n",
    "print(A)\n",
    "\n",
    "print(\"\\nDataFrame B:\")\n",
    "print(B)\n"
   ]
  },
  {
   "cell_type": "code",
   "execution_count": 6,
   "metadata": {},
   "outputs": [
    {
     "name": "stdout",
     "output_type": "stream",
     "text": [
      "\n",
      "Resultado de A + B:\n",
      "      A    B   C\n",
      "0  12.0  8.0 NaN\n",
      "1  13.0  8.0 NaN\n",
      "2   NaN  NaN NaN\n"
     ]
    }
   ],
   "source": [
    "result = A + B\n",
    "print(\"\\nResultado de A + B:\")\n",
    "print(result)\n"
   ]
  },
  {
   "cell_type": "markdown",
   "metadata": {},
   "source": [
    "### Alinhamento de Índices\n",
    "Os índices e colunas são alinhados automaticamente. Se um índice ou coluna não existe em ambos os DataFrames, o resultado será NaN."
   ]
  },
  {
   "cell_type": "markdown",
   "metadata": {},
   "source": [
    "### Preenchendo Valores Faltantes\n",
    "Se não quisermos NaN para valores faltantes, podemos usar o método add e especificar um valor de preenchimento (fill_value):"
   ]
  },
  {
   "cell_type": "code",
   "execution_count": 7,
   "metadata": {},
   "outputs": [
    {
     "name": "stdout",
     "output_type": "stream",
     "text": [
      "\n",
      "Resultado de A.add(B, fill_value=fill_value):\n",
      "       A      B      C\n",
      "0  12.00   8.00   9.25\n",
      "1  13.00   8.00   9.25\n",
      "2   9.25  12.25  14.25\n"
     ]
    }
   ],
   "source": [
    "fill_value = A.stack().mean()  # Calculando a média dos valores em A\n",
    "result_fill = A.add(B, fill_value=fill_value)\n",
    "print(\"\\nResultado de A.add(B, fill_value=fill_value):\")\n",
    "print(result_fill)\n"
   ]
  },
  {
   "cell_type": "markdown",
   "metadata": {},
   "source": [
    "### O Pandas facilita operações entre DataFrames, alinhando automaticamente os índices e colunas. Podemos evitar NaNs resultantes de alinhamentos usando o método add com fill_value."
   ]
  },
  {
   "cell_type": "markdown",
   "metadata": {},
   "source": [
    "### None: Dados Ausentes no Pandas\n",
    "O Pandas usa None, um objeto do Python, para representar dados ausentes. No entanto, None só pode ser usado em arrays de objetos (dtype=object). Vamos ver como isso funciona na prática e entender suas implicações.\n",
    "\n",
    "Exemplo com None\n",
    "Vamos criar um array do NumPy contendo None e observar o comportamento:"
   ]
  },
  {
   "cell_type": "code",
   "execution_count": 8,
   "metadata": {},
   "outputs": [
    {
     "name": "stdout",
     "output_type": "stream",
     "text": [
      "[1 None 3 4]\n"
     ]
    }
   ],
   "source": [
    "import numpy as np\n",
    "\n",
    "# Criando um array do NumPy com valores ausentes (None)\n",
    "vals1 = np.array([1, None, 3, 4])\n",
    "print(vals1)\n"
   ]
  },
  {
   "cell_type": "markdown",
   "metadata": {},
   "source": [
    "O dtype=object significa que o NumPy identificou que os elementos do array são objetos Python (como None), e não números comuns como inteiros ou floats.\n",
    "\n",
    "O que significa dtype=object?\n",
    "Representação de Objetos Python:\n",
    "\n",
    "dtype=object indica que o array pode conter qualquer tipo de objeto Python, como números, strings, ou até mesmo None.\n",
    "Isso é útil quando você precisa misturar diferentes tipos de dados em um array.\n",
    "Desempenho mais lento:\n",
    "\n",
    "Arrays de objetos (dtype=object) são mais lentos do que arrays de tipos nativos do NumPy (como int ou float), porque as operações são realizadas no nível do Python, o que envolve mais processamento.\n",
    "Veja a comparação de desempenho abaixo:"
   ]
  },
  {
   "cell_type": "code",
   "execution_count": 9,
   "metadata": {},
   "outputs": [
    {
     "name": "stdout",
     "output_type": "stream",
     "text": [
      "dtype=object\n",
      "63.6 ms ± 3.45 ms per loop (mean ± std. dev. of 7 runs, 10 loops each)\n",
      "\n",
      "dtype=int\n",
      "2.7 ms ± 370 μs per loop (mean ± std. dev. of 7 runs, 100 loops each)\n",
      "\n"
     ]
    }
   ],
   "source": [
    "# Comparação de desempenho entre arrays de objetos e arrays de inteiros\n",
    "for dtype in ['object', 'int']:\n",
    "    print(f\"dtype={dtype}\")\n",
    "    %timeit np.arange(1E6, dtype=dtype).sum()\n",
    "    print()\n"
   ]
  },
  {
   "cell_type": "markdown",
   "metadata": {},
   "source": [
    "# Resumo das Diferenças\n",
    "### Dados Ausentes:\n",
    "Refere-se à falta de dados onde eles deveriam estar, representados geralmente por NaN em contextos numéricos e por None em contextos gerais.\n",
    "\n",
    "### Dados Nulos: \n",
    "É um conceito mais amplo que pode incluir a ausência de valor ou dados desconhecidos. Em bancos de dados, é representado como NULL. Em Python/Pandas, None é frequentemente usado para representar dados nulos e é convertido para NaN em operações numéricas."
   ]
  },
  {
   "cell_type": "markdown",
   "metadata": {},
   "source": [
    "### NaN: Representação de Dados Ausentes Numéricos\n",
    "O NaN (Not a Number) é uma forma comum de representar dados ausentes em contextos numéricos. É um valor especial de ponto flutuante reconhecido por sistemas que utilizam a representação de ponto flutuante padrão IEEE.\n",
    "\n",
    "Exemplo com NaN\n",
    "Vamos criar um array do NumPy com NaN e ver como ele é tratado:"
   ]
  },
  {
   "cell_type": "code",
   "execution_count": 10,
   "metadata": {},
   "outputs": [
    {
     "name": "stdout",
     "output_type": "stream",
     "text": [
      "[ 1. nan  3.  4.]\n",
      "Tipo de dados: float64\n"
     ]
    }
   ],
   "source": [
    "import numpy as np\n",
    "\n",
    "# Criando um array do NumPy com NaN\n",
    "vals2 = np.array([1, np.nan, 3, 4])\n",
    "print(vals2)\n",
    "print(\"Tipo de dados:\", vals2.dtype)\n"
   ]
  },
  {
   "cell_type": "markdown",
   "metadata": {},
   "source": [
    "### Comportamento do NaN\n",
    "Operações com NaN: Quando você realiza operações com NaN, o resultado geralmente será NaN. Isso pode ser problemático, pois NaN se comporta como um \"vírus de dados\" que se propaga:"
   ]
  },
  {
   "cell_type": "code",
   "execution_count": 11,
   "metadata": {},
   "outputs": [
    {
     "name": "stdout",
     "output_type": "stream",
     "text": [
      "nan\n",
      "nan\n"
     ]
    }
   ],
   "source": [
    "print(1 + np.nan)  # Resulta em NaN\n",
    "print(0 * np.nan)  # Resulta em NaN\n"
   ]
  },
  {
   "cell_type": "markdown",
   "metadata": {},
   "source": [
    "Agregações com NaN: As funções padrão de agregação, como soma, mínimo e máximo, também retornam NaN se o array contiver NaN:"
   ]
  },
  {
   "cell_type": "code",
   "execution_count": 12,
   "metadata": {},
   "outputs": [
    {
     "name": "stdout",
     "output_type": "stream",
     "text": [
      "nan\n",
      "nan\n",
      "nan\n"
     ]
    }
   ],
   "source": [
    "print(vals2.sum())  # Resulta em NaN\n",
    "print(vals2.min())  # Resulta em NaN\n",
    "print(vals2.max())  # Resulta em NaN\n"
   ]
  },
  {
   "cell_type": "markdown",
   "metadata": {},
   "source": [
    "Funções específicas para NaN: O NumPy oferece funções que ignoram NaN ao realizar agregações:"
   ]
  },
  {
   "cell_type": "code",
   "execution_count": null,
   "metadata": {},
   "outputs": [],
   "source": [
    "print(np.nansum(vals2))  # Soma ignorando NaN: 8.0\n",
    "print(np.nanmin(vals2))  # Mínimo ignorando NaN: 1.0\n",
    "print(np.nanmax(vals2))  # Máximo ignorando NaN: 4.0\n"
   ]
  },
  {
   "cell_type": "markdown",
   "metadata": {},
   "source": [
    "### O Pandas é projetado para lidar com NaN e None, tratando-os de maneira semelhante:"
   ]
  },
  {
   "cell_type": "code",
   "execution_count": 13,
   "metadata": {},
   "outputs": [
    {
     "name": "stdout",
     "output_type": "stream",
     "text": [
      "0    1.0\n",
      "1    NaN\n",
      "2    2.0\n",
      "3    NaN\n",
      "dtype: float64\n"
     ]
    }
   ],
   "source": [
    "import pandas as pd\n",
    "\n",
    "# Criando uma Série do Pandas com NaN e None\n",
    "s = pd.Series([1, np.nan, 2, None])\n",
    "print(s)\n"
   ]
  },
  {
   "cell_type": "markdown",
   "metadata": {},
   "source": [
    " Conversão de Tipo: Quando um valor NaN é inserido em uma Série de inteiros, o Pandas converte automaticamente o tipo para float64:\n",
    "\n",
    "\n",
    " Isso ocorre porque o None é convertido para NaN, que é um tipo de ponto flutuante."
   ]
  },
  {
   "cell_type": "code",
   "execution_count": 14,
   "metadata": {},
   "outputs": [
    {
     "name": "stdout",
     "output_type": "stream",
     "text": [
      "0    0\n",
      "1    1\n",
      "dtype: int32\n",
      "0    NaN\n",
      "1    1.0\n",
      "dtype: float64\n"
     ]
    }
   ],
   "source": [
    "x = pd.Series(range(2), dtype=int)\n",
    "print(x)\n",
    "\n",
    "x[0] = None\n",
    "print(x)\n"
   ]
  },
  {
   "cell_type": "markdown",
   "metadata": {},
   "source": [
    "![Valores em NA](https://raw.githubusercontent.com/naticost/DataAnalytics/main/Python/img/valoresNAN.png)"
   ]
  },
  {
   "cell_type": "markdown",
   "metadata": {},
   "source": [
    "\n",
    "### Trabalhando com Valores Nulos\n",
    "\n",
    "No Pandas, `None` e `NaN` são tratados de forma intercambiável para representar valores ausentes. Para gerenciar esses valores nulos, o Pandas oferece vários métodos úteis:\n",
    "\n",
    "- **`isnull()`**: Cria uma máscara booleana que indica onde os valores estão ausentes.\n",
    "- **`notnull()`**: Faz o oposto de `isnull()`, mostrando onde os valores não estão ausentes.\n",
    "- **`dropna()`**: Retorna uma versão dos dados onde os valores ausentes foram removidos.\n",
    "- **`fillna()`**: Retorna uma cópia dos dados onde os valores ausentes foram preenchidos com um valor especificado.\n",
    "\n",
    "Esses métodos ajudam a identificar, limpar e substituir valores nulos em seus DataFrames e Series."
   ]
  },
  {
   "cell_type": "code",
   "execution_count": 15,
   "metadata": {},
   "outputs": [
    {
     "name": "stdout",
     "output_type": "stream",
     "text": [
      "0    False\n",
      "1     True\n",
      "2    False\n",
      "3     True\n",
      "dtype: bool\n",
      "0     True\n",
      "1    False\n",
      "2     True\n",
      "3    False\n",
      "dtype: bool\n"
     ]
    }
   ],
   "source": [
    "import pandas as pd\n",
    "import numpy as np\n",
    "\n",
    "dados = pd.Series([1, np.nan, 'hello', None])\n",
    "print(dados.isnull())  # Indica onde os valores são nulos\n",
    "print(dados.notnull())  # Indica onde os valores não são nulos\n"
   ]
  },
  {
   "cell_type": "code",
   "execution_count": 21,
   "metadata": {},
   "outputs": [
    {
     "name": "stdout",
     "output_type": "stream",
     "text": [
      "Data Frame Exemplo\n",
      "     0    1  2\n",
      "0  1.0  NaN  2\n",
      "1  2.0  3.0  5\n",
      "2  NaN  4.0  6\n",
      "-----------------------------\n",
      "     0    1  2\n",
      "1  2.0  3.0  5\n",
      "-----------------------------\n",
      "   2\n",
      "0  2\n",
      "1  5\n",
      "2  6\n",
      "-----------------------------\n",
      "     0    1  2\n",
      "0  1.0  NaN  2\n",
      "1  2.0  3.0  5\n",
      "2  NaN  4.0  6\n",
      "-----------------------------\n",
      "     0    1  2   3\n",
      "1  2.0  3.0  5 NaN\n"
     ]
    }
   ],
   "source": [
    "df = pd.DataFrame([[1, np.nan, 2], [2, 3, 5], [np.nan, 4, 6]])\n",
    "print(\"Data Frame Exemplo\")\n",
    "print(df)\n",
    "print(\"-----------------------------\")\n",
    "\n",
    "# Remove linhas com qualquer valor nulo\n",
    "print(df.dropna())\n",
    "print(\"-----------------------------\")\n",
    "\n",
    "# Remove colunas com qualquer valor nulo\n",
    "print(df.dropna(axis='columns'))\n",
    "print(\"-----------------------------\")\n",
    "\n",
    "# Remove linhas onde todos os valores são nulos\n",
    "df[3] = np.nan\n",
    "print(df.dropna(axis='columns', how='all'))\n",
    "print(\"-----------------------------\")\n",
    "\n",
    "# Remove linhas com menos de 3 valores não nulos\n",
    "print(df.dropna(axis='rows', thresh=3))\n"
   ]
  },
  {
   "cell_type": "markdown",
   "metadata": {},
   "source": [
    "### Preenchendo Valores Nulos\n",
    "Em vez de remover valores nulos, você pode optar por substituí-los por valores válidos. Isso pode ser feito substituindo por um único número, como zero, ou utilizando métodos de imputação ou interpolação. O Pandas facilita esse processo com o método fillna(), que cria uma cópia dos dados com os valores nulos substituídos."
   ]
  },
  {
   "cell_type": "code",
   "execution_count": 22,
   "metadata": {},
   "outputs": [
    {
     "name": "stdout",
     "output_type": "stream",
     "text": [
      "a    1.0\n",
      "b    NaN\n",
      "c    2.0\n",
      "d    NaN\n",
      "e    3.0\n",
      "dtype: float64\n"
     ]
    }
   ],
   "source": [
    "import pandas as pd\n",
    "import numpy as np\n",
    "\n",
    "dados = pd.Series([1, np.nan, 2, None, 3], index=list('abcde'))\n",
    "print(dados)\n"
   ]
  },
  {
   "cell_type": "code",
   "execution_count": 23,
   "metadata": {},
   "outputs": [
    {
     "data": {
      "text/plain": [
       "a    1.0\n",
       "b    0.0\n",
       "c    2.0\n",
       "d    0.0\n",
       "e    3.0\n",
       "dtype: float64"
      ]
     },
     "execution_count": 23,
     "metadata": {},
     "output_type": "execute_result"
    }
   ],
   "source": [
    "dados.fillna(0)\n"
   ]
  },
  {
   "cell_type": "code",
   "execution_count": 24,
   "metadata": {},
   "outputs": [
    {
     "name": "stderr",
     "output_type": "stream",
     "text": [
      "C:\\Users\\Trocados\\AppData\\Local\\Temp\\ipykernel_11476\\2068584607.py:1: FutureWarning: Series.fillna with 'method' is deprecated and will raise in a future version. Use obj.ffill() or obj.bfill() instead.\n",
      "  dados.fillna(method='ffill')\n"
     ]
    },
    {
     "data": {
      "text/plain": [
       "a    1.0\n",
       "b    1.0\n",
       "c    2.0\n",
       "d    2.0\n",
       "e    3.0\n",
       "dtype: float64"
      ]
     },
     "execution_count": 24,
     "metadata": {},
     "output_type": "execute_result"
    }
   ],
   "source": [
    "dados.fillna(method='ffill')\n"
   ]
  },
  {
   "cell_type": "markdown",
   "metadata": {},
   "source": [
    "Para DataFrames, as opções são semelhantes e você também pode especificar o eixo ao longo do qual o preenchimento ocorre:"
   ]
  },
  {
   "cell_type": "code",
   "execution_count": 25,
   "metadata": {},
   "outputs": [
    {
     "name": "stdout",
     "output_type": "stream",
     "text": [
      "     0    1  2   3\n",
      "0  1.0  NaN  2 NaN\n",
      "1  2.0  3.0  5 NaN\n",
      "2  NaN  4.0  6 NaN\n"
     ]
    }
   ],
   "source": [
    "df = pd.DataFrame([[1, np.nan, 2, np.nan], [2, 3, 5, np.nan], [np.nan, 4, 6, np.nan]])\n",
    "print(df)\n"
   ]
  },
  {
   "cell_type": "code",
   "execution_count": 26,
   "metadata": {},
   "outputs": [
    {
     "name": "stderr",
     "output_type": "stream",
     "text": [
      "C:\\Users\\Trocados\\AppData\\Local\\Temp\\ipykernel_11476\\4240272785.py:1: FutureWarning: DataFrame.fillna with 'method' is deprecated and will raise in a future version. Use obj.ffill() or obj.bfill() instead.\n",
      "  df.fillna(method='ffill', axis=1)\n"
     ]
    },
    {
     "data": {
      "text/html": [
       "<div>\n",
       "<style scoped>\n",
       "    .dataframe tbody tr th:only-of-type {\n",
       "        vertical-align: middle;\n",
       "    }\n",
       "\n",
       "    .dataframe tbody tr th {\n",
       "        vertical-align: top;\n",
       "    }\n",
       "\n",
       "    .dataframe thead th {\n",
       "        text-align: right;\n",
       "    }\n",
       "</style>\n",
       "<table border=\"1\" class=\"dataframe\">\n",
       "  <thead>\n",
       "    <tr style=\"text-align: right;\">\n",
       "      <th></th>\n",
       "      <th>0</th>\n",
       "      <th>1</th>\n",
       "      <th>2</th>\n",
       "      <th>3</th>\n",
       "    </tr>\n",
       "  </thead>\n",
       "  <tbody>\n",
       "    <tr>\n",
       "      <th>0</th>\n",
       "      <td>1.0</td>\n",
       "      <td>1.0</td>\n",
       "      <td>2.0</td>\n",
       "      <td>2.0</td>\n",
       "    </tr>\n",
       "    <tr>\n",
       "      <th>1</th>\n",
       "      <td>2.0</td>\n",
       "      <td>3.0</td>\n",
       "      <td>5.0</td>\n",
       "      <td>5.0</td>\n",
       "    </tr>\n",
       "    <tr>\n",
       "      <th>2</th>\n",
       "      <td>NaN</td>\n",
       "      <td>4.0</td>\n",
       "      <td>6.0</td>\n",
       "      <td>6.0</td>\n",
       "    </tr>\n",
       "  </tbody>\n",
       "</table>\n",
       "</div>"
      ],
      "text/plain": [
       "     0    1    2    3\n",
       "0  1.0  1.0  2.0  2.0\n",
       "1  2.0  3.0  5.0  5.0\n",
       "2  NaN  4.0  6.0  6.0"
      ]
     },
     "execution_count": 26,
     "metadata": {},
     "output_type": "execute_result"
    }
   ],
   "source": [
    "df.fillna(method='ffill', axis=1)\n"
   ]
  },
  {
   "cell_type": "markdown",
   "metadata": {},
   "source": [
    "### Resumo e Exemplos sobre MultiIndex no Pandas\n",
    "\n",
    "**Conceitos Principais:**\n",
    "\n",
    "1. **Criação de MultiIndex:**\n",
    "   - **Listas de Tuplas:** Você pode criar um `MultiIndex` a partir de uma lista de tuplas, onde cada tupla representa um ponto de dados para cada nível do índice.\n",
    "   - **Listas de Arrays:** Também é possível construir um `MultiIndex` utilizando listas de arrays, onde cada array contém os valores para cada nível de índice.\n",
    "   - **Produto Cartesiano:** O `MultiIndex` pode ser gerado usando o produto cartesiano dos índices individuais, o que cria uma combinação de todos os valores possíveis entre os níveis.\n",
    "   - **Nomes de Nível:** Atribuir nomes aos níveis do `MultiIndex` ajuda na clareza e na organização dos dados.\n",
    "\n",
    "**Exemplo Prático:**\n",
    "\n",
    "1. **Series Multiplicada:**\n",
    "   - Um exemplo de uma `Series` com dois níveis de índices, como `estado` e `ano`, demonstra como acessar e manipular dados hierarquicamente.\n",
    "\n",
    "2. **DataFrame Multiplicado:**\n",
    "   - Um `DataFrame` com índices e colunas hierárquicas (por exemplo, dados médicos por `ano` e `visita`) ilustra a aplicação prática do `MultiIndex`.\n",
    "\n",
    "**Operações Comuns:**\n",
    "\n",
    "1. **Indexação e Fatiamento:** Você pode indexar e fatiar dados em um `MultiIndex` de maneira intuitiva, utilizando múltiplos níveis de índices.\n",
    "2. **Conversão:** Converta entre `Series` e `DataFrames` usando métodos como `unstack()` e `stack()`.\n",
    "3. **Seleção Parcial:** Selecione dados com base em um nível específico do índice usando sintaxe simplificada.\n",
    "\n",
    "**Métodos de Criação:**\n",
    "\n",
    "1. **Construtores Diretos:** Utilize métodos como `pd.MultiIndex.from_tuples()` ou `pd.MultiIndex.from_arrays()` para criar um `MultiIndex`.\n",
    "2. **Construção Explícita:** Crie o `MultiIndex` diretamente com níveis e rótulos definidos.\n",
    "\n",
    "\n"
   ]
  },
  {
   "cell_type": "markdown",
   "metadata": {},
   "source": [
    "### Lista de Tuplas"
   ]
  },
  {
   "cell_type": "code",
   "execution_count": 27,
   "metadata": {},
   "outputs": [
    {
     "name": "stdout",
     "output_type": "stream",
     "text": [
      "MultiIndex([('Brasil', 2023),\n",
      "            ('Brasil', 2024),\n",
      "            (   'EUA', 2023),\n",
      "            (   'EUA', 2024)],\n",
      "           names=['País', 'Ano'])\n"
     ]
    }
   ],
   "source": [
    "import pandas as pd\n",
    "\n",
    "# Criação de MultiIndex com listas de tuplas\n",
    "tuples = [('Brasil', 2023), ('Brasil', 2024), ('EUA', 2023), ('EUA', 2024)]\n",
    "multi_index = pd.MultiIndex.from_tuples(tuples, names=['País', 'Ano'])\n",
    "print(multi_index)\n"
   ]
  },
  {
   "cell_type": "markdown",
   "metadata": {},
   "source": [
    "### Listas de Arrays"
   ]
  },
  {
   "cell_type": "code",
   "execution_count": 28,
   "metadata": {},
   "outputs": [
    {
     "name": "stdout",
     "output_type": "stream",
     "text": [
      "MultiIndex([('Brasil', 2023),\n",
      "            ('Brasil', 2024),\n",
      "            (   'EUA', 2023),\n",
      "            (   'EUA', 2024)],\n",
      "           names=['País', 'Ano'])\n"
     ]
    }
   ],
   "source": [
    "import pandas as pd\n",
    "\n",
    "# Criação de MultiIndex com listas de arrays\n",
    "arrays = [['Brasil', 'Brasil', 'EUA', 'EUA'], [2023, 2024, 2023, 2024]]\n",
    "multi_index = pd.MultiIndex.from_arrays(arrays, names=['País', 'Ano'])\n",
    "print(multi_index)\n"
   ]
  },
  {
   "cell_type": "markdown",
   "metadata": {},
   "source": [
    "### Produto Cartesiano"
   ]
  },
  {
   "cell_type": "code",
   "execution_count": 29,
   "metadata": {},
   "outputs": [
    {
     "name": "stdout",
     "output_type": "stream",
     "text": [
      "MultiIndex([('Brasil', 2023),\n",
      "            ('Brasil', 2024),\n",
      "            (   'EUA', 2023),\n",
      "            (   'EUA', 2024)],\n",
      "           names=['País', 'Ano'])\n"
     ]
    }
   ],
   "source": [
    "import pandas as pd\n",
    "import itertools\n",
    "\n",
    "# Criação de MultiIndex usando o produto cartesiano\n",
    "levels = [['Brasil', 'EUA'], [2023, 2024]]\n",
    "multi_index = pd.MultiIndex.from_product(levels, names=['País', 'Ano'])\n",
    "print(multi_index)\n"
   ]
  },
  {
   "cell_type": "markdown",
   "metadata": {},
   "source": [
    "### Nomes de Nível "
   ]
  },
  {
   "cell_type": "code",
   "execution_count": 30,
   "metadata": {},
   "outputs": [
    {
     "name": "stdout",
     "output_type": "stream",
     "text": [
      "MultiIndex([('Brasil', 2023),\n",
      "            (   'EUA', 2024)],\n",
      "           names=['País', 'Ano'])\n"
     ]
    }
   ],
   "source": [
    "import pandas as pd\n",
    "\n",
    "# Criação de MultiIndex com nomes de nível\n",
    "tuples = [('Brasil', 2023), ('EUA', 2024)]\n",
    "multi_index = pd.MultiIndex.from_tuples(tuples, names=['País', 'Ano'])\n",
    "print(multi_index)\n"
   ]
  },
  {
   "cell_type": "markdown",
   "metadata": {},
   "source": [
    "### Series Multiplicada"
   ]
  },
  {
   "cell_type": "code",
   "execution_count": 31,
   "metadata": {},
   "outputs": [
    {
     "name": "stdout",
     "output_type": "stream",
     "text": [
      "Estado  Ano \n",
      "SP      2023    100\n",
      "        2024    150\n",
      "RJ      2023    200\n",
      "        2024    250\n",
      "dtype: int64\n",
      "Ano\n",
      "2023    100\n",
      "2024    150\n",
      "dtype: int64\n"
     ]
    }
   ],
   "source": [
    "import pandas as pd\n",
    "\n",
    "# Criação de uma Series com MultiIndex\n",
    "index = pd.MultiIndex.from_tuples([('SP', 2023), ('SP', 2024), ('RJ', 2023), ('RJ', 2024)], names=['Estado', 'Ano'])\n",
    "data = pd.Series([100, 150, 200, 250], index=index)\n",
    "print(data)\n",
    "print(data.loc['SP'])\n"
   ]
  },
  {
   "cell_type": "markdown",
   "metadata": {},
   "source": [
    "### DataFrame Mulplicado"
   ]
  },
  {
   "cell_type": "code",
   "execution_count": 32,
   "metadata": {},
   "outputs": [
    {
     "name": "stdout",
     "output_type": "stream",
     "text": [
      "                      Exame       Resultado\n",
      "                  Sanguíneo Urina     Valor\n",
      "Paciente  Visita                           \n",
      "Paciente1 Visita1        10     5         1\n",
      "          Visita2        12     4         2\n",
      "Paciente2 Visita1        15     6         3\n"
     ]
    }
   ],
   "source": [
    "import pandas as pd\n",
    "\n",
    "# Criação de um DataFrame com MultiIndex\n",
    "index = pd.MultiIndex.from_tuples([('Paciente1', 'Visita1'), ('Paciente1', 'Visita2'), ('Paciente2', 'Visita1')], names=['Paciente', 'Visita'])\n",
    "columns = pd.MultiIndex.from_tuples([('Exame', 'Sanguíneo'), ('Exame', 'Urina'), ('Resultado', 'Valor')])\n",
    "data = pd.DataFrame([[10, 5, 1], [12, 4, 2], [15, 6, 3]], index=index, columns=columns)\n",
    "print(data)\n"
   ]
  },
  {
   "cell_type": "markdown",
   "metadata": {},
   "source": [
    "### Indexação e Fatiamento"
   ]
  },
  {
   "cell_type": "code",
   "execution_count": 33,
   "metadata": {},
   "outputs": [
    {
     "name": "stdout",
     "output_type": "stream",
     "text": [
      "      Valor\n",
      "Ano        \n",
      "2023     10\n",
      "2024     20\n"
     ]
    }
   ],
   "source": [
    "import pandas as pd\n",
    "\n",
    "# Criação de MultiIndex e DataFrame\n",
    "index = pd.MultiIndex.from_tuples([('SP', 2023), ('SP', 2024), ('RJ', 2023), ('RJ', 2024)], names=['Estado', 'Ano'])\n",
    "data = pd.DataFrame([10, 20, 30, 40], index=index, columns=['Valor'])\n",
    "print(data.loc['SP'])\n"
   ]
  },
  {
   "cell_type": "markdown",
   "metadata": {},
   "source": [
    "### Conversão"
   ]
  },
  {
   "cell_type": "code",
   "execution_count": 34,
   "metadata": {},
   "outputs": [
    {
     "name": "stdout",
     "output_type": "stream",
     "text": [
      "   x  y\n",
      "A  1  2\n",
      "B  3  4\n",
      "A  x    1\n",
      "   y    2\n",
      "B  x    3\n",
      "   y    4\n",
      "dtype: int64\n"
     ]
    }
   ],
   "source": [
    "import pandas as pd\n",
    "\n",
    "# Criação de uma Series com MultiIndex\n",
    "index = pd.MultiIndex.from_tuples([('A', 'x'), ('A', 'y'), ('B', 'x'), ('B', 'y')])\n",
    "data = pd.Series([1, 2, 3, 4], index=index)\n",
    "\n",
    "# Conversão para DataFrame\n",
    "df = data.unstack()\n",
    "print(df)\n",
    "\n",
    "# Conversão de volta para Series\n",
    "series = df.stack()\n",
    "print(series)\n"
   ]
  },
  {
   "cell_type": "markdown",
   "metadata": {},
   "source": [
    "### Seleção Parcial"
   ]
  },
  {
   "cell_type": "code",
   "execution_count": 35,
   "metadata": {},
   "outputs": [
    {
     "name": "stdout",
     "output_type": "stream",
     "text": [
      "Ano\n",
      "2023    10\n",
      "2024    20\n",
      "dtype: int64\n"
     ]
    }
   ],
   "source": [
    "import pandas as pd\n",
    "\n",
    "# Criação de uma Series com MultiIndex\n",
    "index = pd.MultiIndex.from_tuples([('SP', 2023), ('SP', 2024), ('RJ', 2023), ('RJ', 2024)], names=['Estado', 'Ano'])\n",
    "data = pd.Series([10, 20, 30, 40], index=index)\n",
    "\n",
    "# Seleção parcial\n",
    "print(data.xs('SP', level='Estado'))\n"
   ]
  },
  {
   "cell_type": "markdown",
   "metadata": {},
   "source": [
    "### Construtores Diretos"
   ]
  },
  {
   "cell_type": "code",
   "execution_count": 36,
   "metadata": {},
   "outputs": [
    {
     "name": "stdout",
     "output_type": "stream",
     "text": [
      "MultiIndex([('A', 1),\n",
      "            ('B', 2)],\n",
      "           names=['Letra', 'Número'])\n",
      "MultiIndex([('A', 1),\n",
      "            ('B', 2)],\n",
      "           names=['Letra', 'Número'])\n"
     ]
    }
   ],
   "source": [
    "import pandas as pd\n",
    "\n",
    "# Criar MultiIndex diretamente a partir de tuplas\n",
    "multi_index = pd.MultiIndex.from_tuples([('A', 1), ('B', 2)], names=['Letra', 'Número'])\n",
    "print(multi_index)\n",
    "\n",
    "# Criar MultiIndex diretamente a partir de arrays\n",
    "arrays = [['A', 'B'], [1, 2]]\n",
    "multi_index = pd.MultiIndex.from_arrays(arrays, names=['Letra', 'Número'])\n",
    "print(multi_index)\n"
   ]
  },
  {
   "cell_type": "markdown",
   "metadata": {},
   "source": [
    "### Construção Explícita "
   ]
  },
  {
   "cell_type": "code",
   "execution_count": 37,
   "metadata": {},
   "outputs": [
    {
     "name": "stdout",
     "output_type": "stream",
     "text": [
      "MultiIndex([('A', 1),\n",
      "            ('A', 2),\n",
      "            ('B', 1),\n",
      "            ('B', 2)],\n",
      "           names=['Letra', 'Número'])\n"
     ]
    }
   ],
   "source": [
    "import pandas as pd\n",
    "\n",
    "# Construção explícita de um MultiIndex\n",
    "multi_index = pd.MultiIndex(levels=[['A', 'B'], [1, 2]], codes=[[0, 0, 1, 1], [0, 1, 0, 1]], names=['Letra', 'Número'])\n",
    "print(multi_index)\n"
   ]
  },
  {
   "cell_type": "markdown",
   "metadata": {},
   "source": [
    "# Combining Datasets - Concat and Append\n",
    "\n",
    "A combinação de datasets é uma prática comum na análise de dados, permitindo unir diferentes fontes de informação. O Pandas facilita essa tarefa com funções como pd.concat() e o método append()."
   ]
  },
  {
   "cell_type": "code",
   "execution_count": 1,
   "metadata": {},
   "outputs": [
    {
     "data": {
      "text/html": [
       "<div>\n",
       "<style scoped>\n",
       "    .dataframe tbody tr th:only-of-type {\n",
       "        vertical-align: middle;\n",
       "    }\n",
       "\n",
       "    .dataframe tbody tr th {\n",
       "        vertical-align: top;\n",
       "    }\n",
       "\n",
       "    .dataframe thead th {\n",
       "        text-align: right;\n",
       "    }\n",
       "</style>\n",
       "<table border=\"1\" class=\"dataframe\">\n",
       "  <thead>\n",
       "    <tr style=\"text-align: right;\">\n",
       "      <th></th>\n",
       "      <th>A</th>\n",
       "      <th>B</th>\n",
       "      <th>C</th>\n",
       "    </tr>\n",
       "  </thead>\n",
       "  <tbody>\n",
       "    <tr>\n",
       "      <th>0</th>\n",
       "      <td>A0</td>\n",
       "      <td>B0</td>\n",
       "      <td>C0</td>\n",
       "    </tr>\n",
       "    <tr>\n",
       "      <th>1</th>\n",
       "      <td>A1</td>\n",
       "      <td>B1</td>\n",
       "      <td>C1</td>\n",
       "    </tr>\n",
       "    <tr>\n",
       "      <th>2</th>\n",
       "      <td>A2</td>\n",
       "      <td>B2</td>\n",
       "      <td>C2</td>\n",
       "    </tr>\n",
       "  </tbody>\n",
       "</table>\n",
       "</div>"
      ],
      "text/plain": [
       "    A   B   C\n",
       "0  A0  B0  C0\n",
       "1  A1  B1  C1\n",
       "2  A2  B2  C2"
      ]
     },
     "execution_count": 1,
     "metadata": {},
     "output_type": "execute_result"
    }
   ],
   "source": [
    "import pandas as pd\n",
    "import numpy as np\n",
    "\n",
    "### Função Auxiliar: Uma função para criar DataFrames rapidamente\n",
    "\n",
    "def make_df(cols, ind):\n",
    "    \"\"\"Cria rapidamente um DataFrame\"\"\"\n",
    "    data = {c: [str(c) + str(i) for i in ind] for c in cols}\n",
    "    return pd.DataFrame(data, ind)\n",
    "\n",
    "# Exemplo de DataFrame\n",
    "make_df('ABC', range(3))\n",
    "\n"
   ]
  },
  {
   "cell_type": "markdown",
   "metadata": {},
   "source": [
    "### Concatenando Arrays NumPy\n",
    "A concatenação de objetos Series e DataFrame é semelhante à de arrays NumPy, feita via np.concatenate"
   ]
  },
  {
   "cell_type": "code",
   "execution_count": 5,
   "metadata": {},
   "outputs": [
    {
     "data": {
      "text/plain": [
       "array([1, 2, 3, 4, 5, 6, 7, 8, 9])"
      ]
     },
     "execution_count": 5,
     "metadata": {},
     "output_type": "execute_result"
    }
   ],
   "source": [
    "x = [1, 2, 3]\n",
    "y = [4, 5, 6]\n",
    "z = [7, 8, 9]\n",
    "np.concatenate([x, y, z])\n",
    "# array([1, 2, 3, 4, 5, 6, 7, 8, 9])\n"
   ]
  },
  {
   "cell_type": "markdown",
   "metadata": {},
   "source": [
    "### Concatenação Simples com pd.concat\n",
    "O Pandas possui a função pd.concat() com várias opções:"
   ]
  },
  {
   "cell_type": "code",
   "execution_count": 8,
   "metadata": {},
   "outputs": [
    {
     "name": "stdout",
     "output_type": "stream",
     "text": [
      "1    G\n",
      "2    H\n",
      "3    I\n",
      "4    J\n",
      "5    K\n",
      "6    L\n",
      "dtype: object\n"
     ]
    }
   ],
   "source": [
    "\n",
    "# Criando duas séries\n",
    "ser1 = pd.Series(['G', 'H', 'I'], index=[1, 2, 3])\n",
    "ser2 = pd.Series(['J', 'K', 'L'], index=[4, 5, 6])\n",
    "\n",
    "# Concatenando as séries\n",
    "result_series = pd.concat([ser1, ser2])\n",
    "\n",
    "print(result_series)\n"
   ]
  },
  {
   "cell_type": "code",
   "execution_count": 7,
   "metadata": {},
   "outputs": [
    {
     "data": {
      "text/html": [
       "<div style=\"float: left; padding: 10px;\">\n",
       "    <p style='font-family:\"Courier New\", Courier, monospace'>df1</p><div>\n",
       "<style scoped>\n",
       "    .dataframe tbody tr th:only-of-type {\n",
       "        vertical-align: middle;\n",
       "    }\n",
       "\n",
       "    .dataframe tbody tr th {\n",
       "        vertical-align: top;\n",
       "    }\n",
       "\n",
       "    .dataframe thead th {\n",
       "        text-align: right;\n",
       "    }\n",
       "</style>\n",
       "<table border=\"1\" class=\"dataframe\">\n",
       "  <thead>\n",
       "    <tr style=\"text-align: right;\">\n",
       "      <th></th>\n",
       "      <th>A</th>\n",
       "      <th>B</th>\n",
       "    </tr>\n",
       "  </thead>\n",
       "  <tbody>\n",
       "    <tr>\n",
       "      <th>1</th>\n",
       "      <td>A1</td>\n",
       "      <td>B1</td>\n",
       "    </tr>\n",
       "    <tr>\n",
       "      <th>2</th>\n",
       "      <td>A2</td>\n",
       "      <td>B2</td>\n",
       "    </tr>\n",
       "  </tbody>\n",
       "</table>\n",
       "</div>\n",
       "    </div>\n",
       "<div style=\"float: left; padding: 10px;\">\n",
       "    <p style='font-family:\"Courier New\", Courier, monospace'>df2</p><div>\n",
       "<style scoped>\n",
       "    .dataframe tbody tr th:only-of-type {\n",
       "        vertical-align: middle;\n",
       "    }\n",
       "\n",
       "    .dataframe tbody tr th {\n",
       "        vertical-align: top;\n",
       "    }\n",
       "\n",
       "    .dataframe thead th {\n",
       "        text-align: right;\n",
       "    }\n",
       "</style>\n",
       "<table border=\"1\" class=\"dataframe\">\n",
       "  <thead>\n",
       "    <tr style=\"text-align: right;\">\n",
       "      <th></th>\n",
       "      <th>A</th>\n",
       "      <th>B</th>\n",
       "    </tr>\n",
       "  </thead>\n",
       "  <tbody>\n",
       "    <tr>\n",
       "      <th>3</th>\n",
       "      <td>A3</td>\n",
       "      <td>B3</td>\n",
       "    </tr>\n",
       "    <tr>\n",
       "      <th>4</th>\n",
       "      <td>A4</td>\n",
       "      <td>B4</td>\n",
       "    </tr>\n",
       "  </tbody>\n",
       "</table>\n",
       "</div>\n",
       "    </div>\n",
       "<div style=\"float: left; padding: 10px;\">\n",
       "    <p style='font-family:\"Courier New\", Courier, monospace'>pd.concat([df1, df2])</p><div>\n",
       "<style scoped>\n",
       "    .dataframe tbody tr th:only-of-type {\n",
       "        vertical-align: middle;\n",
       "    }\n",
       "\n",
       "    .dataframe tbody tr th {\n",
       "        vertical-align: top;\n",
       "    }\n",
       "\n",
       "    .dataframe thead th {\n",
       "        text-align: right;\n",
       "    }\n",
       "</style>\n",
       "<table border=\"1\" class=\"dataframe\">\n",
       "  <thead>\n",
       "    <tr style=\"text-align: right;\">\n",
       "      <th></th>\n",
       "      <th>A</th>\n",
       "      <th>B</th>\n",
       "    </tr>\n",
       "  </thead>\n",
       "  <tbody>\n",
       "    <tr>\n",
       "      <th>1</th>\n",
       "      <td>A1</td>\n",
       "      <td>B1</td>\n",
       "    </tr>\n",
       "    <tr>\n",
       "      <th>2</th>\n",
       "      <td>A2</td>\n",
       "      <td>B2</td>\n",
       "    </tr>\n",
       "    <tr>\n",
       "      <th>3</th>\n",
       "      <td>A3</td>\n",
       "      <td>B3</td>\n",
       "    </tr>\n",
       "    <tr>\n",
       "      <th>4</th>\n",
       "      <td>A4</td>\n",
       "      <td>B4</td>\n",
       "    </tr>\n",
       "  </tbody>\n",
       "</table>\n",
       "</div>\n",
       "    </div>"
      ],
      "text/plain": [
       "df1\n",
       "    A   B\n",
       "1  A1  B1\n",
       "2  A2  B2\n",
       "\n",
       "df2\n",
       "    A   B\n",
       "3  A3  B3\n",
       "4  A4  B4\n",
       "\n",
       "pd.concat([df1, df2])\n",
       "    A   B\n",
       "1  A1  B1\n",
       "2  A2  B2\n",
       "3  A3  B3\n",
       "4  A4  B4"
      ]
     },
     "execution_count": 7,
     "metadata": {},
     "output_type": "execute_result"
    }
   ],
   "source": [
    "df1 = make_df('AB', [1, 2])\n",
    "df2 = make_df('AB', [3, 4])\n",
    "display('df1', 'df2', 'pd.concat([df1, df2])')\n"
   ]
  },
  {
   "cell_type": "markdown",
   "metadata": {},
   "source": [
    "### Lidando com Índices Duplicados\n",
    "Para evitar índices duplicados, pode-se usar a flag verify_integrity:"
   ]
  },
  {
   "cell_type": "code",
   "execution_count": 9,
   "metadata": {},
   "outputs": [
    {
     "ename": "TypeError",
     "evalue": "cannot concatenate object of type '<class 'list'>'; only Series and DataFrame objs are valid",
     "output_type": "error",
     "traceback": [
      "\u001b[1;31m---------------------------------------------------------------------------\u001b[0m",
      "\u001b[1;31mTypeError\u001b[0m                                 Traceback (most recent call last)",
      "Cell \u001b[1;32mIn[9], line 2\u001b[0m\n\u001b[0;32m      1\u001b[0m \u001b[38;5;28;01mtry\u001b[39;00m:\n\u001b[1;32m----> 2\u001b[0m     \u001b[43mpd\u001b[49m\u001b[38;5;241;43m.\u001b[39;49m\u001b[43mconcat\u001b[49m\u001b[43m(\u001b[49m\u001b[43m[\u001b[49m\u001b[43mx\u001b[49m\u001b[43m,\u001b[49m\u001b[43m \u001b[49m\u001b[43my\u001b[49m\u001b[43m]\u001b[49m\u001b[43m,\u001b[49m\u001b[43m \u001b[49m\u001b[43mverify_integrity\u001b[49m\u001b[38;5;241;43m=\u001b[39;49m\u001b[38;5;28;43;01mTrue\u001b[39;49;00m\u001b[43m)\u001b[49m\n\u001b[0;32m      3\u001b[0m \u001b[38;5;28;01mexcept\u001b[39;00m \u001b[38;5;167;01mValueError\u001b[39;00m \u001b[38;5;28;01mas\u001b[39;00m e:\n\u001b[0;32m      4\u001b[0m     \u001b[38;5;28mprint\u001b[39m(\u001b[38;5;124m\"\u001b[39m\u001b[38;5;124mValueError:\u001b[39m\u001b[38;5;124m\"\u001b[39m, e)\n",
      "File \u001b[1;32m~\\AppData\\Local\\Packages\\PythonSoftwareFoundation.Python.3.11_qbz5n2kfra8p0\\LocalCache\\local-packages\\Python311\\site-packages\\pandas\\core\\reshape\\concat.py:382\u001b[0m, in \u001b[0;36mconcat\u001b[1;34m(objs, axis, join, ignore_index, keys, levels, names, verify_integrity, sort, copy)\u001b[0m\n\u001b[0;32m    379\u001b[0m \u001b[38;5;28;01melif\u001b[39;00m copy \u001b[38;5;129;01mand\u001b[39;00m using_copy_on_write():\n\u001b[0;32m    380\u001b[0m     copy \u001b[38;5;241m=\u001b[39m \u001b[38;5;28;01mFalse\u001b[39;00m\n\u001b[1;32m--> 382\u001b[0m op \u001b[38;5;241m=\u001b[39m \u001b[43m_Concatenator\u001b[49m\u001b[43m(\u001b[49m\n\u001b[0;32m    383\u001b[0m \u001b[43m    \u001b[49m\u001b[43mobjs\u001b[49m\u001b[43m,\u001b[49m\n\u001b[0;32m    384\u001b[0m \u001b[43m    \u001b[49m\u001b[43maxis\u001b[49m\u001b[38;5;241;43m=\u001b[39;49m\u001b[43maxis\u001b[49m\u001b[43m,\u001b[49m\n\u001b[0;32m    385\u001b[0m \u001b[43m    \u001b[49m\u001b[43mignore_index\u001b[49m\u001b[38;5;241;43m=\u001b[39;49m\u001b[43mignore_index\u001b[49m\u001b[43m,\u001b[49m\n\u001b[0;32m    386\u001b[0m \u001b[43m    \u001b[49m\u001b[43mjoin\u001b[49m\u001b[38;5;241;43m=\u001b[39;49m\u001b[43mjoin\u001b[49m\u001b[43m,\u001b[49m\n\u001b[0;32m    387\u001b[0m \u001b[43m    \u001b[49m\u001b[43mkeys\u001b[49m\u001b[38;5;241;43m=\u001b[39;49m\u001b[43mkeys\u001b[49m\u001b[43m,\u001b[49m\n\u001b[0;32m    388\u001b[0m \u001b[43m    \u001b[49m\u001b[43mlevels\u001b[49m\u001b[38;5;241;43m=\u001b[39;49m\u001b[43mlevels\u001b[49m\u001b[43m,\u001b[49m\n\u001b[0;32m    389\u001b[0m \u001b[43m    \u001b[49m\u001b[43mnames\u001b[49m\u001b[38;5;241;43m=\u001b[39;49m\u001b[43mnames\u001b[49m\u001b[43m,\u001b[49m\n\u001b[0;32m    390\u001b[0m \u001b[43m    \u001b[49m\u001b[43mverify_integrity\u001b[49m\u001b[38;5;241;43m=\u001b[39;49m\u001b[43mverify_integrity\u001b[49m\u001b[43m,\u001b[49m\n\u001b[0;32m    391\u001b[0m \u001b[43m    \u001b[49m\u001b[43mcopy\u001b[49m\u001b[38;5;241;43m=\u001b[39;49m\u001b[43mcopy\u001b[49m\u001b[43m,\u001b[49m\n\u001b[0;32m    392\u001b[0m \u001b[43m    \u001b[49m\u001b[43msort\u001b[49m\u001b[38;5;241;43m=\u001b[39;49m\u001b[43msort\u001b[49m\u001b[43m,\u001b[49m\n\u001b[0;32m    393\u001b[0m \u001b[43m\u001b[49m\u001b[43m)\u001b[49m\n\u001b[0;32m    395\u001b[0m \u001b[38;5;28;01mreturn\u001b[39;00m op\u001b[38;5;241m.\u001b[39mget_result()\n",
      "File \u001b[1;32m~\\AppData\\Local\\Packages\\PythonSoftwareFoundation.Python.3.11_qbz5n2kfra8p0\\LocalCache\\local-packages\\Python311\\site-packages\\pandas\\core\\reshape\\concat.py:448\u001b[0m, in \u001b[0;36m_Concatenator.__init__\u001b[1;34m(self, objs, axis, join, keys, levels, names, ignore_index, verify_integrity, copy, sort)\u001b[0m\n\u001b[0;32m    445\u001b[0m objs, keys \u001b[38;5;241m=\u001b[39m \u001b[38;5;28mself\u001b[39m\u001b[38;5;241m.\u001b[39m_clean_keys_and_objs(objs, keys)\n\u001b[0;32m    447\u001b[0m \u001b[38;5;66;03m# figure out what our result ndim is going to be\u001b[39;00m\n\u001b[1;32m--> 448\u001b[0m ndims \u001b[38;5;241m=\u001b[39m \u001b[38;5;28;43mself\u001b[39;49m\u001b[38;5;241;43m.\u001b[39;49m\u001b[43m_get_ndims\u001b[49m\u001b[43m(\u001b[49m\u001b[43mobjs\u001b[49m\u001b[43m)\u001b[49m\n\u001b[0;32m    449\u001b[0m sample, objs \u001b[38;5;241m=\u001b[39m \u001b[38;5;28mself\u001b[39m\u001b[38;5;241m.\u001b[39m_get_sample_object(objs, ndims, keys, names, levels)\n\u001b[0;32m    451\u001b[0m \u001b[38;5;66;03m# Standardize axis parameter to int\u001b[39;00m\n",
      "File \u001b[1;32m~\\AppData\\Local\\Packages\\PythonSoftwareFoundation.Python.3.11_qbz5n2kfra8p0\\LocalCache\\local-packages\\Python311\\site-packages\\pandas\\core\\reshape\\concat.py:489\u001b[0m, in \u001b[0;36m_Concatenator._get_ndims\u001b[1;34m(self, objs)\u001b[0m\n\u001b[0;32m    484\u001b[0m     \u001b[38;5;28;01mif\u001b[39;00m \u001b[38;5;129;01mnot\u001b[39;00m \u001b[38;5;28misinstance\u001b[39m(obj, (ABCSeries, ABCDataFrame)):\n\u001b[0;32m    485\u001b[0m         msg \u001b[38;5;241m=\u001b[39m (\n\u001b[0;32m    486\u001b[0m             \u001b[38;5;124mf\u001b[39m\u001b[38;5;124m\"\u001b[39m\u001b[38;5;124mcannot concatenate object of type \u001b[39m\u001b[38;5;124m'\u001b[39m\u001b[38;5;132;01m{\u001b[39;00m\u001b[38;5;28mtype\u001b[39m(obj)\u001b[38;5;132;01m}\u001b[39;00m\u001b[38;5;124m'\u001b[39m\u001b[38;5;124m; \u001b[39m\u001b[38;5;124m\"\u001b[39m\n\u001b[0;32m    487\u001b[0m             \u001b[38;5;124m\"\u001b[39m\u001b[38;5;124monly Series and DataFrame objs are valid\u001b[39m\u001b[38;5;124m\"\u001b[39m\n\u001b[0;32m    488\u001b[0m         )\n\u001b[1;32m--> 489\u001b[0m         \u001b[38;5;28;01mraise\u001b[39;00m \u001b[38;5;167;01mTypeError\u001b[39;00m(msg)\n\u001b[0;32m    491\u001b[0m     ndims\u001b[38;5;241m.\u001b[39madd(obj\u001b[38;5;241m.\u001b[39mndim)\n\u001b[0;32m    492\u001b[0m \u001b[38;5;28;01mreturn\u001b[39;00m ndims\n",
      "\u001b[1;31mTypeError\u001b[0m: cannot concatenate object of type '<class 'list'>'; only Series and DataFrame objs are valid"
     ]
    }
   ],
   "source": [
    "try:\n",
    "    pd.concat([x, y], verify_integrity=True)\n",
    "except ValueError as e:\n",
    "    print(\"ValueError:\", e)\n",
    "# ValueError: Indexes have overlapping values: [0, 1]\n"
   ]
  },
  {
   "cell_type": "markdown",
   "metadata": {},
   "source": [
    "### Concatenação com Junções\n",
    "Concatenando DataFrames com colunas diferentes"
   ]
  },
  {
   "cell_type": "code",
   "execution_count": 12,
   "metadata": {},
   "outputs": [
    {
     "data": {
      "text/html": [
       "<div>\n",
       "<style scoped>\n",
       "    .dataframe tbody tr th:only-of-type {\n",
       "        vertical-align: middle;\n",
       "    }\n",
       "\n",
       "    .dataframe tbody tr th {\n",
       "        vertical-align: top;\n",
       "    }\n",
       "\n",
       "    .dataframe thead th {\n",
       "        text-align: right;\n",
       "    }\n",
       "</style>\n",
       "<table border=\"1\" class=\"dataframe\">\n",
       "  <thead>\n",
       "    <tr style=\"text-align: right;\">\n",
       "      <th></th>\n",
       "      <th>A</th>\n",
       "      <th>B</th>\n",
       "      <th>C</th>\n",
       "      <th>D</th>\n",
       "    </tr>\n",
       "  </thead>\n",
       "  <tbody>\n",
       "    <tr>\n",
       "      <th>1</th>\n",
       "      <td>A1</td>\n",
       "      <td>B1</td>\n",
       "      <td>C1</td>\n",
       "      <td>NaN</td>\n",
       "    </tr>\n",
       "    <tr>\n",
       "      <th>2</th>\n",
       "      <td>A2</td>\n",
       "      <td>B2</td>\n",
       "      <td>C2</td>\n",
       "      <td>NaN</td>\n",
       "    </tr>\n",
       "    <tr>\n",
       "      <th>3</th>\n",
       "      <td>NaN</td>\n",
       "      <td>B3</td>\n",
       "      <td>C3</td>\n",
       "      <td>D3</td>\n",
       "    </tr>\n",
       "    <tr>\n",
       "      <th>4</th>\n",
       "      <td>NaN</td>\n",
       "      <td>B4</td>\n",
       "      <td>C4</td>\n",
       "      <td>D4</td>\n",
       "    </tr>\n",
       "  </tbody>\n",
       "</table>\n",
       "</div>"
      ],
      "text/plain": [
       "     A   B   C    D\n",
       "1   A1  B1  C1  NaN\n",
       "2   A2  B2  C2  NaN\n",
       "3  NaN  B3  C3   D3\n",
       "4  NaN  B4  C4   D4"
      ]
     },
     "execution_count": 12,
     "metadata": {},
     "output_type": "execute_result"
    }
   ],
   "source": [
    "df5 = make_df('ABC', [1, 2])\n",
    "df6 = make_df('BCD', [3, 4])\n",
    "pd.concat([df5, df6])"
   ]
  },
  {
   "cell_type": "markdown",
   "metadata": {},
   "source": [
    "### Método append()\n",
    "O método append() pode ser usado para concatenar DataFrames:"
   ]
  },
  {
   "cell_type": "code",
   "execution_count": 20,
   "metadata": {},
   "outputs": [
    {
     "name": "stdout",
     "output_type": "stream",
     "text": [
      "    A   B\n",
      "0  A1  B1\n",
      "1  A2  B2\n",
      "2  A3  B3\n",
      "0  A4  B4\n",
      "1  A5  B5\n"
     ]
    }
   ],
   "source": [
    "import pandas as pd\n",
    "\n",
    "# Criando dois DataFrames\n",
    "df1 = pd.DataFrame({\n",
    "    'A': ['A1', 'A2', 'A3'],\n",
    "    'B': ['B1', 'B2', 'B3']\n",
    "})\n",
    "\n",
    "df2 = pd.DataFrame({\n",
    "    'A': ['A4', 'A5'],\n",
    "    'B': ['B4', 'B5']\n",
    "})\n",
    "\n",
    "# Usando o método concat para concatenar os DataFrames\n",
    "result_df = pd.concat([df1, df2])\n",
    "\n",
    "print(result_df)\n"
   ]
  },
  {
   "cell_type": "markdown",
   "metadata": {},
   "source": [
    "# Operações de Join e Merge no Pandas"
   ]
  },
  {
   "cell_type": "markdown",
   "metadata": {},
   "source": [
    "O Pandas oferece operações de join e merge de alta performance, semelhantes às interações de dados em bancos de dados, através da função pd.merge.\n",
    "\n",
    "### Álgebra Relacional\n",
    "A função pd.merge() implementa operações fundamentais da álgebra relacional, permitindo operações eficientes em datasets. Essas operações podem ser combinadas para realizar operações compostas complexas.\n",
    "\n",
    "## Categorias de Joins\n",
    "### One-to-One Joins\n",
    "Mescla dois DataFrames com base em uma coluna chave comum."
   ]
  },
  {
   "cell_type": "code",
   "execution_count": 24,
   "metadata": {},
   "outputs": [
    {
     "name": "stdout",
     "output_type": "stream",
     "text": [
      "  employee        group  hire_date\n",
      "0      Bob   Accounting       2008\n",
      "1     Jake  Engineering       2012\n",
      "2     Lisa  Engineering       2004\n",
      "3      Sue           HR       2014\n"
     ]
    }
   ],
   "source": [
    "df1 = pd.DataFrame({'employee': ['Bob', 'Jake', 'Lisa', 'Sue'],\n",
    "                    'group': ['Accounting', 'Engineering', 'Engineering', 'HR']})\n",
    "df2 = pd.DataFrame({'employee': ['Lisa', 'Bob', 'Jake', 'Sue'],\n",
    "                    'hire_date': [2004, 2008, 2012, 2014]})\n",
    "\n",
    "df3 = pd.merge(df1, df2)\n",
    "print(df3)\n"
   ]
  },
  {
   "cell_type": "markdown",
   "metadata": {},
   "source": [
    "### Many-to-One Joins\n",
    "Mescla onde uma das colunas chave contém entradas duplicadas."
   ]
  },
  {
   "cell_type": "code",
   "execution_count": 23,
   "metadata": {},
   "outputs": [
    {
     "name": "stdout",
     "output_type": "stream",
     "text": [
      "  employee        group  hire_date supervisor\n",
      "0      Bob   Accounting       2008      Carly\n",
      "1     Jake  Engineering       2012      Guido\n",
      "2     Lisa  Engineering       2004      Guido\n",
      "3      Sue           HR       2014      Steve\n"
     ]
    }
   ],
   "source": [
    "df4 = pd.DataFrame({'group': ['Accounting', 'Engineering', 'HR'],\n",
    "                    'supervisor': ['Carly', 'Guido', 'Steve']})\n",
    "df5 = pd.merge(df3, df4)\n",
    "print(df5)\n"
   ]
  },
  {
   "cell_type": "markdown",
   "metadata": {},
   "source": [
    "### Many-to-Many Joins\n",
    "Mescla onde ambas as colunas chave contêm duplicatas."
   ]
  },
  {
   "cell_type": "code",
   "execution_count": 25,
   "metadata": {},
   "outputs": [
    {
     "name": "stdout",
     "output_type": "stream",
     "text": [
      "  employee        group        skills\n",
      "0      Bob   Accounting          math\n",
      "1      Bob   Accounting  spreadsheets\n",
      "2     Jake  Engineering        coding\n",
      "3     Jake  Engineering         linux\n",
      "4     Lisa  Engineering        coding\n",
      "5     Lisa  Engineering         linux\n",
      "6      Sue           HR  spreadsheets\n",
      "7      Sue           HR  organization\n"
     ]
    }
   ],
   "source": [
    "df5 = pd.DataFrame({'group': ['Accounting', 'Accounting',\n",
    "                              'Engineering', 'Engineering', 'HR', 'HR'],\n",
    "                    'skills': ['math', 'spreadsheets', 'coding', 'linux',\n",
    "                               'spreadsheets', 'organization']})\n",
    "df6 = pd.merge(df1, df5)\n",
    "print(df6)"
   ]
  },
  {
   "cell_type": "markdown",
   "metadata": {},
   "source": [
    "## Especificando a Chave de Mescla"
   ]
  },
  {
   "cell_type": "markdown",
   "metadata": {},
   "source": [
    "### Palavra-chave on\n",
    "Especifica explicitamente o nome da coluna chave."
   ]
  },
  {
   "cell_type": "code",
   "execution_count": 26,
   "metadata": {},
   "outputs": [
    {
     "data": {
      "text/html": [
       "<div>\n",
       "<style scoped>\n",
       "    .dataframe tbody tr th:only-of-type {\n",
       "        vertical-align: middle;\n",
       "    }\n",
       "\n",
       "    .dataframe tbody tr th {\n",
       "        vertical-align: top;\n",
       "    }\n",
       "\n",
       "    .dataframe thead th {\n",
       "        text-align: right;\n",
       "    }\n",
       "</style>\n",
       "<table border=\"1\" class=\"dataframe\">\n",
       "  <thead>\n",
       "    <tr style=\"text-align: right;\">\n",
       "      <th></th>\n",
       "      <th>employee</th>\n",
       "      <th>group</th>\n",
       "      <th>hire_date</th>\n",
       "    </tr>\n",
       "  </thead>\n",
       "  <tbody>\n",
       "    <tr>\n",
       "      <th>0</th>\n",
       "      <td>Bob</td>\n",
       "      <td>Accounting</td>\n",
       "      <td>2008</td>\n",
       "    </tr>\n",
       "    <tr>\n",
       "      <th>1</th>\n",
       "      <td>Jake</td>\n",
       "      <td>Engineering</td>\n",
       "      <td>2012</td>\n",
       "    </tr>\n",
       "    <tr>\n",
       "      <th>2</th>\n",
       "      <td>Lisa</td>\n",
       "      <td>Engineering</td>\n",
       "      <td>2004</td>\n",
       "    </tr>\n",
       "    <tr>\n",
       "      <th>3</th>\n",
       "      <td>Sue</td>\n",
       "      <td>HR</td>\n",
       "      <td>2014</td>\n",
       "    </tr>\n",
       "  </tbody>\n",
       "</table>\n",
       "</div>"
      ],
      "text/plain": [
       "  employee        group  hire_date\n",
       "0      Bob   Accounting       2008\n",
       "1     Jake  Engineering       2012\n",
       "2     Lisa  Engineering       2004\n",
       "3      Sue           HR       2014"
      ]
     },
     "execution_count": 26,
     "metadata": {},
     "output_type": "execute_result"
    }
   ],
   "source": [
    "pd.merge(df1, df2, on='employee')\n"
   ]
  },
  {
   "cell_type": "markdown",
   "metadata": {},
   "source": [
    "### Palavras-chave left_on e right_on\n",
    "Mescla datasets com diferentes nomes de coluna."
   ]
  },
  {
   "cell_type": "code",
   "execution_count": 27,
   "metadata": {},
   "outputs": [
    {
     "data": {
      "text/html": [
       "<div>\n",
       "<style scoped>\n",
       "    .dataframe tbody tr th:only-of-type {\n",
       "        vertical-align: middle;\n",
       "    }\n",
       "\n",
       "    .dataframe tbody tr th {\n",
       "        vertical-align: top;\n",
       "    }\n",
       "\n",
       "    .dataframe thead th {\n",
       "        text-align: right;\n",
       "    }\n",
       "</style>\n",
       "<table border=\"1\" class=\"dataframe\">\n",
       "  <thead>\n",
       "    <tr style=\"text-align: right;\">\n",
       "      <th></th>\n",
       "      <th>employee</th>\n",
       "      <th>group</th>\n",
       "      <th>salary</th>\n",
       "    </tr>\n",
       "  </thead>\n",
       "  <tbody>\n",
       "    <tr>\n",
       "      <th>0</th>\n",
       "      <td>Bob</td>\n",
       "      <td>Accounting</td>\n",
       "      <td>70000</td>\n",
       "    </tr>\n",
       "    <tr>\n",
       "      <th>1</th>\n",
       "      <td>Jake</td>\n",
       "      <td>Engineering</td>\n",
       "      <td>80000</td>\n",
       "    </tr>\n",
       "    <tr>\n",
       "      <th>2</th>\n",
       "      <td>Lisa</td>\n",
       "      <td>Engineering</td>\n",
       "      <td>120000</td>\n",
       "    </tr>\n",
       "    <tr>\n",
       "      <th>3</th>\n",
       "      <td>Sue</td>\n",
       "      <td>HR</td>\n",
       "      <td>90000</td>\n",
       "    </tr>\n",
       "  </tbody>\n",
       "</table>\n",
       "</div>"
      ],
      "text/plain": [
       "  employee        group  salary\n",
       "0      Bob   Accounting   70000\n",
       "1     Jake  Engineering   80000\n",
       "2     Lisa  Engineering  120000\n",
       "3      Sue           HR   90000"
      ]
     },
     "execution_count": 27,
     "metadata": {},
     "output_type": "execute_result"
    }
   ],
   "source": [
    "df3 = pd.DataFrame({'name': ['Bob', 'Jake', 'Lisa', 'Sue'],\n",
    "                    'salary': [70000, 80000, 120000, 90000]})\n",
    "pd.merge(df1, df3, left_on=\"employee\", right_on=\"name\").drop('name', axis=1)\n"
   ]
  },
  {
   "cell_type": "markdown",
   "metadata": {},
   "source": [
    "### Palavras-chave left_index e right_index\n",
    "Mescla utilizando índices ao invés de colunas."
   ]
  },
  {
   "cell_type": "code",
   "execution_count": 28,
   "metadata": {},
   "outputs": [
    {
     "data": {
      "text/html": [
       "<div>\n",
       "<style scoped>\n",
       "    .dataframe tbody tr th:only-of-type {\n",
       "        vertical-align: middle;\n",
       "    }\n",
       "\n",
       "    .dataframe tbody tr th {\n",
       "        vertical-align: top;\n",
       "    }\n",
       "\n",
       "    .dataframe thead th {\n",
       "        text-align: right;\n",
       "    }\n",
       "</style>\n",
       "<table border=\"1\" class=\"dataframe\">\n",
       "  <thead>\n",
       "    <tr style=\"text-align: right;\">\n",
       "      <th></th>\n",
       "      <th>group</th>\n",
       "      <th>hire_date</th>\n",
       "    </tr>\n",
       "    <tr>\n",
       "      <th>employee</th>\n",
       "      <th></th>\n",
       "      <th></th>\n",
       "    </tr>\n",
       "  </thead>\n",
       "  <tbody>\n",
       "    <tr>\n",
       "      <th>Bob</th>\n",
       "      <td>Accounting</td>\n",
       "      <td>2008</td>\n",
       "    </tr>\n",
       "    <tr>\n",
       "      <th>Jake</th>\n",
       "      <td>Engineering</td>\n",
       "      <td>2012</td>\n",
       "    </tr>\n",
       "    <tr>\n",
       "      <th>Lisa</th>\n",
       "      <td>Engineering</td>\n",
       "      <td>2004</td>\n",
       "    </tr>\n",
       "    <tr>\n",
       "      <th>Sue</th>\n",
       "      <td>HR</td>\n",
       "      <td>2014</td>\n",
       "    </tr>\n",
       "  </tbody>\n",
       "</table>\n",
       "</div>"
      ],
      "text/plain": [
       "                group  hire_date\n",
       "employee                        \n",
       "Bob        Accounting       2008\n",
       "Jake      Engineering       2012\n",
       "Lisa      Engineering       2004\n",
       "Sue                HR       2014"
      ]
     },
     "execution_count": 28,
     "metadata": {},
     "output_type": "execute_result"
    }
   ],
   "source": [
    "df1a = df1.set_index('employee')\n",
    "df2a = df2.set_index('employee')\n",
    "pd.merge(df1a, df2a, left_index=True, right_index=True)\n"
   ]
  },
  {
   "cell_type": "markdown",
   "metadata": {},
   "source": [
    "## Especificando Aritmética de Conjuntos para Joins\n"
   ]
  },
  {
   "cell_type": "markdown",
   "metadata": {},
   "source": [
    "### Join Interno (default)\n",
    "Retorna a interseção dos conjuntos de entrada."
   ]
  },
  {
   "cell_type": "code",
   "execution_count": 37,
   "metadata": {},
   "outputs": [
    {
     "name": "stdout",
     "output_type": "stream",
     "text": [
      "    name   food\n",
      "0  Peter   fish\n",
      "1   Paul  beans\n",
      "2   Mary  bread\n",
      "---------------\n",
      "     name drink\n",
      "0    Mary  wine\n",
      "1  Joseph  beer\n",
      "---------------\n"
     ]
    },
    {
     "data": {
      "text/html": [
       "<div>\n",
       "<style scoped>\n",
       "    .dataframe tbody tr th:only-of-type {\n",
       "        vertical-align: middle;\n",
       "    }\n",
       "\n",
       "    .dataframe tbody tr th {\n",
       "        vertical-align: top;\n",
       "    }\n",
       "\n",
       "    .dataframe thead th {\n",
       "        text-align: right;\n",
       "    }\n",
       "</style>\n",
       "<table border=\"1\" class=\"dataframe\">\n",
       "  <thead>\n",
       "    <tr style=\"text-align: right;\">\n",
       "      <th></th>\n",
       "      <th>name</th>\n",
       "      <th>food</th>\n",
       "      <th>drink</th>\n",
       "    </tr>\n",
       "  </thead>\n",
       "  <tbody>\n",
       "    <tr>\n",
       "      <th>0</th>\n",
       "      <td>Mary</td>\n",
       "      <td>bread</td>\n",
       "      <td>wine</td>\n",
       "    </tr>\n",
       "  </tbody>\n",
       "</table>\n",
       "</div>"
      ],
      "text/plain": [
       "   name   food drink\n",
       "0  Mary  bread  wine"
      ]
     },
     "execution_count": 37,
     "metadata": {},
     "output_type": "execute_result"
    }
   ],
   "source": [
    "df6 = pd.DataFrame({'name': ['Peter', 'Paul', 'Mary'],\n",
    "                    'food': ['fish', 'beans', 'bread']},\n",
    "\n",
    "                   columns=['name', 'food'])\n",
    "df7 = pd.DataFrame({'name': ['Mary', 'Joseph'],\n",
    "                    'drink': ['wine', 'beer']},\n",
    "                   columns=['name', 'drink'])\n",
    "\n",
    "\n",
    "print(df6)\n",
    "print(\"---------------\")\n",
    "print(df7)\n",
    "print(\"---------------\")\n",
    "\n",
    "pd.merge(df6, df7)"
   ]
  },
  {
   "cell_type": "markdown",
   "metadata": {},
   "source": [
    "### Join Externo\n",
    "Inclui todos os registros de ambos os DataFrames."
   ]
  },
  {
   "cell_type": "code",
   "execution_count": 30,
   "metadata": {},
   "outputs": [
    {
     "data": {
      "text/html": [
       "<div>\n",
       "<style scoped>\n",
       "    .dataframe tbody tr th:only-of-type {\n",
       "        vertical-align: middle;\n",
       "    }\n",
       "\n",
       "    .dataframe tbody tr th {\n",
       "        vertical-align: top;\n",
       "    }\n",
       "\n",
       "    .dataframe thead th {\n",
       "        text-align: right;\n",
       "    }\n",
       "</style>\n",
       "<table border=\"1\" class=\"dataframe\">\n",
       "  <thead>\n",
       "    <tr style=\"text-align: right;\">\n",
       "      <th></th>\n",
       "      <th>name</th>\n",
       "      <th>food</th>\n",
       "      <th>drink</th>\n",
       "    </tr>\n",
       "  </thead>\n",
       "  <tbody>\n",
       "    <tr>\n",
       "      <th>0</th>\n",
       "      <td>Joseph</td>\n",
       "      <td>NaN</td>\n",
       "      <td>beer</td>\n",
       "    </tr>\n",
       "    <tr>\n",
       "      <th>1</th>\n",
       "      <td>Mary</td>\n",
       "      <td>bread</td>\n",
       "      <td>wine</td>\n",
       "    </tr>\n",
       "    <tr>\n",
       "      <th>2</th>\n",
       "      <td>Paul</td>\n",
       "      <td>beans</td>\n",
       "      <td>NaN</td>\n",
       "    </tr>\n",
       "    <tr>\n",
       "      <th>3</th>\n",
       "      <td>Peter</td>\n",
       "      <td>fish</td>\n",
       "      <td>NaN</td>\n",
       "    </tr>\n",
       "  </tbody>\n",
       "</table>\n",
       "</div>"
      ],
      "text/plain": [
       "     name   food drink\n",
       "0  Joseph    NaN  beer\n",
       "1    Mary  bread  wine\n",
       "2    Paul  beans   NaN\n",
       "3   Peter   fish   NaN"
      ]
     },
     "execution_count": 30,
     "metadata": {},
     "output_type": "execute_result"
    }
   ],
   "source": [
    "pd.merge(df6, df7, how='outer')\n"
   ]
  },
  {
   "cell_type": "markdown",
   "metadata": {},
   "source": [
    "### Join à Esquerda\n",
    "Inclui todos os registros do DataFrame à esquerda."
   ]
  },
  {
   "cell_type": "code",
   "execution_count": 31,
   "metadata": {},
   "outputs": [
    {
     "data": {
      "text/html": [
       "<div>\n",
       "<style scoped>\n",
       "    .dataframe tbody tr th:only-of-type {\n",
       "        vertical-align: middle;\n",
       "    }\n",
       "\n",
       "    .dataframe tbody tr th {\n",
       "        vertical-align: top;\n",
       "    }\n",
       "\n",
       "    .dataframe thead th {\n",
       "        text-align: right;\n",
       "    }\n",
       "</style>\n",
       "<table border=\"1\" class=\"dataframe\">\n",
       "  <thead>\n",
       "    <tr style=\"text-align: right;\">\n",
       "      <th></th>\n",
       "      <th>name</th>\n",
       "      <th>food</th>\n",
       "      <th>drink</th>\n",
       "    </tr>\n",
       "  </thead>\n",
       "  <tbody>\n",
       "    <tr>\n",
       "      <th>0</th>\n",
       "      <td>Peter</td>\n",
       "      <td>fish</td>\n",
       "      <td>NaN</td>\n",
       "    </tr>\n",
       "    <tr>\n",
       "      <th>1</th>\n",
       "      <td>Paul</td>\n",
       "      <td>beans</td>\n",
       "      <td>NaN</td>\n",
       "    </tr>\n",
       "    <tr>\n",
       "      <th>2</th>\n",
       "      <td>Mary</td>\n",
       "      <td>bread</td>\n",
       "      <td>wine</td>\n",
       "    </tr>\n",
       "  </tbody>\n",
       "</table>\n",
       "</div>"
      ],
      "text/plain": [
       "    name   food drink\n",
       "0  Peter   fish   NaN\n",
       "1   Paul  beans   NaN\n",
       "2   Mary  bread  wine"
      ]
     },
     "execution_count": 31,
     "metadata": {},
     "output_type": "execute_result"
    }
   ],
   "source": [
    "pd.merge(df6, df7, how='left')\n"
   ]
  },
  {
   "cell_type": "markdown",
   "metadata": {},
   "source": [
    "### Join à Direita\n",
    "Inclui todos os registros do DataFrame à direita."
   ]
  },
  {
   "cell_type": "code",
   "execution_count": 32,
   "metadata": {},
   "outputs": [
    {
     "data": {
      "text/html": [
       "<div>\n",
       "<style scoped>\n",
       "    .dataframe tbody tr th:only-of-type {\n",
       "        vertical-align: middle;\n",
       "    }\n",
       "\n",
       "    .dataframe tbody tr th {\n",
       "        vertical-align: top;\n",
       "    }\n",
       "\n",
       "    .dataframe thead th {\n",
       "        text-align: right;\n",
       "    }\n",
       "</style>\n",
       "<table border=\"1\" class=\"dataframe\">\n",
       "  <thead>\n",
       "    <tr style=\"text-align: right;\">\n",
       "      <th></th>\n",
       "      <th>name</th>\n",
       "      <th>food</th>\n",
       "      <th>drink</th>\n",
       "    </tr>\n",
       "  </thead>\n",
       "  <tbody>\n",
       "    <tr>\n",
       "      <th>0</th>\n",
       "      <td>Mary</td>\n",
       "      <td>bread</td>\n",
       "      <td>wine</td>\n",
       "    </tr>\n",
       "    <tr>\n",
       "      <th>1</th>\n",
       "      <td>Joseph</td>\n",
       "      <td>NaN</td>\n",
       "      <td>beer</td>\n",
       "    </tr>\n",
       "  </tbody>\n",
       "</table>\n",
       "</div>"
      ],
      "text/plain": [
       "     name   food drink\n",
       "0    Mary  bread  wine\n",
       "1  Joseph    NaN  beer"
      ]
     },
     "execution_count": 32,
     "metadata": {},
     "output_type": "execute_result"
    }
   ],
   "source": [
    "pd.merge(df6, df7, how='right')\n"
   ]
  },
  {
   "cell_type": "markdown",
   "metadata": {},
   "source": [
    "## Resumo de Agrupamentos e Agregações com Pandas\n",
    "A análise de grandes conjuntos de dados frequentemente requer a sumarização eficiente desses dados. Operações de agregação, como soma, média, mediana, mínimo e máximo, ajudam a obter uma visão sobre a natureza do conjunto de dados. Nesta seção, exploraremos agregações no Pandas, desde operações simples até operações mais sofisticadas usando o conceito de groupby."
   ]
  },
  {
   "cell_type": "markdown",
   "metadata": {},
   "source": [
    "### Conjunto de Dados de Planetas\n",
    "Vamos utilizar o dataset de planetas disponível no Seaborn, que contém informações sobre planetas descobertos em torno de outras estrelas.\n",
    "\n"
   ]
  },
  {
   "cell_type": "code",
   "execution_count": 2,
   "metadata": {},
   "outputs": [
    {
     "data": {
      "text/html": [
       "<div>\n",
       "<style scoped>\n",
       "    .dataframe tbody tr th:only-of-type {\n",
       "        vertical-align: middle;\n",
       "    }\n",
       "\n",
       "    .dataframe tbody tr th {\n",
       "        vertical-align: top;\n",
       "    }\n",
       "\n",
       "    .dataframe thead th {\n",
       "        text-align: right;\n",
       "    }\n",
       "</style>\n",
       "<table border=\"1\" class=\"dataframe\">\n",
       "  <thead>\n",
       "    <tr style=\"text-align: right;\">\n",
       "      <th></th>\n",
       "      <th>method</th>\n",
       "      <th>number</th>\n",
       "      <th>orbital_period</th>\n",
       "      <th>mass</th>\n",
       "      <th>distance</th>\n",
       "      <th>year</th>\n",
       "    </tr>\n",
       "  </thead>\n",
       "  <tbody>\n",
       "    <tr>\n",
       "      <th>0</th>\n",
       "      <td>Radial Velocity</td>\n",
       "      <td>1</td>\n",
       "      <td>269.300</td>\n",
       "      <td>7.10</td>\n",
       "      <td>77.40</td>\n",
       "      <td>2006</td>\n",
       "    </tr>\n",
       "    <tr>\n",
       "      <th>1</th>\n",
       "      <td>Radial Velocity</td>\n",
       "      <td>1</td>\n",
       "      <td>874.774</td>\n",
       "      <td>2.21</td>\n",
       "      <td>56.95</td>\n",
       "      <td>2008</td>\n",
       "    </tr>\n",
       "    <tr>\n",
       "      <th>2</th>\n",
       "      <td>Radial Velocity</td>\n",
       "      <td>1</td>\n",
       "      <td>763.000</td>\n",
       "      <td>2.60</td>\n",
       "      <td>19.84</td>\n",
       "      <td>2011</td>\n",
       "    </tr>\n",
       "    <tr>\n",
       "      <th>3</th>\n",
       "      <td>Radial Velocity</td>\n",
       "      <td>1</td>\n",
       "      <td>326.030</td>\n",
       "      <td>19.40</td>\n",
       "      <td>110.62</td>\n",
       "      <td>2007</td>\n",
       "    </tr>\n",
       "    <tr>\n",
       "      <th>4</th>\n",
       "      <td>Radial Velocity</td>\n",
       "      <td>1</td>\n",
       "      <td>516.220</td>\n",
       "      <td>10.50</td>\n",
       "      <td>119.47</td>\n",
       "      <td>2009</td>\n",
       "    </tr>\n",
       "  </tbody>\n",
       "</table>\n",
       "</div>"
      ],
      "text/plain": [
       "            method  number  orbital_period   mass  distance  year\n",
       "0  Radial Velocity       1         269.300   7.10     77.40  2006\n",
       "1  Radial Velocity       1         874.774   2.21     56.95  2008\n",
       "2  Radial Velocity       1         763.000   2.60     19.84  2011\n",
       "3  Radial Velocity       1         326.030  19.40    110.62  2007\n",
       "4  Radial Velocity       1         516.220  10.50    119.47  2009"
      ]
     },
     "metadata": {},
     "output_type": "display_data"
    }
   ],
   "source": [
    "import numpy as np\n",
    "import pandas as pd\n",
    "import seaborn as sns\n",
    "\n",
    "planets = sns.load_dataset('planets')\n",
    "display(planets.head())\n"
   ]
  },
  {
   "cell_type": "markdown",
   "metadata": {},
   "source": [
    "### Agregação Simples no Pandas\n",
    "Para séries Pandas, agregações como soma e média retornam um único valor:"
   ]
  },
  {
   "cell_type": "code",
   "execution_count": 3,
   "metadata": {},
   "outputs": [
    {
     "data": {
      "text/plain": [
       "2.811925491708157"
      ]
     },
     "metadata": {},
     "output_type": "display_data"
    },
    {
     "data": {
      "text/plain": [
       "0.5623850983416314"
      ]
     },
     "metadata": {},
     "output_type": "display_data"
    }
   ],
   "source": [
    "rng = np.random.RandomState(42)\n",
    "ser = pd.Series(rng.rand(5))\n",
    "display(ser.sum(), ser.mean())\n"
   ]
  },
  {
   "cell_type": "code",
   "execution_count": 4,
   "metadata": {},
   "outputs": [
    {
     "data": {
      "text/plain": [
       "A    0.477888\n",
       "B    0.443420\n",
       "dtype: float64"
      ]
     },
     "metadata": {},
     "output_type": "display_data"
    }
   ],
   "source": [
    "df = pd.DataFrame({'A': rng.rand(5), 'B': rng.rand(5)})\n",
    "display(df.mean())\n"
   ]
  },
  {
   "cell_type": "markdown",
   "metadata": {},
   "source": [
    "### Método describe\n",
    "O método describe computa várias agregações comuns para cada coluna"
   ]
  },
  {
   "cell_type": "code",
   "execution_count": 5,
   "metadata": {},
   "outputs": [
    {
     "data": {
      "text/html": [
       "<div>\n",
       "<style scoped>\n",
       "    .dataframe tbody tr th:only-of-type {\n",
       "        vertical-align: middle;\n",
       "    }\n",
       "\n",
       "    .dataframe tbody tr th {\n",
       "        vertical-align: top;\n",
       "    }\n",
       "\n",
       "    .dataframe thead th {\n",
       "        text-align: right;\n",
       "    }\n",
       "</style>\n",
       "<table border=\"1\" class=\"dataframe\">\n",
       "  <thead>\n",
       "    <tr style=\"text-align: right;\">\n",
       "      <th></th>\n",
       "      <th>number</th>\n",
       "      <th>orbital_period</th>\n",
       "      <th>mass</th>\n",
       "      <th>distance</th>\n",
       "      <th>year</th>\n",
       "    </tr>\n",
       "  </thead>\n",
       "  <tbody>\n",
       "    <tr>\n",
       "      <th>count</th>\n",
       "      <td>498.00000</td>\n",
       "      <td>498.000000</td>\n",
       "      <td>498.000000</td>\n",
       "      <td>498.000000</td>\n",
       "      <td>498.000000</td>\n",
       "    </tr>\n",
       "    <tr>\n",
       "      <th>mean</th>\n",
       "      <td>1.73494</td>\n",
       "      <td>835.778671</td>\n",
       "      <td>2.509320</td>\n",
       "      <td>52.068213</td>\n",
       "      <td>2007.377510</td>\n",
       "    </tr>\n",
       "    <tr>\n",
       "      <th>std</th>\n",
       "      <td>1.17572</td>\n",
       "      <td>1469.128259</td>\n",
       "      <td>3.636274</td>\n",
       "      <td>46.596041</td>\n",
       "      <td>4.167284</td>\n",
       "    </tr>\n",
       "    <tr>\n",
       "      <th>min</th>\n",
       "      <td>1.00000</td>\n",
       "      <td>1.328300</td>\n",
       "      <td>0.003600</td>\n",
       "      <td>1.350000</td>\n",
       "      <td>1989.000000</td>\n",
       "    </tr>\n",
       "    <tr>\n",
       "      <th>25%</th>\n",
       "      <td>1.00000</td>\n",
       "      <td>38.272250</td>\n",
       "      <td>0.212500</td>\n",
       "      <td>24.497500</td>\n",
       "      <td>2005.000000</td>\n",
       "    </tr>\n",
       "    <tr>\n",
       "      <th>50%</th>\n",
       "      <td>1.00000</td>\n",
       "      <td>357.000000</td>\n",
       "      <td>1.245000</td>\n",
       "      <td>39.940000</td>\n",
       "      <td>2009.000000</td>\n",
       "    </tr>\n",
       "    <tr>\n",
       "      <th>75%</th>\n",
       "      <td>2.00000</td>\n",
       "      <td>999.600000</td>\n",
       "      <td>2.867500</td>\n",
       "      <td>59.332500</td>\n",
       "      <td>2011.000000</td>\n",
       "    </tr>\n",
       "    <tr>\n",
       "      <th>max</th>\n",
       "      <td>6.00000</td>\n",
       "      <td>17337.500000</td>\n",
       "      <td>25.000000</td>\n",
       "      <td>354.000000</td>\n",
       "      <td>2014.000000</td>\n",
       "    </tr>\n",
       "  </tbody>\n",
       "</table>\n",
       "</div>"
      ],
      "text/plain": [
       "          number  orbital_period        mass    distance         year\n",
       "count  498.00000      498.000000  498.000000  498.000000   498.000000\n",
       "mean     1.73494      835.778671    2.509320   52.068213  2007.377510\n",
       "std      1.17572     1469.128259    3.636274   46.596041     4.167284\n",
       "min      1.00000        1.328300    0.003600    1.350000  1989.000000\n",
       "25%      1.00000       38.272250    0.212500   24.497500  2005.000000\n",
       "50%      1.00000      357.000000    1.245000   39.940000  2009.000000\n",
       "75%      2.00000      999.600000    2.867500   59.332500  2011.000000\n",
       "max      6.00000    17337.500000   25.000000  354.000000  2014.000000"
      ]
     },
     "metadata": {},
     "output_type": "display_data"
    }
   ],
   "source": [
    "display(planets.dropna().describe())\n"
   ]
  },
  {
   "cell_type": "markdown",
   "metadata": {},
   "source": [
    "### Agregações com groupby\n",
    "A operação groupby permite agrupar dados com base em um rótulo ou índice e aplicar uma função de agregação a esses grupos. Por exemplo:"
   ]
  },
  {
   "cell_type": "code",
   "execution_count": 6,
   "metadata": {},
   "outputs": [
    {
     "data": {
      "text/html": [
       "<div>\n",
       "<style scoped>\n",
       "    .dataframe tbody tr th:only-of-type {\n",
       "        vertical-align: middle;\n",
       "    }\n",
       "\n",
       "    .dataframe tbody tr th {\n",
       "        vertical-align: top;\n",
       "    }\n",
       "\n",
       "    .dataframe thead th {\n",
       "        text-align: right;\n",
       "    }\n",
       "</style>\n",
       "<table border=\"1\" class=\"dataframe\">\n",
       "  <thead>\n",
       "    <tr style=\"text-align: right;\">\n",
       "      <th></th>\n",
       "      <th>data</th>\n",
       "    </tr>\n",
       "    <tr>\n",
       "      <th>key</th>\n",
       "      <th></th>\n",
       "    </tr>\n",
       "  </thead>\n",
       "  <tbody>\n",
       "    <tr>\n",
       "      <th>A</th>\n",
       "      <td>3</td>\n",
       "    </tr>\n",
       "    <tr>\n",
       "      <th>B</th>\n",
       "      <td>5</td>\n",
       "    </tr>\n",
       "    <tr>\n",
       "      <th>C</th>\n",
       "      <td>7</td>\n",
       "    </tr>\n",
       "  </tbody>\n",
       "</table>\n",
       "</div>"
      ],
      "text/plain": [
       "     data\n",
       "key      \n",
       "A       3\n",
       "B       5\n",
       "C       7"
      ]
     },
     "metadata": {},
     "output_type": "display_data"
    }
   ],
   "source": [
    "df = pd.DataFrame({'key': ['A', 'B', 'C', 'A', 'B', 'C'], 'data': range(6)})\n",
    "grouped = df.groupby('key')\n",
    "display(grouped.sum())\n"
   ]
  },
  {
   "cell_type": "markdown",
   "metadata": {},
   "source": [
    "### Iteração Sobre Grupos\n",
    "Você pode iterar diretamente sobre os grupos:"
   ]
  },
  {
   "cell_type": "code",
   "execution_count": 7,
   "metadata": {},
   "outputs": [
    {
     "name": "stdout",
     "output_type": "stream",
     "text": [
      "Astrometry                     shape=(2, 6)\n",
      "Eclipse Timing Variations      shape=(9, 6)\n",
      "Imaging                        shape=(38, 6)\n",
      "Microlensing                   shape=(23, 6)\n",
      "Orbital Brightness Modulation  shape=(3, 6)\n",
      "Pulsar Timing                  shape=(5, 6)\n",
      "Pulsation Timing Variations    shape=(1, 6)\n",
      "Radial Velocity                shape=(553, 6)\n",
      "Transit                        shape=(397, 6)\n",
      "Transit Timing Variations      shape=(4, 6)\n"
     ]
    }
   ],
   "source": [
    "for method, group in planets.groupby('method'):\n",
    "    print(\"{0:30s} shape={1}\".format(method, group.shape))\n"
   ]
  },
  {
   "cell_type": "markdown",
   "metadata": {},
   "source": [
    "### Métodos de Despacho\n",
    "Qualquer método não implementado explicitamente pelo GroupBy será passado e chamado nos grupos. Por exemplo, o método describe pode ser usado para descrever cada grupo de dados:"
   ]
  },
  {
   "cell_type": "code",
   "execution_count": 8,
   "metadata": {},
   "outputs": [
    {
     "data": {
      "text/plain": [
       "       method                       \n",
       "count  Astrometry                          2.0\n",
       "       Eclipse Timing Variations           9.0\n",
       "       Imaging                            38.0\n",
       "       Microlensing                       23.0\n",
       "       Orbital Brightness Modulation       3.0\n",
       "                                         ...  \n",
       "max    Pulsar Timing                    2011.0\n",
       "       Pulsation Timing Variations      2007.0\n",
       "       Radial Velocity                  2014.0\n",
       "       Transit                          2014.0\n",
       "       Transit Timing Variations        2014.0\n",
       "Length: 80, dtype: float64"
      ]
     },
     "metadata": {},
     "output_type": "display_data"
    }
   ],
   "source": [
    "display(planets.groupby('method')['year'].describe().unstack())\n"
   ]
  },
  {
   "cell_type": "markdown",
   "metadata": {},
   "source": [
    "# Guia de Estudo: Tabelas Dinâmicas com Pandas\n",
    "\n",
    "## Introdução\n",
    "\n",
    "Tabelas dinâmicas (pivot tables) são uma ferramenta poderosa no Pandas para resumir, agrupar e analisar grandes conjuntos de dados. Elas permitem transformar os dados, agregando-os de diferentes maneiras, facilitando a extração de insights valiosos.\n",
    "\n",
    "## Criação de Tabelas Dinâmicas\n",
    "\n",
    "### Estrutura Básica\n",
    "\n",
    "A função `pivot_table` é usada para criar tabelas dinâmicas no Pandas. A estrutura básica é a seguinte:\n",
    "\n",
    "data: DataFrame que contém os dados.\n",
    "\n",
    "values: Coluna(s) que contém os valores a serem agregados.\n",
    "\n",
    "index: Coluna(s) para usar como índices das linhas.\n",
    "\n",
    "columns: Coluna(s) para usar como cabeçalhos das colunas.\n",
    "\n",
    "aggfunc: Função de agregação (por exemplo, sum, mean, count).\n",
    "\n",
    "Funções de Agregação\n",
    "Agregações Comuns\n",
    "Você pode usar várias funções de agregação além de mean e sum, tais como:\n",
    "\n",
    "count: Contar o número de ocorrências.\n",
    "min: Encontrar o valor mínimo.\n",
    "max: Encontrar o valor máximo.\n",
    "median: Calcular a mediana.\n",
    "std: Calcular o desvio padrão.\n"
   ]
  },
  {
   "cell_type": "code",
   "execution_count": 10,
   "metadata": {},
   "outputs": [
    {
     "data": {
      "text/html": [
       "<div>\n",
       "<style scoped>\n",
       "    .dataframe tbody tr th:only-of-type {\n",
       "        vertical-align: middle;\n",
       "    }\n",
       "\n",
       "    .dataframe tbody tr th {\n",
       "        vertical-align: top;\n",
       "    }\n",
       "\n",
       "    .dataframe thead th {\n",
       "        text-align: right;\n",
       "    }\n",
       "</style>\n",
       "<table border=\"1\" class=\"dataframe\">\n",
       "  <thead>\n",
       "    <tr style=\"text-align: right;\">\n",
       "      <th></th>\n",
       "      <th>method</th>\n",
       "      <th>number</th>\n",
       "      <th>orbital_period</th>\n",
       "      <th>mass</th>\n",
       "      <th>distance</th>\n",
       "      <th>year</th>\n",
       "    </tr>\n",
       "  </thead>\n",
       "  <tbody>\n",
       "    <tr>\n",
       "      <th>0</th>\n",
       "      <td>Radial Velocity</td>\n",
       "      <td>1</td>\n",
       "      <td>269.300</td>\n",
       "      <td>7.10</td>\n",
       "      <td>77.40</td>\n",
       "      <td>2006</td>\n",
       "    </tr>\n",
       "    <tr>\n",
       "      <th>1</th>\n",
       "      <td>Radial Velocity</td>\n",
       "      <td>1</td>\n",
       "      <td>874.774</td>\n",
       "      <td>2.21</td>\n",
       "      <td>56.95</td>\n",
       "      <td>2008</td>\n",
       "    </tr>\n",
       "    <tr>\n",
       "      <th>2</th>\n",
       "      <td>Radial Velocity</td>\n",
       "      <td>1</td>\n",
       "      <td>763.000</td>\n",
       "      <td>2.60</td>\n",
       "      <td>19.84</td>\n",
       "      <td>2011</td>\n",
       "    </tr>\n",
       "    <tr>\n",
       "      <th>3</th>\n",
       "      <td>Radial Velocity</td>\n",
       "      <td>1</td>\n",
       "      <td>326.030</td>\n",
       "      <td>19.40</td>\n",
       "      <td>110.62</td>\n",
       "      <td>2007</td>\n",
       "    </tr>\n",
       "    <tr>\n",
       "      <th>4</th>\n",
       "      <td>Radial Velocity</td>\n",
       "      <td>1</td>\n",
       "      <td>516.220</td>\n",
       "      <td>10.50</td>\n",
       "      <td>119.47</td>\n",
       "      <td>2009</td>\n",
       "    </tr>\n",
       "  </tbody>\n",
       "</table>\n",
       "</div>"
      ],
      "text/plain": [
       "            method  number  orbital_period   mass  distance  year\n",
       "0  Radial Velocity       1         269.300   7.10     77.40  2006\n",
       "1  Radial Velocity       1         874.774   2.21     56.95  2008\n",
       "2  Radial Velocity       1         763.000   2.60     19.84  2011\n",
       "3  Radial Velocity       1         326.030  19.40    110.62  2007\n",
       "4  Radial Velocity       1         516.220  10.50    119.47  2009"
      ]
     },
     "metadata": {},
     "output_type": "display_data"
    }
   ],
   "source": [
    "planets = sns.load_dataset('planets')\n",
    "display(planets.head())"
   ]
  },
  {
   "cell_type": "code",
   "execution_count": 12,
   "metadata": {},
   "outputs": [
    {
     "name": "stdout",
     "output_type": "stream",
     "text": [
      "\n",
      "Tabela dinâmica - Número de planetas descobertos por ano e método de descoberta:\n",
      "method  Astrometry  Eclipse Timing Variations  Imaging  Microlensing  \\\n",
      "year                                                                   \n",
      "1989             0                          0        0             0   \n",
      "1992             0                          0        0             0   \n",
      "1994             0                          0        0             0   \n",
      "1995             0                          0        0             0   \n",
      "1996             0                          0        0             0   \n",
      "1997             0                          0        0             0   \n",
      "1998             0                          0        0             0   \n",
      "1999             0                          0        0             0   \n",
      "2000             0                          0        0             0   \n",
      "2001             0                          0        0             0   \n",
      "2002             0                          0        0             0   \n",
      "2003             0                          0        0             0   \n",
      "2004             0                          0        3             1   \n",
      "2005             0                          0        1             2   \n",
      "2006             0                          0        4             1   \n",
      "2007             0                          0        1             0   \n",
      "2008             0                          2        8             4   \n",
      "2009             0                          1        3             2   \n",
      "2010             1                          2        6             2   \n",
      "2011             0                          3        3             1   \n",
      "2012             0                          1        2             6   \n",
      "2013             1                          0        7             4   \n",
      "2014             0                          0        0             0   \n",
      "\n",
      "method  Orbital Brightness Modulation  Pulsar Timing  \\\n",
      "year                                                   \n",
      "1989                                0              0   \n",
      "1992                                0              2   \n",
      "1994                                0              1   \n",
      "1995                                0              0   \n",
      "1996                                0              0   \n",
      "1997                                0              0   \n",
      "1998                                0              0   \n",
      "1999                                0              0   \n",
      "2000                                0              0   \n",
      "2001                                0              0   \n",
      "2002                                0              0   \n",
      "2003                                0              1   \n",
      "2004                                0              0   \n",
      "2005                                0              0   \n",
      "2006                                0              0   \n",
      "2007                                0              0   \n",
      "2008                                0              0   \n",
      "2009                                0              0   \n",
      "2010                                0              0   \n",
      "2011                                2              1   \n",
      "2012                                0              0   \n",
      "2013                                1              0   \n",
      "2014                                0              0   \n",
      "\n",
      "method  Pulsation Timing Variations  Radial Velocity  Transit  \\\n",
      "year                                                            \n",
      "1989                              0                1        0   \n",
      "1992                              0                0        0   \n",
      "1994                              0                0        0   \n",
      "1995                              0                1        0   \n",
      "1996                              0                6        0   \n",
      "1997                              0                1        0   \n",
      "1998                              0                5        0   \n",
      "1999                              0               15        0   \n",
      "2000                              0               16        0   \n",
      "2001                              0               12        0   \n",
      "2002                              0               31        1   \n",
      "2003                              0               24        0   \n",
      "2004                              0               17        5   \n",
      "2005                              0               36        0   \n",
      "2006                              0               21        5   \n",
      "2007                              1               35       16   \n",
      "2008                              0               43       17   \n",
      "2009                              0               74       18   \n",
      "2010                              0               43       48   \n",
      "2011                              0               94       80   \n",
      "2012                              0               38       92   \n",
      "2013                              0               29       75   \n",
      "2014                              0               11       40   \n",
      "\n",
      "method  Transit Timing Variations  \n",
      "year                               \n",
      "1989                            0  \n",
      "1992                            0  \n",
      "1994                            0  \n",
      "1995                            0  \n",
      "1996                            0  \n",
      "1997                            0  \n",
      "1998                            0  \n",
      "1999                            0  \n",
      "2000                            0  \n",
      "2001                            0  \n",
      "2002                            0  \n",
      "2003                            0  \n",
      "2004                            0  \n",
      "2005                            0  \n",
      "2006                            0  \n",
      "2007                            0  \n",
      "2008                            0  \n",
      "2009                            0  \n",
      "2010                            0  \n",
      "2011                            1  \n",
      "2012                            1  \n",
      "2013                            1  \n",
      "2014                            1  \n"
     ]
    }
   ],
   "source": [
    "# Criando uma tabela dinâmica para analisar o número de planetas descobertos por ano e método de descoberta\n",
    "pivot_table = planets.pivot_table(\n",
    "    values='number',\n",
    "    index='year',\n",
    "    columns='method',\n",
    "    aggfunc='count',\n",
    "    fill_value=0\n",
    ")\n",
    "print(\"\\nTabela dinâmica - Número de planetas descobertos por ano e método de descoberta:\")\n",
    "print(pivot_table)"
   ]
  },
  {
   "cell_type": "code",
   "execution_count": 13,
   "metadata": {},
   "outputs": [
    {
     "name": "stdout",
     "output_type": "stream",
     "text": [
      "\n",
      "Tabela dinâmica - Média da massa dos planetas por método de descoberta:\n",
      "                               mass\n",
      "method                             \n",
      "Eclipse Timing Variations  5.125000\n",
      "Radial Velocity            2.630699\n",
      "Transit                    1.470000\n"
     ]
    }
   ],
   "source": [
    "# Criando uma tabela dinâmica para analisar a média da massa dos planetas por método de descoberta\n",
    "pivot_table_mass = planets.pivot_table(\n",
    "    values='mass',\n",
    "    index='method',\n",
    "    aggfunc='mean'\n",
    ")\n",
    "print(\"\\nTabela dinâmica - Média da massa dos planetas por método de descoberta:\")\n",
    "print(pivot_table_mass)"
   ]
  },
  {
   "cell_type": "code",
   "execution_count": 14,
   "metadata": {},
   "outputs": [
    {
     "name": "stdout",
     "output_type": "stream",
     "text": [
      "\n",
      "Tabela dinâmica com a coluna de total de descobertas por ano:\n",
      "method  Astrometry  Eclipse Timing Variations  Imaging  Microlensing  \\\n",
      "year                                                                   \n",
      "1989             0                          0        0             0   \n",
      "1992             0                          0        0             0   \n",
      "1994             0                          0        0             0   \n",
      "1995             0                          0        0             0   \n",
      "1996             0                          0        0             0   \n",
      "1997             0                          0        0             0   \n",
      "1998             0                          0        0             0   \n",
      "1999             0                          0        0             0   \n",
      "2000             0                          0        0             0   \n",
      "2001             0                          0        0             0   \n",
      "2002             0                          0        0             0   \n",
      "2003             0                          0        0             0   \n",
      "2004             0                          0        3             1   \n",
      "2005             0                          0        1             2   \n",
      "2006             0                          0        4             1   \n",
      "2007             0                          0        1             0   \n",
      "2008             0                          2        8             4   \n",
      "2009             0                          1        3             2   \n",
      "2010             1                          2        6             2   \n",
      "2011             0                          3        3             1   \n",
      "2012             0                          1        2             6   \n",
      "2013             1                          0        7             4   \n",
      "2014             0                          0        0             0   \n",
      "\n",
      "method  Orbital Brightness Modulation  Pulsar Timing  \\\n",
      "year                                                   \n",
      "1989                                0              0   \n",
      "1992                                0              2   \n",
      "1994                                0              1   \n",
      "1995                                0              0   \n",
      "1996                                0              0   \n",
      "1997                                0              0   \n",
      "1998                                0              0   \n",
      "1999                                0              0   \n",
      "2000                                0              0   \n",
      "2001                                0              0   \n",
      "2002                                0              0   \n",
      "2003                                0              1   \n",
      "2004                                0              0   \n",
      "2005                                0              0   \n",
      "2006                                0              0   \n",
      "2007                                0              0   \n",
      "2008                                0              0   \n",
      "2009                                0              0   \n",
      "2010                                0              0   \n",
      "2011                                2              1   \n",
      "2012                                0              0   \n",
      "2013                                1              0   \n",
      "2014                                0              0   \n",
      "\n",
      "method  Pulsation Timing Variations  Radial Velocity  Transit  \\\n",
      "year                                                            \n",
      "1989                              0                1        0   \n",
      "1992                              0                0        0   \n",
      "1994                              0                0        0   \n",
      "1995                              0                1        0   \n",
      "1996                              0                6        0   \n",
      "1997                              0                1        0   \n",
      "1998                              0                5        0   \n",
      "1999                              0               15        0   \n",
      "2000                              0               16        0   \n",
      "2001                              0               12        0   \n",
      "2002                              0               31        1   \n",
      "2003                              0               24        0   \n",
      "2004                              0               17        5   \n",
      "2005                              0               36        0   \n",
      "2006                              0               21        5   \n",
      "2007                              1               35       16   \n",
      "2008                              0               43       17   \n",
      "2009                              0               74       18   \n",
      "2010                              0               43       48   \n",
      "2011                              0               94       80   \n",
      "2012                              0               38       92   \n",
      "2013                              0               29       75   \n",
      "2014                              0               11       40   \n",
      "\n",
      "method  Transit Timing Variations  Total Discoveries  \n",
      "year                                                  \n",
      "1989                            0                  1  \n",
      "1992                            0                  2  \n",
      "1994                            0                  1  \n",
      "1995                            0                  1  \n",
      "1996                            0                  6  \n",
      "1997                            0                  1  \n",
      "1998                            0                  5  \n",
      "1999                            0                 15  \n",
      "2000                            0                 16  \n",
      "2001                            0                 12  \n",
      "2002                            0                 32  \n",
      "2003                            0                 25  \n",
      "2004                            0                 26  \n",
      "2005                            0                 39  \n",
      "2006                            0                 31  \n",
      "2007                            0                 53  \n",
      "2008                            0                 74  \n",
      "2009                            0                 98  \n",
      "2010                            0                102  \n",
      "2011                            1                185  \n",
      "2012                            1                140  \n",
      "2013                            1                118  \n",
      "2014                            1                 52  \n"
     ]
    }
   ],
   "source": [
    "# Adicionando uma coluna de total de descobertas por ano\n",
    "pivot_table['Total Discoveries'] = pivot_table.sum(axis=1)\n",
    "\n",
    "print(\"\\nTabela dinâmica com a coluna de total de descobertas por ano:\")\n",
    "print(pivot_table)"
   ]
  },
  {
   "cell_type": "code",
   "execution_count": 15,
   "metadata": {},
   "outputs": [
    {
     "data": {
      "image/png": "[encoded data removed]",
      "text/plain": [
       "<Figure size 1400x700 with 1 Axes>"
      ]
     },
     "metadata": {},
     "output_type": "display_data"
    }
   ],
   "source": [
    "# Visualizando a tabela dinâmica usando matplotlib\n",
    "import matplotlib.pyplot as plt\n",
    "\n",
    "pivot_table.plot(kind='bar', stacked=True, figsize=(14, 7))\n",
    "plt.title('Número de planetas descobertos por ano e método de descoberta')\n",
    "plt.xlabel('Ano')\n",
    "plt.ylabel('Número de planetas descobertos')\n",
    "plt.legend(title='Método de Descoberta')\n",
    "plt.show()"
   ]
  },
  {
   "cell_type": "markdown",
   "metadata": {},
   "source": [
    "# Resumo sobre Operações de Strings Vetorizadas com Pandas"
   ]
  },
  {
   "cell_type": "markdown",
   "metadata": {},
   "source": [
    "\n",
    "Uma das forças do Python é sua facilidade em lidar e manipular dados de string. O Pandas aprimora isso ao fornecer um conjunto abrangente de operações de string vetorizadas que são essenciais para a limpeza de dados do mundo real.\n",
    "\n",
    "### Operações de String com Pandas\n",
    "Criação de Séries de String\n",
    "Podemos criar uma série de dados de string da seguinte forma:"
   ]
  },
  {
   "cell_type": "code",
   "execution_count": 1,
   "metadata": {},
   "outputs": [
    {
     "name": "stdout",
     "output_type": "stream",
     "text": [
      "0    peter\n",
      "1     Paul\n",
      "2     MARY\n",
      "3    gUIDO\n",
      "dtype: object\n"
     ]
    }
   ],
   "source": [
    "import pandas as pd\n",
    "data = ['peter', 'Paul', 'MARY', 'gUIDO']\n",
    "names = pd.Series(data)\n",
    "print(names)\n"
   ]
  },
  {
   "cell_type": "markdown",
   "metadata": {},
   "source": [
    "### Capitalização\n",
    "Para capitalizar todas as entradas, ignorando valores nulos:"
   ]
  },
  {
   "cell_type": "code",
   "execution_count": 2,
   "metadata": {},
   "outputs": [
    {
     "name": "stdout",
     "output_type": "stream",
     "text": [
      "0    Peter\n",
      "1     Paul\n",
      "2     Mary\n",
      "3    Guido\n",
      "dtype: object\n"
     ]
    }
   ],
   "source": [
    "capitalized_names = names.str.capitalize()\n",
    "print(capitalized_names)\n"
   ]
  },
  {
   "cell_type": "markdown",
   "metadata": {},
   "source": [
    "### Métodos de String Vetorizados no Pandas\n",
    "Métodos Semelhantes aos do Python\n",
    "Os métodos de string do Pandas espelham muitos métodos de string do Python:\n",
    "\n",
    "lower(): Converte para minúsculas\n",
    "\n",
    "upper(): Converte para maiúsculas\n",
    "\n",
    "len(): Retorna o comprimento das strings\n",
    "\n",
    "startswith(): Verifica se a string começa com um padrão específico"
   ]
  },
  {
   "cell_type": "code",
   "execution_count": 3,
   "metadata": {},
   "outputs": [
    {
     "name": "stdout",
     "output_type": "stream",
     "text": [
      "0    peter\n",
      "1     paul\n",
      "2     mary\n",
      "3    guido\n",
      "dtype: object\n",
      "0    5\n",
      "1    4\n",
      "2    4\n",
      "3    5\n",
      "dtype: int64\n",
      "0    False\n",
      "1    False\n",
      "2    False\n",
      "3    False\n",
      "dtype: bool\n"
     ]
    }
   ],
   "source": [
    "print(names.str.lower())\n",
    "print(names.str.len())\n",
    "print(names.str.startswith('T'))\n"
   ]
  },
  {
   "cell_type": "markdown",
   "metadata": {},
   "source": [
    "### Métodos Usando Expressões Regulares\n",
    "Pandas também fornece métodos que aceitam expressões regulares:\n",
    "\n",
    "match(): Aplica re.match()\n",
    "\n",
    "extract(): Extrai grupos correspondentes\n",
    "\n",
    "findall(): Aplica re.findall()\n",
    "\n",
    "replace(): Substitui ocorrências do padrão\n",
    "\n",
    "contains(): Verifica se contém o padrão\n",
    "\n",
    "split(): Divide a string"
   ]
  },
  {
   "cell_type": "code",
   "execution_count": 4,
   "metadata": {},
   "outputs": [
    {
     "name": "stdout",
     "output_type": "stream",
     "text": [
      "         0\n",
      "0   Graham\n",
      "1     John\n",
      "2    Terry\n",
      "3     Eric\n",
      "4    Terry\n",
      "5  Michael\n"
     ]
    }
   ],
   "source": [
    "monte = pd.Series(['Graham Chapman', 'John Cleese', 'Terry Gilliam', 'Eric Idle', 'Terry Jones', 'Michael Palin'])\n",
    "first_names = monte.str.extract('([A-Za-z]+)')\n",
    "print(first_names)\n"
   ]
  }
 ],
 "metadata": {
  "kernelspec": {
   "display_name": "Python 3",
   "language": "python",
   "name": "python3"
  },
  "language_info": {
   "codemirror_mode": {
    "name": "ipython",
    "version": 3
   },
   "file_extension": ".py",
   "mimetype": "text/x-python",
   "name": "python",
   "nbconvert_exporter": "python",
   "pygments_lexer": "ipython3",
   "version": "3.12.4"
  }
 },
 "nbformat": 4,
 "nbformat_minor": 2
}
