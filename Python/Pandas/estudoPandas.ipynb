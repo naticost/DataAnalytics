{
 "cells": [
  {
   "cell_type": "markdown",
   "metadata": {},
   "source": [
    "Você pode imaginar uma Series do Pandas como uma versão especializada de um dicionário do Python. Enquanto um dicionário mapeia chaves arbitrárias para valores arbitrários, uma Series mapeia chaves e valores com tipos específicos. Essa tipagem é crucial: assim como os arrays do NumPy são mais eficientes que listas do Python devido à tipagem, a Series do Pandas é muito mais eficiente que dicionários do Python para certas operações devido às suas informações de tipo."
   ]
  },
  {
   "cell_type": "markdown",
   "metadata": {},
   "source": [
    "###   pd . Série ( dados ,  índice = índice )"
   ]
  },
  {
   "cell_type": "markdown",
   "metadata": {},
   "source": [
    "### O objeto Pandas DataFrame \n",
    "DataFrame pode ser pensado como uma generalização de um array NumPy ou como uma especialização de um dicionário Python."
   ]
  },
  {
   "cell_type": "markdown",
   "metadata": {},
   "source": [
    "### Alinhamento de Índice no DataFrame\n",
    "\n",
    "Um tipo semelhante de alinhamento ocorre para colunas e índices ao realizar operações em DataFrames:"
   ]
  },
  {
   "cell_type": "code",
   "execution_count": 5,
   "metadata": {},
   "outputs": [
    {
     "name": "stdout",
     "output_type": "stream",
     "text": [
      "DataFrame A:\n",
      "    A  B\n",
      "0   8  6\n",
      "1  11  0\n",
      "\n",
      "DataFrame B:\n",
      "   B  A  C\n",
      "0  2  4  3\n",
      "1  8  2  3\n",
      "2  6  3  8\n"
     ]
    }
   ],
   "source": [
    "import numpy as np\n",
    "import pandas as pd\n",
    "\n",
    "# Gerando dados aleatórios para os DataFrames\n",
    "rng = np.random.default_rng()\n",
    "A = pd.DataFrame(rng.integers(0, 20, (2, 2)), columns=list('AB'))\n",
    "B = pd.DataFrame(rng.integers(0, 10, (3, 3)), columns=list('BAC'))\n",
    "\n",
    "print(\"DataFrame A:\")\n",
    "print(A)\n",
    "\n",
    "print(\"\\nDataFrame B:\")\n",
    "print(B)\n"
   ]
  },
  {
   "cell_type": "code",
   "execution_count": 6,
   "metadata": {},
   "outputs": [
    {
     "name": "stdout",
     "output_type": "stream",
     "text": [
      "\n",
      "Resultado de A + B:\n",
      "      A    B   C\n",
      "0  12.0  8.0 NaN\n",
      "1  13.0  8.0 NaN\n",
      "2   NaN  NaN NaN\n"
     ]
    }
   ],
   "source": [
    "result = A + B\n",
    "print(\"\\nResultado de A + B:\")\n",
    "print(result)\n"
   ]
  },
  {
   "cell_type": "markdown",
   "metadata": {},
   "source": [
    "### Alinhamento de Índices\n",
    "Os índices e colunas são alinhados automaticamente. Se um índice ou coluna não existe em ambos os DataFrames, o resultado será NaN."
   ]
  },
  {
   "cell_type": "markdown",
   "metadata": {},
   "source": [
    "### Preenchendo Valores Faltantes\n",
    "Se não quisermos NaN para valores faltantes, podemos usar o método add e especificar um valor de preenchimento (fill_value):"
   ]
  },
  {
   "cell_type": "code",
   "execution_count": 7,
   "metadata": {},
   "outputs": [
    {
     "name": "stdout",
     "output_type": "stream",
     "text": [
      "\n",
      "Resultado de A.add(B, fill_value=fill_value):\n",
      "       A      B      C\n",
      "0  12.00   8.00   9.25\n",
      "1  13.00   8.00   9.25\n",
      "2   9.25  12.25  14.25\n"
     ]
    }
   ],
   "source": [
    "fill_value = A.stack().mean()  # Calculando a média dos valores em A\n",
    "result_fill = A.add(B, fill_value=fill_value)\n",
    "print(\"\\nResultado de A.add(B, fill_value=fill_value):\")\n",
    "print(result_fill)\n"
   ]
  },
  {
   "cell_type": "markdown",
   "metadata": {},
   "source": [
    "### O Pandas facilita operações entre DataFrames, alinhando automaticamente os índices e colunas. Podemos evitar NaNs resultantes de alinhamentos usando o método add com fill_value."
   ]
  },
  {
   "cell_type": "markdown",
   "metadata": {},
   "source": [
    "### None: Dados Ausentes no Pandas\n",
    "O Pandas usa None, um objeto do Python, para representar dados ausentes. No entanto, None só pode ser usado em arrays de objetos (dtype=object). Vamos ver como isso funciona na prática e entender suas implicações.\n",
    "\n",
    "Exemplo com None\n",
    "Vamos criar um array do NumPy contendo None e observar o comportamento:"
   ]
  },
  {
   "cell_type": "code",
   "execution_count": 8,
   "metadata": {},
   "outputs": [
    {
     "name": "stdout",
     "output_type": "stream",
     "text": [
      "[1 None 3 4]\n"
     ]
    }
   ],
   "source": [
    "import numpy as np\n",
    "\n",
    "# Criando um array do NumPy com valores ausentes (None)\n",
    "vals1 = np.array([1, None, 3, 4])\n",
    "print(vals1)\n"
   ]
  },
  {
   "cell_type": "markdown",
   "metadata": {},
   "source": [
    "O dtype=object significa que o NumPy identificou que os elementos do array são objetos Python (como None), e não números comuns como inteiros ou floats.\n",
    "\n",
    "O que significa dtype=object?\n",
    "Representação de Objetos Python:\n",
    "\n",
    "dtype=object indica que o array pode conter qualquer tipo de objeto Python, como números, strings, ou até mesmo None.\n",
    "Isso é útil quando você precisa misturar diferentes tipos de dados em um array.\n",
    "Desempenho mais lento:\n",
    "\n",
    "Arrays de objetos (dtype=object) são mais lentos do que arrays de tipos nativos do NumPy (como int ou float), porque as operações são realizadas no nível do Python, o que envolve mais processamento.\n",
    "Veja a comparação de desempenho abaixo:"
   ]
  },
  {
   "cell_type": "code",
   "execution_count": 9,
   "metadata": {},
   "outputs": [
    {
     "name": "stdout",
     "output_type": "stream",
     "text": [
      "dtype=object\n",
      "63.6 ms ± 3.45 ms per loop (mean ± std. dev. of 7 runs, 10 loops each)\n",
      "\n",
      "dtype=int\n",
      "2.7 ms ± 370 μs per loop (mean ± std. dev. of 7 runs, 100 loops each)\n",
      "\n"
     ]
    }
   ],
   "source": [
    "# Comparação de desempenho entre arrays de objetos e arrays de inteiros\n",
    "for dtype in ['object', 'int']:\n",
    "    print(f\"dtype={dtype}\")\n",
    "    %timeit np.arange(1E6, dtype=dtype).sum()\n",
    "    print()\n"
   ]
  },
  {
   "cell_type": "markdown",
   "metadata": {},
   "source": [
    "### NaN: Representação de Dados Ausentes Numéricos\n",
    "O NaN (Not a Number) é uma forma comum de representar dados ausentes em contextos numéricos. É um valor especial de ponto flutuante reconhecido por sistemas que utilizam a representação de ponto flutuante padrão IEEE.\n",
    "\n",
    "Exemplo com NaN\n",
    "Vamos criar um array do NumPy com NaN e ver como ele é tratado:"
   ]
  },
  {
   "cell_type": "code",
   "execution_count": 10,
   "metadata": {},
   "outputs": [
    {
     "name": "stdout",
     "output_type": "stream",
     "text": [
      "[ 1. nan  3.  4.]\n",
      "Tipo de dados: float64\n"
     ]
    }
   ],
   "source": [
    "import numpy as np\n",
    "\n",
    "# Criando um array do NumPy com NaN\n",
    "vals2 = np.array([1, np.nan, 3, 4])\n",
    "print(vals2)\n",
    "print(\"Tipo de dados:\", vals2.dtype)\n"
   ]
  },
  {
   "cell_type": "markdown",
   "metadata": {},
   "source": [
    "### Comportamento do NaN\n",
    "Operações com NaN: Quando você realiza operações com NaN, o resultado geralmente será NaN. Isso pode ser problemático, pois NaN se comporta como um \"vírus de dados\" que se propaga:"
   ]
  },
  {
   "cell_type": "code",
   "execution_count": 11,
   "metadata": {},
   "outputs": [
    {
     "name": "stdout",
     "output_type": "stream",
     "text": [
      "nan\n",
      "nan\n"
     ]
    }
   ],
   "source": [
    "print(1 + np.nan)  # Resulta em NaN\n",
    "print(0 * np.nan)  # Resulta em NaN\n"
   ]
  },
  {
   "cell_type": "markdown",
   "metadata": {},
   "source": [
    "Agregações com NaN: As funções padrão de agregação, como soma, mínimo e máximo, também retornam NaN se o array contiver NaN:"
   ]
  },
  {
   "cell_type": "code",
   "execution_count": 12,
   "metadata": {},
   "outputs": [
    {
     "name": "stdout",
     "output_type": "stream",
     "text": [
      "nan\n",
      "nan\n",
      "nan\n"
     ]
    }
   ],
   "source": [
    "print(vals2.sum())  # Resulta em NaN\n",
    "print(vals2.min())  # Resulta em NaN\n",
    "print(vals2.max())  # Resulta em NaN\n"
   ]
  },
  {
   "cell_type": "markdown",
   "metadata": {},
   "source": [
    "Funções específicas para NaN: O NumPy oferece funções que ignoram NaN ao realizar agregações:"
   ]
  },
  {
   "cell_type": "code",
   "execution_count": null,
   "metadata": {},
   "outputs": [],
   "source": [
    "print(np.nansum(vals2))  # Soma ignorando NaN: 8.0\n",
    "print(np.nanmin(vals2))  # Mínimo ignorando NaN: 1.0\n",
    "print(np.nanmax(vals2))  # Máximo ignorando NaN: 4.0\n"
   ]
  },
  {
   "cell_type": "markdown",
   "metadata": {},
   "source": [
    "### O Pandas é projetado para lidar com NaN e None, tratando-os de maneira semelhante:"
   ]
  },
  {
   "cell_type": "code",
   "execution_count": 13,
   "metadata": {},
   "outputs": [
    {
     "name": "stdout",
     "output_type": "stream",
     "text": [
      "0    1.0\n",
      "1    NaN\n",
      "2    2.0\n",
      "3    NaN\n",
      "dtype: float64\n"
     ]
    }
   ],
   "source": [
    "import pandas as pd\n",
    "\n",
    "# Criando uma Série do Pandas com NaN e None\n",
    "s = pd.Series([1, np.nan, 2, None])\n",
    "print(s)\n"
   ]
  },
  {
   "cell_type": "markdown",
   "metadata": {},
   "source": [
    " Conversão de Tipo: Quando um valor NaN é inserido em uma Série de inteiros, o Pandas converte automaticamente o tipo para float64:\n",
    "\n",
    "\n",
    " Isso ocorre porque o None é convertido para NaN, que é um tipo de ponto flutuante."
   ]
  },
  {
   "cell_type": "code",
   "execution_count": 14,
   "metadata": {},
   "outputs": [
    {
     "name": "stdout",
     "output_type": "stream",
     "text": [
      "0    0\n",
      "1    1\n",
      "dtype: int32\n",
      "0    NaN\n",
      "1    1.0\n",
      "dtype: float64\n"
     ]
    }
   ],
   "source": [
    "x = pd.Series(range(2), dtype=int)\n",
    "print(x)\n",
    "\n",
    "x[0] = None\n",
    "print(x)\n"
   ]
  }
 ],
 "metadata": {
  "kernelspec": {
   "display_name": "Python 3",
   "language": "python",
   "name": "python3"
  },
  "language_info": {
   "codemirror_mode": {
    "name": "ipython",
    "version": 3
   },
   "file_extension": ".py",
   "mimetype": "text/x-python",
   "name": "python",
   "nbconvert_exporter": "python",
   "pygments_lexer": "ipython3",
   "version": "3.11.9"
  }
 },
 "nbformat": 4,
 "nbformat_minor": 2
}
